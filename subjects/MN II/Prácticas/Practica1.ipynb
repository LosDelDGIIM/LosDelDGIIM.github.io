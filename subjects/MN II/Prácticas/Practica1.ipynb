{
 "cells": [
  {
   "cell_type": "markdown",
   "id": "abaa2827",
   "metadata": {},
   "source": [
    "# Métodos Numéricos II. Práctica 1.\n",
    "\n",
    "**Autor:** Arturo Olivares Martos\n",
    "***\n",
    "\n",
    "- **Asignatura:** Métodos Numéricos II.\n",
    "- **Curso Académico:** 2024-25.\n",
    "- **Grado:** Doble Grado en Ingeniería Informática y Matemáticas.\n",
    "- **Grupo:** Único.\n",
    "- **Profesor:** Juan Antonio Villegas Recio\n",
    "- **Descripción:** Práctica 1 de la asignatura Métodos Numéricos II.\n",
    "<!--- **Fecha:** 17 de abril de 2023. -->\n",
    "<!-- - **Duración:** -->"
   ]
  },
  {
   "cell_type": "markdown",
   "id": "202fbda9",
   "metadata": {},
   "source": [
    "En primer lugar, importamos las librerías necesarias para la práctica."
   ]
  },
  {
   "cell_type": "code",
   "execution_count": 133,
   "id": "90ff582d",
   "metadata": {},
   "outputs": [],
   "source": [
    "import numpy as np\n",
    "from numpy import sign\n",
    "import sympy as sp\n",
    "%matplotlib inline\n",
    "import matplotlib.pyplot as plt\n",
    "from decimal import *"
   ]
  },
  {
   "cell_type": "markdown",
   "id": "dfdb23ce",
   "metadata": {},
   "source": [
    "Introducimos a continuación los valores máximos de iteraciones, toleracia, y precisión, que serán los que se tomen por defecto."
   ]
  },
  {
   "cell_type": "code",
   "execution_count": 134,
   "id": "d29d351a",
   "metadata": {},
   "outputs": [],
   "source": [
    "nmax = 1e3\n",
    "prec = 1e-28\n",
    "tol = 1e-16"
   ]
  },
  {
   "cell_type": "markdown",
   "id": "f8a33a70",
   "metadata": {},
   "source": [
    "## Ejercicio 1\n"
   ]
  },
  {
   "cell_type": "markdown",
   "id": "3a8a39ad",
   "metadata": {},
   "source": [
    "> **Ejercicio 1.** Teniendo en cuenta la recomendación explicada sobre los criterios de parada, codifica una función similar a la explicada en el método de bisección para el método de la secante.\n",
    "> \n",
    "> Aproxima la raíz de la función $f(x)=e^x-3$:\n",
    "> * Cambiando la precisión a 5 cifras significativas.\n",
    "> * Con la precisión por defecto y aproximando la raíz con 28 cifras significativas."
   ]
  },
  {
   "cell_type": "markdown",
   "id": "d431c65e",
   "metadata": {},
   "source": [
    "Para todos los métodos que definamos, seguiremos el mismo patrón. Devolveremos una tupla con tres valores:\n",
    "1. La aproximación de la raíz.\n",
    "2. El número de iteraciones empleadas.\n",
    "3. El criterio de parada que se ha alcanzado.\n",
    "\n",
    "Para poder sacar una salida legible para el usuario, definimos la siguiente función, que nos permitirá imprimir el resultado de una manera más cómoda."
   ]
  },
  {
   "cell_type": "code",
   "execution_count": 135,
   "id": "8ee0bb24",
   "metadata": {},
   "outputs": [],
   "source": [
    "def salida(x, niter, exit):\n",
    "    \"\"\"Imprime el resultado de la aproximación de la raíz.\n",
    "\n",
    "    Args:\n",
    "        x (float): Aproximación de la raíz.\n",
    "        niter (int): Número de iteraciones realizadas.\n",
    "        exit (str): Motivo de salida del bucle.\n",
    "    \"\"\"\n",
    "    print(f\"Numero de iteraciones: {niter}\")\n",
    "    if exit == 'precision':\n",
    "        print(f\"Posible solución exacta: {x}\")\n",
    "    elif exit == 'tolerancia':\n",
    "        print(f\"Aproximación solicitada: {x}\")\n",
    "    elif exit == 'denominador cero':\n",
    "        print(\"El denominador se volvió cero, no se puede continuar.\")\n",
    "        print(f\"Última aproximación: {x}\")\n",
    "    elif exit == 'iteraciones':\n",
    "        print(\"Se alcanzó el número máximo de iteraciones.\")\n",
    "        print(f\"Última aproximación: {x}\")"
   ]
  },
  {
   "cell_type": "markdown",
   "metadata": {},
   "source": [
    "Definimos ahora la función $f(x)=e^x-3$, que es la que buscaremos aproximar en los primeros ejemplos. Puesto que se trata de aproximaciones de cálculo numérico, emplearemos la versión de la exponencial que nos proporciona la librería de Python `numpy`."
   ]
  },
  {
   "cell_type": "code",
   "execution_count": 136,
   "metadata": {},
   "outputs": [],
   "source": [
    "def f(x):\n",
    "    \"\"\"\n",
    "    Función para calcular numéricamente $f(x) = e^x - 3$.\n",
    "    \"\"\"\n",
    "    return np.exp(x) - 3"
   ]
  },
  {
   "cell_type": "markdown",
   "id": "78f2188f",
   "metadata": {},
   "source": [
    "Por su uso en varios ejercicios, dibujaremos esta función para poder conocer intuitivamente su comportamiento. Para ello, en primer lugar definimos una función que nos permita graficar la función $f(x)$ de forma general. Previamente definiremos una función que, dado una función de Python `f` que represente una función matemática, nos proporciona la expresión de la función formateada para $\\LaTeX$, algo útil para los títulos de los gráficos."
   ]
  },
  {
   "cell_type": "code",
   "execution_count": 137,
   "id": "b23a64c6",
   "metadata": {},
   "outputs": [],
   "source": [
    "import inspect\n",
    "import re\n",
    "\n",
    "\n",
    "def obtener_funcion(f):\n",
    "    \"\"\"\n",
    "    Obtiene la función como string a partir de su definición.\n",
    "\n",
    "    Args:\n",
    "        f (function): Función a convertir a string.\n",
    "    Returns:\n",
    "        str: Representación en string de la función.\n",
    "    \"\"\"\n",
    "\n",
    "    source = inspect.getsource(f)\n",
    "    expression = source.split('return')[1].strip()\n",
    "\n",
    "    # Si pone NewtonHorner, se trata de un polinomio\n",
    "    if 'NewtonHorner' in expression:\n",
    "        coefs = expression.split('[')[1].split(']')[0].split(',')\n",
    "        # Invertimos los coeficientes para que el último sea el de mayor grado\n",
    "        coefs = coefs[::-1]\n",
    "        expression = \"\"\n",
    "        for i in range(len(coefs)):\n",
    "            if coefs[i] != '0':\n",
    "                coef = coefs[i]\n",
    "                if coef == '1' or coef == '-1':\n",
    "                    coef = ''\n",
    "                if i == 0:\n",
    "                    expression = f\"{coef}\" + expression\n",
    "                elif i == 1:\n",
    "                    expression = f\"{coef}x\" + expression\n",
    "                else:\n",
    "                    expression = f\"{coef}x^({i})\" + expression\n",
    "\n",
    "                # Poner un signo + o - entre los términos si no los lleva ya\n",
    "                if i != len(coefs) - 1:\n",
    "                    if expression[0] != '-' and expression[0] != '+':\n",
    "                        if sign(float(coefs[i])) == 1:\n",
    "                            expression = f\"+ {expression}\"\n",
    "                        else:\n",
    "                            expression = f\"- {expression}\"\n",
    "        \n",
    "\n",
    "\n",
    "\n",
    "    # Resto, necesario para los que no son polinomios\n",
    "    expression = expression.replace('(', '{')\n",
    "    expression = expression.replace(')', '}')\n",
    "    expression = expression.replace('{{', '\\\\left(')\n",
    "    expression = expression.replace('}}', '\\\\right)')\n",
    "    expression = expression.replace('**', '^')\n",
    "    expression = expression.replace('*', '\\\\cdot ')\n",
    "    expression = expression.replace('np.exp', 'e^')\n",
    "    expression = expression.replace('np.cos', '\\\\cos ')\n",
    "    expression = expression.replace('np.sin', '\\\\sin ')\n",
    "    expression = expression.replace('np.pi', '\\\\pi ')\n",
    "\n",
    "    #{algo}/{algo} se convierte en \\frac{algo}{algo}\n",
    "    expression = re.sub(r'{([^{}]+)}/{([^{}]+)}', r'\\\\frac{\\1}{\\2}', expression)\n",
    "\n",
    "\n",
    "    return expression"
   ]
  },
  {
   "cell_type": "code",
   "execution_count": 138,
   "id": "eb01a5f9",
   "metadata": {},
   "outputs": [],
   "source": [
    "def dibuja_funcion(f, a=-1, b=1, numpuntos=1000, titulo=True, forzar_ejeX_0=False, forzar_ejeY_0=False, Y_X=False):\n",
    "    \"\"\"\n",
    "    Dibuja la función f(x) en el intervalo [a, b].\n",
    "\n",
    "    Args:\n",
    "        f (function): Función a graficar.\n",
    "        a (float): Límite inferior del intervalo.\n",
    "        b (float): Límite superior del intervalo.\n",
    "        numpuntos (int): Número de puntos a graficar.\n",
    "        titulo (bool): Si True, muestra el título de la función.\n",
    "        forzar_ejeX_0 (bool): Si True, fuerza el eje X a pasar por 0.\n",
    "        forzar_ejeY_0 (bool): Si True, fuerza el eje Y a pasar por 0.\n",
    "        Y_X (bool): Si True, representa la recta Y=X.\n",
    "    \"\"\"\n",
    "    x_valores = np.linspace(a, b, 1000)\n",
    "    y_valores = f(x_valores)\n",
    "\n",
    "    fig, ax = plt.subplots()\n",
    "\n",
    "    # Si queremos evitar que se dibujen los ejes derecho y superior de la figura\n",
    "    ax.spines['right'].set_color('none')    # borde derecho\n",
    "    ax.spines['top'].set_color('none')      # borde superior\n",
    "\n",
    "    # Fijar la posición de las marcas en la parte inferior\n",
    "    ax.xaxis.set_ticks_position('bottom')\n",
    "    # Situar el eje Ox.\n",
    "    # Si tenemos garantizado que el 0 pertece a la imagen, situamos el eje en el 0\n",
    "    # Si no sabemos si pertence o no, lo situamos en el valor medio de [f(a),f(b)]\n",
    "    if ((f(a) * f(b)) > 0) and not forzar_ejeX_0:\n",
    "        pos_y = (f(a) + f(b)) / 2\n",
    "    else:\n",
    "        pos_y = 0\n",
    "    ax.spines['bottom'].set_position(('data',pos_y))\n",
    "\n",
    "\n",
    "    # Fijar la posición de las marcas a la izquierda del eje Oy\n",
    "    ax.yaxis.set_ticks_position('left')\n",
    "    # Situar el eje Oy.\n",
    "    # Si el 0 pertenece a [a,b], situamos el eje en el 0\n",
    "    # Si no, lo situamos en el valor medio de [a,b]\n",
    "    if ((a * b) > 0) and not forzar_ejeY_0:\n",
    "        pos_x = (a + b) / 2\n",
    "    else:\n",
    "        pos_x = 0\n",
    "    ax.spines['left'].set_position(('data',pos_x))\n",
    "\n",
    "    # Mostramos el gráfico despues de las modificaciones\n",
    "    ax.plot(x_valores, y_valores, label='f(x)')\n",
    "\n",
    "    # Título del gráfico en Latex\n",
    "    if (titulo):\n",
    "        ax.set_title(f'$f(x) = {obtener_funcion(f)}$')\n",
    "\n",
    "    # Si queremos representar la recta Y=X\n",
    "    if Y_X:\n",
    "        ax.plot(x_valores, x_valores, label='y=x')\n",
    "        ax.legend()"
   ]
  },
  {
   "cell_type": "markdown",
   "id": "ced55a73",
   "metadata": {},
   "source": [
    "La gráfica por tanto de nuestra función $f(x) = e^x - 3$ es la siguiente:"
   ]
  },
  {
   "cell_type": "code",
   "execution_count": 139,
   "id": "6dde3b8c",
   "metadata": {},
   "outputs": [
    {
     "data": {
      "image/png": "[encoded data removed]",
      "text/plain": [
       "<Figure size 640x480 with 1 Axes>"
      ]
     },
     "metadata": {},
     "output_type": "display_data"
    }
   ],
   "source": [
    "dibuja_funcion(f, -0.5, 1.5)"
   ]
  },
  {
   "cell_type": "markdown",
   "id": "becba58c",
   "metadata": {},
   "source": [
    "Una vez establecido lo básico, codificamos la función del método de la secante."
   ]
  },
  {
   "cell_type": "code",
   "execution_count": 140,
   "id": "a8ef3959",
   "metadata": {},
   "outputs": [],
   "source": [
    "def secante(f, x0, x1, nmax=nmax, tol=tol, prec=prec):\n",
    "    \"\"\"Aproxima la raíz de una función utilizando el método de la secante.\n",
    "\n",
    "    Args:\n",
    "        f (function): Función continua cuya raíz se desea encontrar. Debe aceptar un solo argumento (float).\n",
    "        x0 (float): Primera aproximación inicial. Semilla.\n",
    "        x1 (float): Segunda aproximación inicial. Semilla.\n",
    "        nmax (int): Número máximo de iteraciones permitidas.\n",
    "        tol (float): Tolerancia entre dos aproximaciones sucesivas.\n",
    "        prec (int): Precisión de decimales para determinar si se ha alcanzado la raíz.\n",
    "\n",
    "    Returns:\n",
    "        tuple: Una tupla con:\n",
    "            - x (float): Aproximación de la raíz.\n",
    "            - iter (int): Número de iteraciones realizadas.\n",
    "            - exit (str): Motivo de salida del bucle:\n",
    "                - 'precision': Se alcanzó la precisión deseada.\n",
    "                - 'tolerancia': Se alcanzó la tolerancia deseada.\n",
    "                - 'iteraciones': Se alcanzó el número máximo de iteraciones.\n",
    "                - 'denominador cero': El denominador de la fórmula de la secante fue cero.\n",
    "    \"\"\"\n",
    "        \n",
    "    niter = 0\n",
    "    cont = True\n",
    "    exit = ''\n",
    "\n",
    "    # Construimos iteraciones iniciales\n",
    "    x_n = x1\n",
    "    x_n_1 = x0\n",
    "    niter = 1\n",
    "\n",
    "\n",
    "    while cont:\n",
    "        niter += 1\n",
    "\n",
    "        # Actualizamos las aproximaciones\n",
    "        x_n_2 = x_n_1\n",
    "        x_n_1 = x_n\n",
    "\n",
    "        numerador = x_n_1 - x_n_2\n",
    "        denominador = f(x_n_1) - f(x_n_2)\n",
    "        if denominador == 0:\n",
    "            return x_n_1, niter, 'denominador cero'\n",
    "        x_n = x_n_1 - (f(x_n_1) * numerador) / denominador\n",
    "        \n",
    "        if abs(f(x_n)) < prec:\n",
    "            exit = 'precision'\n",
    "            cont = False\n",
    "        elif abs(x_n - x_n_1) < tol:\n",
    "            exit = 'tolerancia'\n",
    "            cont = False\n",
    "        elif niter == nmax:\n",
    "            exit = 'iteraciones'\n",
    "            cont = False\n",
    "            \n",
    "\n",
    "    return x_n, niter, exit"
   ]
  },
  {
   "cell_type": "markdown",
   "id": "bae2ebc2",
   "metadata": {},
   "source": [
    "Aproximamos ahora la raíz con la precisión de 5 cifras significativas. No obstante, antes de aproximarla, como sabemos que la raíz es $\\ln(3)$, imprimiremos su valor exacto para poder comparar."
   ]
  },
  {
   "cell_type": "code",
   "execution_count": 141,
   "id": "a1b95fb2",
   "metadata": {},
   "outputs": [
    {
     "name": "stdout",
     "output_type": "stream",
     "text": [
      "Solución exacta: 1.098612288668109691395245237\n",
      "Numero de iteraciones: 8\n",
      "Posible solución exacta: 1.0986\n"
     ]
    }
   ],
   "source": [
    "print(f\"Solución exacta: {sp.N(sp.log(3), 28)}\")\n",
    "getcontext().prec = 5\n",
    "x_n, niter, exit = secante(f, Decimal(0), Decimal(3))\n",
    "salida(x_n, niter, exit)\n"
   ]
  },
  {
   "cell_type": "markdown",
   "id": "32749361",
   "metadata": {},
   "source": [
    "Como vemos, nos informa de una posible solución exacta, aunque el valor no tiene una precisión muy alta. Comprobemos ahora el valor con 28 cifras significativas."
   ]
  },
  {
   "cell_type": "code",
   "execution_count": 142,
   "id": "c7762e98",
   "metadata": {},
   "outputs": [
    {
     "name": "stdout",
     "output_type": "stream",
     "text": [
      "Numero de iteraciones: 12\n",
      "Posible solución exacta: 1.098612288668109691395245237\n"
     ]
    }
   ],
   "source": [
    "getcontext().prec = 28\n",
    "x_n, niter, exit = secante(f, Decimal(0), Decimal(3))\n",
    "salida(x_n, niter, exit)"
   ]
  },
  {
   "cell_type": "markdown",
   "id": "f009d244",
   "metadata": {},
   "source": [
    "Como vemos, en el ejemplo anterior no nos garantiza que sea una solución exacta, puesto que la tolerancia establecida no es suficientemente pequeña. En el siguiente ejemplo modificaremos el valor de la tolerancia."
   ]
  },
  {
   "cell_type": "code",
   "execution_count": 143,
   "id": "e893c812",
   "metadata": {},
   "outputs": [
    {
     "name": "stdout",
     "output_type": "stream",
     "text": [
      "Numero de iteraciones: 12\n",
      "Posible solución exacta: 1.098612288668109691395245237\n"
     ]
    }
   ],
   "source": [
    "x_n, niter, exit = secante(f, Decimal(0), Decimal(3), tol=1e-28)\n",
    "salida(x_n, niter, exit)"
   ]
  },
  {
   "cell_type": "markdown",
   "id": "360b517b",
   "metadata": {},
   "source": [
    "## Ejercicio 2"
   ]
  },
  {
   "cell_type": "markdown",
   "id": "683fc90d",
   "metadata": {},
   "source": [
    "> **Ejercicio 2.** Teniendo en cuenta estos primeros pasos, codifica una función para el método de Wittaker.\n",
    "> \n",
    "> Aproxima la raíz de la función $f(x)=e^x-3$:\n",
    "> * Cambiando la precisión a 5 cifras significativas.\n",
    "> * Con la precisión por defecto y aproximando la raíz con 28 cifras significativas.\n",
    "> \n",
    "> Comprueba que una mala elección de $m$ puede provocar que la sucesión no converja."
   ]
  },
  {
   "cell_type": "markdown",
   "id": "8effa6b8",
   "metadata": {},
   "source": [
    "Codificamos en primer lugar la función del método de Wittaker."
   ]
  },
  {
   "cell_type": "code",
   "execution_count": 144,
   "id": "d86ce60e",
   "metadata": {},
   "outputs": [],
   "source": [
    "def wittaker(f, x0, m, nmax=nmax, tol=tol, prec=prec):\n",
    "    \"\"\"Aproxima la raíz de una función utilizando el método de la Wittaker.\n",
    "\n",
    "    Args:\n",
    "        f (function): Función continua cuya raíz se desea encontrar. Debe aceptar un solo argumento (float).\n",
    "        x0 (float): Primera aproximación inicial. Semilla.\n",
    "        m (float): Parametro del método de Wittaker.\n",
    "        nmax (int): Número máximo de iteraciones permitidas.\n",
    "        tol (float): Tolerancia entre dos aproximaciones sucesivas.\n",
    "        prec (int): Precisión de decimales para determinar si se ha alcanzado la raíz.\n",
    "\n",
    "    Returns:\n",
    "        tuple: Una tupla con:\n",
    "            - x (float): Aproximación de la raíz.\n",
    "            - iter (int): Número de iteraciones realizadas.\n",
    "            - exit (str): Motivo de salida del bucle:\n",
    "                - 'precision': Se alcanzó la precisión deseada.\n",
    "                - 'tolerancia': Se alcanzó la tolerancia deseada.\n",
    "                - 'iteraciones': Se alcanzó el número máximo de iteraciones.\n",
    "                - 'denominador cero': El denominador de la fórmula fue cero.\n",
    "    \"\"\"\n",
    "        \n",
    "    niter = 0\n",
    "    cont = True\n",
    "    exit = ''\n",
    "\n",
    "    # Construimos iteraciones iniciales\n",
    "    x_n = x0\n",
    "\n",
    "    # Comprobamos que el parámetro m no sea cero\n",
    "    if m == 0:\n",
    "        return x_n, niter, 'denominador cero'\n",
    "\n",
    "\n",
    "    while cont:\n",
    "        niter += 1\n",
    "\n",
    "        # Actualizamos las aproximaciones\n",
    "        x_n_1 = x_n\n",
    "\n",
    "        x_n = x_n_1 - (f(x_n_1)/m)\n",
    "        \n",
    "        if abs(f(x_n)) < prec:\n",
    "            exit = 'precision'\n",
    "            cont = False\n",
    "        elif abs(x_n - x_n_1) < tol:\n",
    "            exit = 'tolerancia'\n",
    "            cont = False\n",
    "        elif niter == nmax:\n",
    "            exit = 'iteraciones'\n",
    "            cont = False\n",
    "\n",
    "    return x_n, niter, exit"
   ]
  },
  {
   "cell_type": "markdown",
   "id": "c79e04eb",
   "metadata": {},
   "source": [
    "Aproximamos ahora la raíz con la precisión de 5 cifras significativas. No obstante, antes de aproximarla, como sabemos que la raíz es $\\ln(3)$, imprimiremos su valor exacto para poder comparar."
   ]
  },
  {
   "cell_type": "code",
   "execution_count": 145,
   "id": "42dea418",
   "metadata": {},
   "outputs": [
    {
     "name": "stdout",
     "output_type": "stream",
     "text": [
      "Solución exacta: 1.098612288668109691395245237\n",
      "Numero de iteraciones: 4\n",
      "Posible solución exacta: 1.0986\n"
     ]
    }
   ],
   "source": [
    "print(f\"Solución exacta: {sp.N(sp.log(3), 28)}\")\n",
    "getcontext().prec = 5\n",
    "x_n, niter, exit = wittaker(f, Decimal(0), m=3)\n",
    "salida(x_n, niter, exit)"
   ]
  },
  {
   "cell_type": "markdown",
   "id": "65be4985",
   "metadata": {},
   "source": [
    "Como vemos, nos informa de una posible solución exacta, aunque el valor no tiene una precisión muy alta. Comprobemos ahora el valor con 28 cifras significativas."
   ]
  },
  {
   "cell_type": "code",
   "execution_count": 146,
   "id": "317026fd",
   "metadata": {},
   "outputs": [
    {
     "name": "stdout",
     "output_type": "stream",
     "text": [
      "Numero de iteraciones: 7\n",
      "Posible solución exacta: 1.098612288668109691395245237\n"
     ]
    }
   ],
   "source": [
    "getcontext().prec = 28\n",
    "x_n, niter, exit = wittaker(f, Decimal(0), m=3, tol=1e-28)\n",
    "salida(x_n, niter, exit)"
   ]
  },
  {
   "cell_type": "markdown",
   "id": "67e4bc3c",
   "metadata": {},
   "source": [
    "El siguiente ejemplo muestra que una mala elección de $m$ puede provocar que la sucesión no converja."
   ]
  },
  {
   "cell_type": "code",
   "execution_count": 147,
   "id": "848f22fd",
   "metadata": {},
   "outputs": [
    {
     "name": "stdout",
     "output_type": "stream",
     "text": [
      "Numero de iteraciones: 1000\n",
      "Se alcanzó el número máximo de iteraciones.\n",
      "Última aproximación: -4851621964.097902\n"
     ]
    }
   ],
   "source": [
    "x_n, niter, exit = wittaker(f, 0, m=0.1)\n",
    "salida(x_n, niter, exit)"
   ]
  },
  {
   "cell_type": "markdown",
   "id": "3eed9c83",
   "metadata": {},
   "source": [
    "## Ejercicio 3"
   ]
  },
  {
   "cell_type": "markdown",
   "id": "289f257d",
   "metadata": {},
   "source": [
    "> **Ejercicio 3.** Modifique el método anterior para que, en lugar de fijar una pendiente $m$, calcule en cada iteración la derivada de la función en dicho punto, obteniendo el método de Newton-Raphson. Con este método:\n",
    "> \n",
    "> Aproxima la raíz de la función $f(x)=e^x-3$:\n",
    "> * Cambiando la precisión a 5 cifras significativas.\n",
    "> * Con la precisión por defecto y aproximando la raíz con 28 cifras significativas.\n",
    "> \n",
    "> Compare, en iguales condiciones, el rendimiento de Newton-Raphson con respecto al método de Wittaker."
   ]
  },
  {
   "cell_type": "markdown",
   "id": "e8091df4",
   "metadata": {},
   "source": [
    "En este caso, tenemos que calcular la derivada de $f$. Para este caso concreto podríamos calcular la derivada de forma algebraica y definir una función para evaluarla, pero esto no sería genérico. Podríamos definir $f$ con el módulo `sympy`, que nos permite calcular derivadas simbólicamente, pero tendríamos que tener dos definiciones de $f$, una simbólica y otra numérica. Como el valor algebraico no nos interesa, sino que tan solo necesitamos el valor numérico de la derivada, emplearemos la fórmula de la diferencia centrada para calcular la derivada numéricamente.\n",
    "\n",
    "Notemos que esto provoca que nuestros resultados sean menos precisos, puesto que aquí ya estamos introduciendo un error. Por tanto, posiblemente en algún caso sea necesario calcular alguna iteración más para conseguir la precisión deseada."
   ]
  },
  {
   "cell_type": "code",
   "execution_count": 193,
   "id": "974f7a5d",
   "metadata": {},
   "outputs": [],
   "source": [
    "def df(x, h=1e-4):\n",
    "    \"\"\"\n",
    "    Función para calcular numéricamente $f'(x)$.\n",
    "    \"\"\"\n",
    "\n",
    "    # Aunque no es buena práctica, es necesario.\n",
    "    # En el ejemplo del coseno tendremos que pasarle un float, y float no puede operar con Decimal\n",
    "    if isinstance(x, np.ndarray):\n",
    "        h = float(h)\n",
    "    elif not isinstance(h, type(x)):\n",
    "        h = type(x)(h)\n",
    "    \n",
    "    return (f(x + h) - f(x - h)) / (2 * h)"
   ]
  },
  {
   "cell_type": "markdown",
   "id": "5cb80d9d",
   "metadata": {},
   "source": [
    "Codificamos ahora función del método de Newton-Raphson."
   ]
  },
  {
   "cell_type": "code",
   "execution_count": 194,
   "id": "4137052c",
   "metadata": {},
   "outputs": [],
   "source": [
    "def newtonRaphson(f, x0, nmax=nmax, tol=tol, prec=prec):\n",
    "    \"\"\"Aproxima la raíz de una función utilizando el método de Newton-Raphson.\n",
    "\n",
    "    Args:\n",
    "        f (function): Función continua cuya raíz se desea encontrar. Debe aceptar un solo argumento (float).\n",
    "        x0 (float): Primera aproximación inicial. Semilla.\n",
    "        nmax (int): Número máximo de iteraciones permitidas.\n",
    "        tol (float): Tolerancia entre dos aproximaciones sucesivas.\n",
    "        prec (int): Precisión de decimales para determinar si se ha alcanzado la raíz.\n",
    "\n",
    "    Returns:\n",
    "        tuple: Una tupla con:\n",
    "            - x (float): Aproximación de la raíz.\n",
    "            - iter (int): Número de iteraciones realizadas.\n",
    "            - exit (str): Motivo de salida del bucle:\n",
    "                - 'precision': Se alcanzó la precisión deseada.\n",
    "                - 'tolerancia': Se alcanzó la tolerancia deseada.\n",
    "                - 'iteraciones': Se alcanzó el número máximo de iteraciones.\n",
    "                - 'denominador cero': El denominador de la fórmula fue cero.\n",
    "    \"\"\"\n",
    "        \n",
    "    niter = 0\n",
    "    cont = True\n",
    "    exit = ''\n",
    "\n",
    "    # Construimos iteraciones iniciales\n",
    "    x_n = x0\n",
    "\n",
    "\n",
    "    while cont:\n",
    "        niter += 1\n",
    "\n",
    "        # Actualizamos las aproximaciones\n",
    "        x_n_1 = x_n\n",
    "\n",
    "        derivada = df(x_n_1)\n",
    "        if derivada == 0:\n",
    "            return x_n_1, niter, 'denominador cero'\n",
    "\n",
    "        x_n = x_n_1 - (f(x_n_1)/derivada)\n",
    "        \n",
    "        if abs(f(x_n)) < prec:\n",
    "            exit = 'precision'\n",
    "            cont = False\n",
    "        elif abs(x_n - x_n_1) < tol:\n",
    "            exit = 'tolerancia'\n",
    "            cont = False\n",
    "        elif niter == nmax:\n",
    "            exit = 'iteraciones'\n",
    "            cont = False\n",
    "\n",
    "    return x_n, niter, exit"
   ]
  },
  {
   "cell_type": "markdown",
   "id": "4b243e31",
   "metadata": {},
   "source": [
    "Aproximamos ahora la raíz con la precisión de 5 cifras significativas. No obstante, antes de aproximarla, como sabemos que la raíz es $\\ln(3)$, imprimiremos su valor exacto para poder comparar."
   ]
  },
  {
   "cell_type": "code",
   "execution_count": 150,
   "id": "751d95a7",
   "metadata": {},
   "outputs": [
    {
     "name": "stdout",
     "output_type": "stream",
     "text": [
      "Solución exacta: 1.098612288668109691395245237\n",
      "h: <class 'decimal.Decimal'>, x: <class 'decimal.Decimal'>\n",
      "h: <class 'decimal.Decimal'>, x: <class 'decimal.Decimal'>\n",
      "h: <class 'decimal.Decimal'>, x: <class 'decimal.Decimal'>\n",
      "h: <class 'decimal.Decimal'>, x: <class 'decimal.Decimal'>\n",
      "h: <class 'decimal.Decimal'>, x: <class 'decimal.Decimal'>\n",
      "Numero de iteraciones: 5\n",
      "Posible solución exacta: 1.0986\n"
     ]
    }
   ],
   "source": [
    "print(f\"Solución exacta: {sp.N(sp.log(3), 28)}\")\n",
    "getcontext().prec = 5\n",
    "x_n, niter, exit = newtonRaphson(f, Decimal(0))\n",
    "salida(x_n, niter, exit)"
   ]
  },
  {
   "cell_type": "markdown",
   "id": "42bddaaf",
   "metadata": {},
   "source": [
    "Como vemos, nos informa de una posible solución exacta, aunque el valor no tiene una precisión muy alta. Comprobemos ahora el valor con 28 cifras significativas."
   ]
  },
  {
   "cell_type": "code",
   "execution_count": 151,
   "id": "0ab8899c",
   "metadata": {},
   "outputs": [
    {
     "name": "stdout",
     "output_type": "stream",
     "text": [
      "h: <class 'decimal.Decimal'>, x: <class 'decimal.Decimal'>\n",
      "h: <class 'decimal.Decimal'>, x: <class 'decimal.Decimal'>\n",
      "h: <class 'decimal.Decimal'>, x: <class 'decimal.Decimal'>\n",
      "h: <class 'decimal.Decimal'>, x: <class 'decimal.Decimal'>\n",
      "h: <class 'decimal.Decimal'>, x: <class 'decimal.Decimal'>\n",
      "h: <class 'decimal.Decimal'>, x: <class 'decimal.Decimal'>\n",
      "h: <class 'decimal.Decimal'>, x: <class 'decimal.Decimal'>\n",
      "h: <class 'decimal.Decimal'>, x: <class 'decimal.Decimal'>\n",
      "Numero de iteraciones: 8\n",
      "Posible solución exacta: 1.098612288668109691395245237\n"
     ]
    }
   ],
   "source": [
    "getcontext().prec = 28\n",
    "x_n, niter, exit = newtonRaphson(f, Decimal(0), tol=1e-28)\n",
    "salida(x_n, niter, exit)"
   ]
  },
  {
   "cell_type": "markdown",
   "id": "85588b1e",
   "metadata": {},
   "source": [
    "Comparamos ahora en iguales condiciones el rendimiento de Newton-Raphson con respecto al método de Wittaker. Vemos que, en algunos casos, Wittaker puede dar mejores resultados que Newton-Raphson (caso $m=3$). No obstante, vemos que esto depende claramente de la elección de $m$, por lo que no es un método recomendable."
   ]
  },
  {
   "cell_type": "code",
   "execution_count": 152,
   "id": "0db06a94",
   "metadata": {},
   "outputs": [
    {
     "name": "stdout",
     "output_type": "stream",
     "text": [
      "-------------- Wittaker m=3 --------------\n",
      "Numero de iteraciones: 7\n",
      "Posible solución exacta: 1.098612288668109691395245237\n",
      "\n",
      "\n",
      "-------------- Wittaker m=1 --------------\n",
      "Numero de iteraciones: 1000\n",
      "Se alcanzó el número máximo de iteraciones.\n",
      "Última aproximación: -1.371466767619718594620968608\n",
      "\n",
      "\n",
      "h: <class 'decimal.Decimal'>, x: <class 'decimal.Decimal'>\n",
      "h: <class 'decimal.Decimal'>, x: <class 'decimal.Decimal'>\n",
      "h: <class 'decimal.Decimal'>, x: <class 'decimal.Decimal'>\n",
      "h: <class 'decimal.Decimal'>, x: <class 'decimal.Decimal'>\n",
      "h: <class 'decimal.Decimal'>, x: <class 'decimal.Decimal'>\n",
      "h: <class 'decimal.Decimal'>, x: <class 'decimal.Decimal'>\n",
      "h: <class 'decimal.Decimal'>, x: <class 'decimal.Decimal'>\n",
      "h: <class 'decimal.Decimal'>, x: <class 'decimal.Decimal'>\n",
      "-------------- Newton-Raphson --------------\n",
      "Numero de iteraciones: 8\n",
      "Posible solución exacta: 1.098612288668109691395245237\n"
     ]
    }
   ],
   "source": [
    "x_n, niter, exit = wittaker(f, Decimal(0), m=3, tol=1e-28)\n",
    "print(\"-------------- Wittaker m=3 --------------\")\n",
    "salida(x_n, niter, exit)\n",
    "print(\"\\n\")\n",
    "\n",
    "x_n, niter, exit = wittaker(f, Decimal(0), m=1, tol=1e-28)\n",
    "print(\"-------------- Wittaker m=1 --------------\")\n",
    "salida(x_n, niter, exit)\n",
    "print(\"\\n\")\n",
    "\n",
    "x_n, niter, exit = newtonRaphson(f, Decimal(0), tol=1e-28)\n",
    "print(\"-------------- Newton-Raphson --------------\")\n",
    "salida(x_n, niter, exit)\n",
    "\n"
   ]
  },
  {
   "cell_type": "markdown",
   "id": "452fbc3b",
   "metadata": {},
   "source": [
    "## Ejercicio 4"
   ]
  },
  {
   "cell_type": "markdown",
   "id": "1ae568a7",
   "metadata": {},
   "source": [
    "> **Ejercicio 4.** Demuestre que la ecuación  $x^3+4 x^2=10  $  tiene una única raíz en el intervalo $[1,2]$.  Aproxime dicha raíz con el método de bisección con al menos 3 cifras decimales exactas. ¿Cuántas iteraciones serán necesarias para conseguir 5 cifras decimales exactas (tol =$10^{-5}$)?  Aproxime también la raíz con el método de Newton-Raphson partiendo del extremo adecuado hasta que la diferencia en valor absoluto, entre dos aproximaciones consecutivas sea  inferior a  $10^{-3}$."
   ]
  },
  {
   "cell_type": "markdown",
   "id": "b3ef8b3d",
   "metadata": {},
   "source": [
    "Definimos por tanto la nueva versión de la función $f(x)$, que es la que buscaremos aproximar en este ejercicio. Como se trata de un polinomio, emplearemos el algoritmo de Newton-Horner para evaluar la función."
   ]
  },
  {
   "cell_type": "code",
   "execution_count": 153,
   "id": "f8ddedec",
   "metadata": {},
   "outputs": [],
   "source": [
    "def NewtonHorner (coeficientes, x):\n",
    "    \"\"\"\n",
    "    Método de Horner para evaluar un polinomio.\n",
    "\n",
    "    Args:\n",
    "        coeficientes (list): Coeficientes del polinomio.\n",
    "        x (float): Valor en el que se evalúa el polinomio.\n",
    "\n",
    "    Returns:\n",
    "        float: Valor del polinomio evaluado en x.\n",
    "    \"\"\"\n",
    "    resultado_f = coeficientes[0]\n",
    "    for i in range(1, len(coeficientes)):\n",
    "        resultado_f = resultado_f * x + coeficientes[i]\n",
    "    return resultado_f"
   ]
  },
  {
   "cell_type": "code",
   "execution_count": 154,
   "id": "d72afff8",
   "metadata": {},
   "outputs": [],
   "source": [
    "def f(x):\n",
    "    \"\"\"\n",
    "    Función para calcular numéricamente $f(x) = x^3+4x^2-10$.\n",
    "    \"\"\"\n",
    "    return NewtonHorner([1,4,0,-10], x)"
   ]
  },
  {
   "cell_type": "markdown",
   "id": "903a88fc",
   "metadata": {},
   "source": [
    "Sabemos que $f$ es continua por ser un polinomio. Para comprobar que tiene una única raíz de forma totalmente rigurosa y analítca, por Bolzano comprobamos que $f(1)f(2)<0$, luego existe dicha raíz. Además, es única puesto que es estrictamente creciente en el intervalo $[1,2]$. No obstante, para el caso práctico al representarlo se aprecia dicha existencia y unicidad de forma gráfica."
   ]
  },
  {
   "cell_type": "code",
   "execution_count": 155,
   "id": "6cae098e",
   "metadata": {},
   "outputs": [
    {
     "data": {
      "image/png": "[encoded data removed]",
      "text/plain": [
       "<Figure size 640x480 with 1 Axes>"
      ]
     },
     "metadata": {},
     "output_type": "display_data"
    }
   ],
   "source": [
    "dibuja_funcion(f, -4, 2)"
   ]
  },
  {
   "cell_type": "markdown",
   "id": "5052bd11",
   "metadata": {},
   "source": [
    "Para poder aproximar por el método de bisección, codificamos dicho método."
   ]
  },
  {
   "cell_type": "code",
   "execution_count": 156,
   "id": "115270cc",
   "metadata": {},
   "outputs": [],
   "source": [
    "def biseccion(f, a, b, nmax=nmax, tol=tol, prec=prec):\n",
    "    \"\"\"Aproxima la raíz de una función utilizando el método de la biseccion.\n",
    "\n",
    "    Args:\n",
    "        f (function): Función continua cuya raíz se desea encontrar. Debe aceptar un solo argumento (float).\n",
    "        a (float): Límite inferior del intervalo.\n",
    "        b (float): Límite superior del intervalo.\n",
    "        nmax (int): Número máximo de iteraciones permitidas.\n",
    "        tol (float): Tolerancia entre dos aproximaciones sucesivas.\n",
    "        prec (int): Precisión de decimales para determinar si se ha alcanzado la raíz.\n",
    "\n",
    "    Returns:\n",
    "        tuple: Una tupla con:\n",
    "            - x (float): Aproximación de la raíz.\n",
    "            - iter (int): Número de iteraciones realizadas.\n",
    "            - exit (str): Motivo de salida del bucle:\n",
    "                - 'precision': Se alcanzó la precisión deseada.\n",
    "                - 'tolerancia': Se alcanzó la tolerancia deseada.\n",
    "                - 'iteraciones': Se alcanzó el número máximo de iteraciones.\n",
    "                - 'denominador cero': El denominador de la fórmula de la secante fue cero.\n",
    "    \"\"\"\n",
    "        \n",
    "    niter = 0\n",
    "    cont = True\n",
    "    exit = ''\n",
    "\n",
    "    x_n = (a + b) / 2    \n",
    "\n",
    "\n",
    "    while cont:\n",
    "        niter += 1\n",
    "\n",
    "        # Preparamos el intervalo\n",
    "        if sign(f(a)) != sign(f(x_n)):\n",
    "            b = x_n\n",
    "        else:\n",
    "            a = x_n\n",
    "\n",
    "        # Actualizamos las aproximaciones\n",
    "        x_n_1 = x_n\n",
    "        x_n = (a + b) / 2\n",
    "\n",
    "        if abs(f(x_n)) < prec:\n",
    "            exit = 'precision'\n",
    "            cont = False\n",
    "        elif abs(x_n - x_n_1) < tol:\n",
    "            exit = 'tolerancia'\n",
    "            cont = False\n",
    "        elif niter == nmax:\n",
    "            exit = 'iteraciones'\n",
    "            cont = False\n",
    "            \n",
    "\n",
    "    return x_n, niter, exit"
   ]
  },
  {
   "cell_type": "markdown",
   "id": "a4ef172d",
   "metadata": {},
   "source": [
    "Aproximamos ahora dicha raíz con el método de bisección con al menos 3 cifras decimales exactas. Como vemos, en este caso es necesario imponer precisión, puesto que la sucesión de errores con este método no tiene por qué ser decreciente."
   ]
  },
  {
   "cell_type": "code",
   "execution_count": 157,
   "id": "bad7735d",
   "metadata": {},
   "outputs": [
    {
     "name": "stdout",
     "output_type": "stream",
     "text": [
      "Solución exacta: (1.3652300134140969+0j)\n",
      "-------------- Con Precision --------------\n",
      "Numero de iteraciones: 8\n",
      "Posible solución exacta: 1.365234375\n",
      "-------------- Con Tolerancia --------------\n",
      "Numero de iteraciones: 9\n",
      "Aproximación solicitada: 1.3642578125\n"
     ]
    }
   ],
   "source": [
    "print(f\"Solución exacta: {np.roots([1,4,0,-10])[2]}\")\n",
    "\n",
    "print(\"-------------- Con Precision --------------\")\n",
    "getcontext().prec = 28\n",
    "x_n, iter, exit = biseccion(f, Decimal(1), Decimal(2), prec=1e-3)\n",
    "salida(x_n, iter, exit)\n",
    "\n",
    "print(\"-------------- Con Tolerancia --------------\")\n",
    "x_n, iter, exit = biseccion(f, Decimal(1), Decimal(2), tol=1e-3)\n",
    "salida(x_n, iter, exit)"
   ]
  },
  {
   "cell_type": "markdown",
   "id": "4b07c08a",
   "metadata": {},
   "source": [
    "Veamos ahora cuántas iteraciones son necesarias para conseguir 5 cifras decimales exactas."
   ]
  },
  {
   "cell_type": "code",
   "execution_count": 158,
   "id": "8f85624c",
   "metadata": {},
   "outputs": [
    {
     "name": "stdout",
     "output_type": "stream",
     "text": [
      "Numero de iteraciones: 17\n",
      "Posible solución exacta: 1.365230560302734375\n"
     ]
    }
   ],
   "source": [
    "getcontext().prec = 28\n",
    "x_n, iter, exit = biseccion(f, Decimal(1), Decimal(2), prec=1e-5)\n",
    "salida(x_n, iter, exit)"
   ]
  },
  {
   "cell_type": "markdown",
   "id": "0c803208",
   "metadata": {},
   "source": [
    "Como vemos, hacen falta 17 iteraciones. Aproximamos ahora dicha raíz con el método de Newton-Raphson hasta que la diferencia en valor absoluto entre dos aproximaciones consecutivas sea  inferior a  $10^{-3}$. Como vemos, la elección del extremo del intervalo en este caso no es relevante, puesto que las primeras 9 cifras significativas coinciden.\n"
   ]
  },
  {
   "cell_type": "code",
   "execution_count": 159,
   "id": "c9a129cd",
   "metadata": {},
   "outputs": [
    {
     "name": "stdout",
     "output_type": "stream",
     "text": [
      "-------------- Partiendo del Extremo Inferior --------------\n",
      "h: <class 'decimal.Decimal'>, x: <class 'decimal.Decimal'>\n",
      "h: <class 'decimal.Decimal'>, x: <class 'decimal.Decimal'>\n",
      "h: <class 'decimal.Decimal'>, x: <class 'decimal.Decimal'>\n",
      "h: <class 'decimal.Decimal'>, x: <class 'decimal.Decimal'>\n",
      "Numero de iteraciones: 4\n",
      "Aproximación solicitada: 1.365230013435370613090038792\n",
      "-------------- Partiendo del Extremo Superior --------------\n",
      "h: <class 'decimal.Decimal'>, x: <class 'decimal.Decimal'>\n",
      "h: <class 'decimal.Decimal'>, x: <class 'decimal.Decimal'>\n",
      "h: <class 'decimal.Decimal'>, x: <class 'decimal.Decimal'>\n",
      "h: <class 'decimal.Decimal'>, x: <class 'decimal.Decimal'>\n",
      "Numero de iteraciones: 4\n",
      "Aproximación solicitada: 1.365230013916166201377957374\n"
     ]
    }
   ],
   "source": [
    "getcontext().prec = 28\n",
    "print(\"-------------- Partiendo del Extremo Inferior --------------\")\n",
    "x_n, iter, exit = newtonRaphson(f, Decimal(1), tol=1e-3)\n",
    "salida(x_n, iter, exit)\n",
    "print(\"-------------- Partiendo del Extremo Superior --------------\")\n",
    "x_n, iter, exit = newtonRaphson(f, Decimal(2), tol=1e-3)\n",
    "salida(x_n, iter, exit)"
   ]
  },
  {
   "cell_type": "markdown",
   "id": "fc59af50",
   "metadata": {},
   "source": [
    "## Ejercicio 5"
   ]
  },
  {
   "cell_type": "markdown",
   "id": "434008a2",
   "metadata": {},
   "source": [
    "> **Ejercicio 5.** Use el método de Newton-Raphson para aproximar las soluciones de las siguientes ecuaciones con tolerancia $10^{-5}$ , partiendo de un valor adecuado, próximo a cada una de ellas en cada caso.\n",
    "> \n",
    "> 1. $3x=2+x^2-e^x$.\n",
    "> \n",
    "> 2. $x^2+10 \\cos x+x=0$."
   ]
  },
  {
   "cell_type": "markdown",
   "id": "1862fa0b",
   "metadata": {},
   "source": [
    "#### Ejercicio 5.1"
   ]
  },
  {
   "cell_type": "markdown",
   "id": "ce877008",
   "metadata": {},
   "source": [
    "En este caso, trabajamos con la función $f(x) = 3x - 2 - x^2 + e^x$."
   ]
  },
  {
   "cell_type": "code",
   "execution_count": 160,
   "id": "2d114ea3",
   "metadata": {},
   "outputs": [
    {
     "data": {
      "image/png": "[encoded data removed]",
      "text/plain": [
       "<Figure size 640x480 with 1 Axes>"
      ]
     },
     "metadata": {},
     "output_type": "display_data"
    }
   ],
   "source": [
    "def f(x):\n",
    "    \"\"\"\n",
    "    Función para calcular numéricamente $f(x) = 2+x^2-e^x - 3x$.\n",
    "    \"\"\"\n",
    "    return 2 + x**2 - np.exp(x) - 3*x\n",
    "dibuja_funcion(f, -1, 1)"
   ]
  },
  {
   "cell_type": "code",
   "execution_count": 161,
   "id": "aaf9ebad",
   "metadata": {},
   "outputs": [
    {
     "name": "stdout",
     "output_type": "stream",
     "text": [
      "h: <class 'decimal.Decimal'>, x: <class 'decimal.Decimal'>\n",
      "h: <class 'decimal.Decimal'>, x: <class 'decimal.Decimal'>\n",
      "Numero de iteraciones: 2\n",
      "Aproximación solicitada: 0.2575302854371923839410050889\n"
     ]
    }
   ],
   "source": [
    "getcontext().prec = 28\n",
    "x_n, iter, exit = newtonRaphson(f, Decimal(0.25), tol=1e-5)\n",
    "salida(x_n, iter, exit)"
   ]
  },
  {
   "cell_type": "markdown",
   "id": "f5898867",
   "metadata": {},
   "source": [
    "##### Ejercicio 5.2"
   ]
  },
  {
   "cell_type": "markdown",
   "id": "11adfc61",
   "metadata": {},
   "source": [
    "En este caso, trabajamos con la función $f(x) = x^2 + 10 \\cos x + x$."
   ]
  },
  {
   "cell_type": "code",
   "execution_count": 162,
   "id": "3948b028",
   "metadata": {},
   "outputs": [
    {
     "data": {
      "image/png": "[encoded data removed]",
      "text/plain": [
       "<Figure size 640x480 with 1 Axes>"
      ]
     },
     "metadata": {},
     "output_type": "display_data"
    }
   ],
   "source": [
    "def f(x):\n",
    "    \"\"\"\n",
    "    Función para calcular numéricamente $f(x) = x^2+10 cos(x)+x$.\n",
    "    \"\"\"\n",
    "    return x**2 + 10 * np.cos(x) + x\n",
    "dibuja_funcion(f, -4, 4, forzar_ejeX_0=True)\n"
   ]
  },
  {
   "cell_type": "code",
   "execution_count": 163,
   "id": "9cf4276d",
   "metadata": {},
   "outputs": [
    {
     "name": "stdout",
     "output_type": "stream",
     "text": [
      "h: <class 'float'>, x: <class 'float'>\n",
      "h: <class 'numpy.float64'>, x: <class 'numpy.float64'>\n",
      "h: <class 'numpy.float64'>, x: <class 'numpy.float64'>\n",
      "h: <class 'numpy.float64'>, x: <class 'numpy.float64'>\n",
      "h: <class 'numpy.float64'>, x: <class 'numpy.float64'>\n",
      "h: <class 'numpy.float64'>, x: <class 'numpy.float64'>\n",
      "h: <class 'numpy.float64'>, x: <class 'numpy.float64'>\n",
      "h: <class 'numpy.float64'>, x: <class 'numpy.float64'>\n",
      "h: <class 'numpy.float64'>, x: <class 'numpy.float64'>\n",
      "h: <class 'numpy.float64'>, x: <class 'numpy.float64'>\n",
      "h: <class 'numpy.float64'>, x: <class 'numpy.float64'>\n",
      "h: <class 'numpy.float64'>, x: <class 'numpy.float64'>\n",
      "h: <class 'numpy.float64'>, x: <class 'numpy.float64'>\n",
      "h: <class 'numpy.float64'>, x: <class 'numpy.float64'>\n",
      "h: <class 'numpy.float64'>, x: <class 'numpy.float64'>\n",
      "h: <class 'numpy.float64'>, x: <class 'numpy.float64'>\n",
      "h: <class 'numpy.float64'>, x: <class 'numpy.float64'>\n",
      "h: <class 'numpy.float64'>, x: <class 'numpy.float64'>\n",
      "h: <class 'numpy.float64'>, x: <class 'numpy.float64'>\n",
      "h: <class 'numpy.float64'>, x: <class 'numpy.float64'>\n",
      "h: <class 'numpy.float64'>, x: <class 'numpy.float64'>\n",
      "h: <class 'numpy.float64'>, x: <class 'numpy.float64'>\n",
      "h: <class 'numpy.float64'>, x: <class 'numpy.float64'>\n",
      "h: <class 'numpy.float64'>, x: <class 'numpy.float64'>\n",
      "h: <class 'numpy.float64'>, x: <class 'numpy.float64'>\n",
      "h: <class 'numpy.float64'>, x: <class 'numpy.float64'>\n",
      "h: <class 'numpy.float64'>, x: <class 'numpy.float64'>\n",
      "h: <class 'numpy.float64'>, x: <class 'numpy.float64'>\n",
      "h: <class 'numpy.float64'>, x: <class 'numpy.float64'>\n",
      "h: <class 'numpy.float64'>, x: <class 'numpy.float64'>\n",
      "h: <class 'numpy.float64'>, x: <class 'numpy.float64'>\n",
      "h: <class 'numpy.float64'>, x: <class 'numpy.float64'>\n",
      "h: <class 'numpy.float64'>, x: <class 'numpy.float64'>\n",
      "h: <class 'numpy.float64'>, x: <class 'numpy.float64'>\n",
      "h: <class 'numpy.float64'>, x: <class 'numpy.float64'>\n",
      "h: <class 'numpy.float64'>, x: <class 'numpy.float64'>\n",
      "h: <class 'numpy.float64'>, x: <class 'numpy.float64'>\n",
      "h: <class 'numpy.float64'>, x: <class 'numpy.float64'>\n",
      "h: <class 'numpy.float64'>, x: <class 'numpy.float64'>\n",
      "h: <class 'numpy.float64'>, x: <class 'numpy.float64'>\n",
      "h: <class 'numpy.float64'>, x: <class 'numpy.float64'>\n",
      "h: <class 'numpy.float64'>, x: <class 'numpy.float64'>\n",
      "h: <class 'numpy.float64'>, x: <class 'numpy.float64'>\n",
      "h: <class 'numpy.float64'>, x: <class 'numpy.float64'>\n",
      "h: <class 'numpy.float64'>, x: <class 'numpy.float64'>\n",
      "h: <class 'numpy.float64'>, x: <class 'numpy.float64'>\n",
      "h: <class 'numpy.float64'>, x: <class 'numpy.float64'>\n",
      "h: <class 'numpy.float64'>, x: <class 'numpy.float64'>\n",
      "h: <class 'numpy.float64'>, x: <class 'numpy.float64'>\n",
      "h: <class 'numpy.float64'>, x: <class 'numpy.float64'>\n",
      "h: <class 'numpy.float64'>, x: <class 'numpy.float64'>\n",
      "h: <class 'numpy.float64'>, x: <class 'numpy.float64'>\n",
      "h: <class 'numpy.float64'>, x: <class 'numpy.float64'>\n",
      "h: <class 'numpy.float64'>, x: <class 'numpy.float64'>\n",
      "h: <class 'numpy.float64'>, x: <class 'numpy.float64'>\n",
      "h: <class 'numpy.float64'>, x: <class 'numpy.float64'>\n",
      "h: <class 'numpy.float64'>, x: <class 'numpy.float64'>\n",
      "h: <class 'numpy.float64'>, x: <class 'numpy.float64'>\n",
      "h: <class 'numpy.float64'>, x: <class 'numpy.float64'>\n",
      "h: <class 'numpy.float64'>, x: <class 'numpy.float64'>\n",
      "h: <class 'numpy.float64'>, x: <class 'numpy.float64'>\n",
      "h: <class 'numpy.float64'>, x: <class 'numpy.float64'>\n",
      "h: <class 'numpy.float64'>, x: <class 'numpy.float64'>\n",
      "h: <class 'numpy.float64'>, x: <class 'numpy.float64'>\n",
      "h: <class 'numpy.float64'>, x: <class 'numpy.float64'>\n",
      "h: <class 'numpy.float64'>, x: <class 'numpy.float64'>\n",
      "h: <class 'numpy.float64'>, x: <class 'numpy.float64'>\n",
      "h: <class 'numpy.float64'>, x: <class 'numpy.float64'>\n",
      "h: <class 'numpy.float64'>, x: <class 'numpy.float64'>\n",
      "h: <class 'numpy.float64'>, x: <class 'numpy.float64'>\n",
      "h: <class 'numpy.float64'>, x: <class 'numpy.float64'>\n",
      "h: <class 'numpy.float64'>, x: <class 'numpy.float64'>\n",
      "h: <class 'numpy.float64'>, x: <class 'numpy.float64'>\n",
      "Numero de iteraciones: 73\n",
      "Aproximación solicitada: -1.68693989979924\n"
     ]
    }
   ],
   "source": [
    "getcontext().prec = 28\n",
    "# Como el coseno no admite un valor Decimal, tenemos que pasarlo normal\n",
    "x_n, iter, exit = newtonRaphson(f, 0.25, tol=1e-5)\n",
    "salida(x_n, iter, exit)"
   ]
  },
  {
   "cell_type": "markdown",
   "id": "edebc73d",
   "metadata": {},
   "source": [
    "## Ejercicio 6"
   ]
  },
  {
   "cell_type": "markdown",
   "id": "0929f3be",
   "metadata": {},
   "source": [
    "> **Ejercicio 6.** Para la función  $ f(x)= 3 x^2+e^x-1$,\n",
    "> \n",
    "> 1. Encuentre, mediante el método de bisección una aproximación de la raíz en $[0,1]$ con, al menos, cuatro decimales exactos (tol =$10^{-4}$), y determine el número de iteraciones realizadas;\n",
    "> \n",
    "> 2. Encuentre, mediante el método de Newton-Raphson, una aproximación de la raíz en $[0,1]$ con una tolerancia de $10^{-4}$, partiendo de $x_0=0$, y determine el número de iteraciones realizadas.  "
   ]
  },
  {
   "cell_type": "code",
   "execution_count": 164,
   "id": "6c3bccf2",
   "metadata": {},
   "outputs": [
    {
     "data": {
      "image/png": "[encoded data removed]",
      "text/plain": [
       "<Figure size 640x480 with 1 Axes>"
      ]
     },
     "metadata": {},
     "output_type": "display_data"
    }
   ],
   "source": [
    "def f(x):\n",
    "    \"\"\"\n",
    "    Función para calcular numéricamente $f(x) = 3x^2+e^x-1\n",
    "    \"\"\"\n",
    "    return 3*x**2 + np.exp(x) - 1\n",
    "dibuja_funcion(f, -1, 1, forzar_ejeX_0=True)"
   ]
  },
  {
   "cell_type": "markdown",
   "id": "64adb818",
   "metadata": {},
   "source": [
    "Usamos ahora el método de bisección una aproximación de la raíz en $[0,1]$ con, al menos, cuatro decimales exactos. Vemos que el número de iteraciones realizadas es 13.\n",
    "\n",
    "Como vemos, se trata de un caso peculiar, puesto que la raíz exacta es uno de los extremos del intervalo."
   ]
  },
  {
   "cell_type": "code",
   "execution_count": 165,
   "id": "f8823d62",
   "metadata": {},
   "outputs": [
    {
     "name": "stdout",
     "output_type": "stream",
     "text": [
      "Numero de iteraciones: 13\n",
      "Posible solución exacta: 0.00006103515625\n"
     ]
    }
   ],
   "source": [
    "x_n, iter, exit = biseccion(f, Decimal(0), Decimal(1), prec=1e-4)\n",
    "salida(x_n, iter, exit)"
   ]
  },
  {
   "cell_type": "markdown",
   "id": "8c9daf3d",
   "metadata": {},
   "source": [
    "Aplicamos ahora el método de Newton-Raphson para encontrar una aproximación de la raíz en $[0,1]$ con una tolerancia de $10^{-4}$, partiendo de $x_0=0$. "
   ]
  },
  {
   "cell_type": "code",
   "execution_count": 166,
   "id": "979fe12a",
   "metadata": {},
   "outputs": [
    {
     "name": "stdout",
     "output_type": "stream",
     "text": [
      "h: <class 'decimal.Decimal'>, x: <class 'decimal.Decimal'>\n",
      "Numero de iteraciones: 1\n",
      "Posible solución exacta: 0\n"
     ]
    }
   ],
   "source": [
    "x_n, iter, exit = newtonRaphson(f, Decimal(0), tol=1e-4)\n",
    "salida(x_n, iter, exit)"
   ]
  },
  {
   "cell_type": "markdown",
   "id": "4ec2ad3f",
   "metadata": {},
   "source": [
    "## Ejercicio 7"
   ]
  },
  {
   "cell_type": "markdown",
   "id": "2af17558",
   "metadata": {},
   "source": [
    "> **Ejercicio 7.** Implemente el método de iteración funcional de Steffensen para una función $f$. En particular, para la función $f(x)=e^x-3$:\n",
    "> * Represente gráficamente las funciones $g$ definidas tanto para el método de Newton-Raphson como para el método de Steffensen, comprobando que ambas poseen un punto fijo en la raíz de $f$.\n",
    "> * Aproxima su única raíz utilizando el método de Steffensen:\n",
    ">     * Cambiando la precisión a 5 cifras significativas.\n",
    ">     * Con la precisión por defecto y aproximando la raíz con 28 cifras significativas."
   ]
  },
  {
   "cell_type": "markdown",
   "id": "c6cf5496",
   "metadata": {},
   "source": [
    "Codificamos ahora el método de Steffensen. En este caso, la función $g$ que se define es la siguiente:\n",
    "$$g(x) = x - \\frac{f^2(x)}{f(x + f(x))-f(x)}$$"
   ]
  },
  {
   "cell_type": "code",
   "execution_count": 167,
   "id": "045d9395",
   "metadata": {},
   "outputs": [],
   "source": [
    "def Steffensen(f, x0, nmax=nmax, tol=tol, prec=prec):\n",
    "    \"\"\"Aproxima la raíz de una función utilizando el método de Steffensen.\n",
    "\n",
    "    Args:\n",
    "        f (function): Función continua cuya raíz se desea encontrar. Debe aceptar un solo argumento (float).\n",
    "        x0 (float): Primera aproximación inicial. Semilla.\n",
    "        nmax (int): Número máximo de iteraciones permitidas.\n",
    "        tol (float): Tolerancia entre dos aproximaciones sucesivas.\n",
    "        prec (int): Precisión de decimales para determinar si se ha alcanzado la raíz.\n",
    "\n",
    "    Returns:\n",
    "        tuple: Una tupla con:\n",
    "            - x (float): Aproximación de la raíz.\n",
    "            - iter (int): Número de iteraciones realizadas.\n",
    "            - exit (str): Motivo de salida del bucle:\n",
    "                - 'precision': Se alcanzó la precisión deseada.\n",
    "                - 'tolerancia': Se alcanzó la tolerancia deseada.\n",
    "                - 'iteraciones': Se alcanzó el número máximo de iteraciones.\n",
    "                - 'denominador cero': El denominador de la fórmula fue cero.\n",
    "    \"\"\"\n",
    "        \n",
    "    niter = 0\n",
    "    cont = True\n",
    "    exit = ''\n",
    "\n",
    "    # Construimos iteraciones iniciales\n",
    "    x_n = x0\n",
    "\n",
    "\n",
    "    while cont:\n",
    "        niter += 1\n",
    "\n",
    "        # Actualizamos las aproximaciones\n",
    "        x_n_1 = x_n\n",
    "        \n",
    "        f_x_n_1 = f(x_n_1)\n",
    "\n",
    "        \n",
    "        numerador = f_x_n_1**2\n",
    "        denominador = f(x_n_1 + f_x_n_1) - f_x_n_1\n",
    "\n",
    "        if denominador == 0:\n",
    "            return x_n_1, niter, 'denominador cero'\n",
    "\n",
    "        x_n = x_n_1 - (numerador / denominador)\n",
    "        \n",
    "        \n",
    "        if abs(f(x_n)) < prec:\n",
    "            exit = 'precision'\n",
    "            cont = False\n",
    "        elif abs(x_n - x_n_1) < tol:\n",
    "            exit = 'tolerancia'\n",
    "            cont = False\n",
    "        elif niter == nmax:\n",
    "            exit = 'iteraciones'\n",
    "            cont = False\n",
    "\n",
    "    return x_n, niter, exit"
   ]
  },
  {
   "cell_type": "markdown",
   "id": "febb88f7",
   "metadata": {},
   "source": [
    "Definimos ahora la función $f(x) = e^x - 3$ con la que vamos a trabajar en este ejercicio."
   ]
  },
  {
   "cell_type": "code",
   "execution_count": 168,
   "id": "aa370165",
   "metadata": {},
   "outputs": [
    {
     "data": {
      "image/png": "[encoded data removed]",
      "text/plain": [
       "<Figure size 640x480 with 1 Axes>"
      ]
     },
     "metadata": {},
     "output_type": "display_data"
    }
   ],
   "source": [
    "def f(x):\n",
    "    \"\"\"\n",
    "    Función para calcular numéricamente $f(x) = e^x - 3$.\n",
    "    \"\"\"\n",
    "    return np.exp(x) - 3\n",
    "dibuja_funcion(f, 0, 2)"
   ]
  },
  {
   "cell_type": "markdown",
   "id": "21b1c73f",
   "metadata": {},
   "source": [
    "La función $g$ que se define para el método de Steffensen es la siguiente:\n",
    "$$g(x) = x - \\frac{f^2(x)}{f(x + f(x))-f(x)}$$\n",
    "En su representación gráfica podemos observar que solo tiene un único punto fijo, que es la raíz de $f$. Podría parecer que se van a cortar, pero se trata de una asíntota."
   ]
  },
  {
   "cell_type": "code",
   "execution_count": 169,
   "id": "7a8cc4aa",
   "metadata": {},
   "outputs": [
    {
     "data": {
      "image/png": "[encoded data removed]",
      "text/plain": [
       "<Figure size 640x480 with 1 Axes>"
      ]
     },
     "metadata": {},
     "output_type": "display_data"
    }
   ],
   "source": [
    "def func_Steffensen(f):\n",
    "    \"\"\"\n",
    "    Función para calcular la función $g$ del método de Steffensen.\n",
    "    \"\"\"\n",
    "    def g(x):\n",
    "        numerador = f(x)**2\n",
    "        denominador = f(x + f(x)) - f(x)\n",
    "        return x - (numerador / denominador)\n",
    "    \n",
    "    return g\n",
    "dibuja_funcion(func_Steffensen(f), 0, 2, Y_X=True, titulo=False)"
   ]
  },
  {
   "cell_type": "markdown",
   "id": "7aa7ba6b",
   "metadata": {},
   "source": [
    "La función $g$ que se define para el método de Newton-Ramphson es la siguiente:\n",
    "$$g(x) = x - \\frac{f(x)}{f'(x)}$$\n",
    "En su representación gráfica podemos observar que solo tiene un único punto fijo, que es la raíz de $f$."
   ]
  },
  {
   "cell_type": "code",
   "execution_count": 170,
   "id": "b81c7a1b",
   "metadata": {},
   "outputs": [
    {
     "name": "stdout",
     "output_type": "stream",
     "text": [
      "h: <class 'float'>, x: <class 'numpy.ndarray'>\n",
      "h: <class 'int'>, x: <class 'int'>\n",
      "h: <class 'int'>, x: <class 'int'>\n"
     ]
    },
    {
     "name": "stderr",
     "output_type": "stream",
     "text": [
      "/tmp/ipykernel_6521/317807026.py:15: RuntimeWarning: invalid value encountered in scalar divide\n",
      "  return (f(x + h) - f(x - h)) / (2 * h)\n"
     ]
    },
    {
     "data": {
      "image/png": "[encoded data removed]",
      "text/plain": [
       "<Figure size 640x480 with 1 Axes>"
      ]
     },
     "metadata": {},
     "output_type": "display_data"
    }
   ],
   "source": [
    "def func_Newton_Ramphson(f):\n",
    "    \"\"\"\n",
    "    Función para calcular la función $g$ del método de Newton-Ramphson.\n",
    "    \"\"\"\n",
    "    def g(x):\n",
    "        numerador = f(x)\n",
    "        denominador = df(x)\n",
    "        return x - (numerador / denominador)\n",
    "    \n",
    "    return g\n",
    "dibuja_funcion(func_Newton_Ramphson(f), 0, 2, Y_X=True, titulo=False)"
   ]
  },
  {
   "cell_type": "markdown",
   "id": "50a15b42",
   "metadata": {},
   "source": [
    "Aproximamos ahora la raíz con la precisión de 5 cifras significativas. No obstante, antes de aproximarla, como sabemos que la raíz es $\\ln(3)$, imprimiremos su valor exacto para poder comparar."
   ]
  },
  {
   "cell_type": "code",
   "execution_count": 171,
   "id": "b80d1d63",
   "metadata": {},
   "outputs": [
    {
     "name": "stdout",
     "output_type": "stream",
     "text": [
      "Solución exacta: 1.098612288668109691395245237\n",
      "Numero de iteraciones: 3\n",
      "Posible solución exacta: 1.0986\n"
     ]
    }
   ],
   "source": [
    "print(f\"Solución exacta: {sp.N(sp.log(3), 28)}\")\n",
    "getcontext().prec = 5\n",
    "x_n, iter, exit = Steffensen(f, Decimal(1))\n",
    "salida(x_n, iter, exit)"
   ]
  },
  {
   "cell_type": "markdown",
   "id": "f762eb03",
   "metadata": {},
   "source": [
    "Notemos que el valor inicial es bastante relevante. Vemos que, probando con $0$ como semilla, el método no converge."
   ]
  },
  {
   "cell_type": "code",
   "execution_count": 172,
   "id": "4d5854af",
   "metadata": {},
   "outputs": [
    {
     "name": "stdout",
     "output_type": "stream",
     "text": [
      "Numero de iteraciones: 2\n",
      "Aproximación solicitada: 4.6259\n"
     ]
    }
   ],
   "source": [
    "getcontext().prec = 5\n",
    "x_n, iter, exit = Steffensen(f, Decimal(0))\n",
    "salida(x_n, iter, exit)"
   ]
  },
  {
   "cell_type": "code",
   "execution_count": 173,
   "id": "839fbc7a",
   "metadata": {},
   "outputs": [
    {
     "name": "stdout",
     "output_type": "stream",
     "text": [
      "Numero de iteraciones: 6\n",
      "Posible solución exacta: 1.098612288668109691395245237\n"
     ]
    }
   ],
   "source": [
    "getcontext().prec = 28\n",
    "x_n, niter, exit = Steffensen(f, Decimal(1))\n",
    "salida(x_n, niter, exit)"
   ]
  },
  {
   "cell_type": "markdown",
   "id": "b7978ad7",
   "metadata": {},
   "source": [
    "## Ejercicio 8"
   ]
  },
  {
   "cell_type": "markdown",
   "id": "f2df4c32",
   "metadata": {},
   "source": [
    "> **Ejercicio 8.** Implemente el método de aceleración de la convergencia de Steffensen y aplíquelo a una sucesión de valores obtenidos mediante iteración funcional de Newton-Raphson a la función $f(x) = e^x -3$. Compare las aproximaciones tras 4 iteraciones del método de Newton-Raphson, aceleración de la convergencia de Aitken y aceleración de la convergencia de Steffensen."
   ]
  },
  {
   "cell_type": "markdown",
   "id": "457e1234",
   "metadata": {},
   "source": [
    "Codificamos en primer lugar ambos métodos de aceleración de la convergencia, tanto el de Aitken como el de Steffensen. El método base que se usará es el de Newton-Raphson, que ya hemos definido anteriormente."
   ]
  },
  {
   "cell_type": "code",
   "execution_count": 174,
   "id": "79528086",
   "metadata": {},
   "outputs": [],
   "source": [
    "def Aitken(f, x0, nmax=nmax, tol=tol, prec=prec):\n",
    "    \"\"\"Aproxima la raíz de una función utilizando el método de Aitken. Como método base usa N-R\n",
    "    Args:\n",
    "        f (function): Función continua cuya raíz se desea encontrar. Debe aceptar un solo argumento (float).\n",
    "        x0 (float): Primera aproximación inicial. Semilla.\n",
    "        nmax (int): Número máximo de iteraciones permitidas.\n",
    "        tol (float): Tolerancia entre dos aproximaciones sucesivas.\n",
    "        prec (int): Precisión de decimales para determinar si se ha alcanzado la raíz.\n",
    "    Returns:\n",
    "        tuple: Una tupla con:\n",
    "            - x (float): Aproximación de la raíz.\n",
    "            - iter (int): Número de iteraciones realizadas.\n",
    "            - exit (str): Motivo de salida del bucle:\n",
    "                - 'precision': Se alcanzó la precisión deseada.\n",
    "                - 'tolerancia': Se alcanzó la tolerancia deseada.\n",
    "                - 'iteraciones': Se alcanzó el número máximo de iteraciones.\n",
    "                - 'denominador cero': El denominador de la fórmula fue cero.\n",
    "    \"\"\"\n",
    "    niter = 0\n",
    "    cont = True\n",
    "    exit = ''\n",
    "\n",
    "    # Construimos iteraciones iniciales\n",
    "    x_n_1 = x0\n",
    "    x_n_2, _ , exit = newtonRaphson(f, x_n_1, nmax=1, tol=tol, prec=prec)\n",
    "\n",
    "    x_hat_n = x0\n",
    "\n",
    "    while cont:\n",
    "        niter += 1\n",
    "\n",
    "        # Actualizamos las aproximaciones\n",
    "        x_hat_n_1 = x_hat_n\n",
    "\n",
    "        x_n = x_n_1\n",
    "        x_n_1 = x_n_2\n",
    "        x_n_2, _ , exit = newtonRaphson(f, x_n_1, nmax=1, tol=tol, prec=prec)\n",
    "\n",
    "        numerador = (x_n_1 - x_n)**2\n",
    "        denominador = x_n_2 - 2*x_n_1 + x_n\n",
    "\n",
    "        \n",
    "        if denominador == 0 or exit == 'denominador cero':\n",
    "            return x_hat_n_1, niter, 'denominador cero'\n",
    "\n",
    "        \n",
    "        x_hat_n = x_n - (numerador / denominador)\n",
    "        \n",
    "        \n",
    "        if abs(f(x_hat_n)) < prec:\n",
    "            exit = 'precision'\n",
    "            cont = False\n",
    "        elif abs(x_hat_n - x_hat_n_1) < tol:\n",
    "            exit = 'tolerancia'\n",
    "            cont = False\n",
    "        elif niter == nmax:\n",
    "            exit = 'iteraciones'\n",
    "            cont = False\n",
    "\n",
    "    return x_hat_n, niter, exit"
   ]
  },
  {
   "cell_type": "code",
   "execution_count": 175,
   "id": "48a98135",
   "metadata": {},
   "outputs": [],
   "source": [
    "def acel_Steffensen(f, x0, nmax=nmax, tol=tol, prec=prec):\n",
    "    \"\"\"Aproxima la raíz de una función utilizando el método de Steffensen.\n",
    "    Args:\n",
    "        f (function): Función continua cuya raíz se desea encontrar. Debe aceptar un solo argumento (float).\n",
    "        x0 (float): Primera aproximación inicial. Semilla.\n",
    "        nmax (int): Número máximo de iteraciones permitidas.\n",
    "        tol (float): Tolerancia entre dos aproximaciones sucesivas.\n",
    "        prec (int): Precisión de decimales para determinar si se ha alcanzado la raíz.\n",
    "    Returns:\n",
    "        tuple: Una tupla con:\n",
    "            - x (float): Aproximación de la raíz.\n",
    "            - iter (int): Número de iteraciones realizadas.\n",
    "            - exit (str): Motivo de salida del bucle:\n",
    "                - 'precision': Se alcanzó la precisión deseada.\n",
    "                - 'tolerancia': Se alcanzó la tolerancia deseada.\n",
    "                - 'iteraciones': Se alcanzó el número máximo de iteraciones.\n",
    "                - 'denominador cero': El denominador de la fórmula fue cero.\n",
    "    \"\"\"\n",
    "    niter = 0\n",
    "    cont = True\n",
    "    exit = ''\n",
    "\n",
    "    # Construimos iteraciones iniciales\n",
    "    x_n = x0\n",
    "\n",
    "    while cont:\n",
    "        niter += 1\n",
    "\n",
    "        # Actualizamos las aproximaciones\n",
    "        x_n_1 = x_n\n",
    "\n",
    "        x_n, _ , exit = Aitken(f, x_n_1, nmax=1, tol=tol, prec=prec)\n",
    "        \n",
    "        if exit == 'denominador cero':\n",
    "            return x_n_1, niter, 'denominador cero'\n",
    "              \n",
    "        if abs(f(x_n)) < prec:\n",
    "            exit = 'precision'\n",
    "            cont = False\n",
    "        elif abs(x_n - x_n_1) < tol:\n",
    "            exit = 'tolerancia'\n",
    "            cont = False\n",
    "        elif niter == nmax:\n",
    "            exit = 'iteraciones'\n",
    "            cont = False\n",
    "\n",
    "    return x_n, niter, exit"
   ]
  },
  {
   "cell_type": "markdown",
   "id": "9cbccfe3",
   "metadata": {},
   "source": [
    "Con el siguiente ejemplo, vemos que efectivamente funciona, es decir, que cada una de las aceleraciones de la convergencia nos proporciona el resultado preciso con un menor número de iteraciones."
   ]
  },
  {
   "cell_type": "code",
   "execution_count": 176,
   "id": "9cb2b60f",
   "metadata": {},
   "outputs": [
    {
     "name": "stdout",
     "output_type": "stream",
     "text": [
      "------- Newton Raphson -------\n",
      "h: <class 'decimal.Decimal'>, x: <class 'decimal.Decimal'>\n",
      "h: <class 'decimal.Decimal'>, x: <class 'decimal.Decimal'>\n",
      "h: <class 'decimal.Decimal'>, x: <class 'decimal.Decimal'>\n",
      "h: <class 'decimal.Decimal'>, x: <class 'decimal.Decimal'>\n",
      "h: <class 'decimal.Decimal'>, x: <class 'decimal.Decimal'>\n",
      "h: <class 'decimal.Decimal'>, x: <class 'decimal.Decimal'>\n",
      "h: <class 'decimal.Decimal'>, x: <class 'decimal.Decimal'>\n",
      "Numero de iteraciones: 7\n",
      "Posible solución exacta: 1.098612288668109691395245237\n",
      "------- Aitken -------\n",
      "h: <class 'decimal.Decimal'>, x: <class 'decimal.Decimal'>\n",
      "h: <class 'decimal.Decimal'>, x: <class 'decimal.Decimal'>\n",
      "h: <class 'decimal.Decimal'>, x: <class 'decimal.Decimal'>\n",
      "h: <class 'decimal.Decimal'>, x: <class 'decimal.Decimal'>\n",
      "h: <class 'decimal.Decimal'>, x: <class 'decimal.Decimal'>\n",
      "h: <class 'decimal.Decimal'>, x: <class 'decimal.Decimal'>\n",
      "h: <class 'decimal.Decimal'>, x: <class 'decimal.Decimal'>\n",
      "Numero de iteraciones: 6\n",
      "Posible solución exacta: 1.098612288668109691395245237\n",
      "------- Aceleración de Steffensen -------\n",
      "h: <class 'decimal.Decimal'>, x: <class 'decimal.Decimal'>\n",
      "h: <class 'decimal.Decimal'>, x: <class 'decimal.Decimal'>\n",
      "h: <class 'decimal.Decimal'>, x: <class 'decimal.Decimal'>\n",
      "h: <class 'decimal.Decimal'>, x: <class 'decimal.Decimal'>\n",
      "h: <class 'decimal.Decimal'>, x: <class 'decimal.Decimal'>\n",
      "h: <class 'decimal.Decimal'>, x: <class 'decimal.Decimal'>\n",
      "h: <class 'decimal.Decimal'>, x: <class 'decimal.Decimal'>\n",
      "h: <class 'decimal.Decimal'>, x: <class 'decimal.Decimal'>\n",
      "Numero de iteraciones: 4\n",
      "Posible solución exacta: 1.098612288668109691395245237\n"
     ]
    }
   ],
   "source": [
    "x0 = Decimal(2)\n",
    "\n",
    "print(f\"------- Newton Raphson -------\")\n",
    "x_n, niter, exit = newtonRaphson(f, x0)\n",
    "salida(x_n, niter, exit)\n",
    "print(f\"------- Aitken -------\")\n",
    "x_n, niter, exit = Aitken(f, x0)\n",
    "salida(x_n, niter, exit)\n",
    "print(f\"------- Aceleración de Steffensen -------\")\n",
    "x_n, niter, exit = acel_Steffensen(f, x0)\n",
    "salida(x_n, niter, exit)"
   ]
  },
  {
   "cell_type": "code",
   "execution_count": 177,
   "id": "3af1cdef",
   "metadata": {},
   "outputs": [
    {
     "name": "stdout",
     "output_type": "stream",
     "text": [
      "Solución exacta: 1.098612288668109691395245237\n",
      "------- Newton Raphson -------\n",
      "h: <class 'decimal.Decimal'>, x: <class 'decimal.Decimal'>\n",
      "h: <class 'decimal.Decimal'>, x: <class 'decimal.Decimal'>\n",
      "h: <class 'decimal.Decimal'>, x: <class 'decimal.Decimal'>\n",
      "h: <class 'decimal.Decimal'>, x: <class 'decimal.Decimal'>\n",
      "Numero de iteraciones: 4\n",
      "Se alcanzó el número máximo de iteraciones.\n",
      "Última aproximación: 1.098612694533310907658385395\n",
      "------- Aitken -------\n",
      "h: <class 'decimal.Decimal'>, x: <class 'decimal.Decimal'>\n",
      "h: <class 'decimal.Decimal'>, x: <class 'decimal.Decimal'>\n",
      "h: <class 'decimal.Decimal'>, x: <class 'decimal.Decimal'>\n",
      "h: <class 'decimal.Decimal'>, x: <class 'decimal.Decimal'>\n",
      "h: <class 'decimal.Decimal'>, x: <class 'decimal.Decimal'>\n",
      "Numero de iteraciones: 4\n",
      "Se alcanzó el número máximo de iteraciones.\n",
      "Última aproximación: 1.098612288485220773503428235\n",
      "------- Aceleración de Steffensen -------\n",
      "h: <class 'decimal.Decimal'>, x: <class 'decimal.Decimal'>\n",
      "h: <class 'decimal.Decimal'>, x: <class 'decimal.Decimal'>\n",
      "h: <class 'decimal.Decimal'>, x: <class 'decimal.Decimal'>\n",
      "h: <class 'decimal.Decimal'>, x: <class 'decimal.Decimal'>\n",
      "h: <class 'decimal.Decimal'>, x: <class 'decimal.Decimal'>\n",
      "h: <class 'decimal.Decimal'>, x: <class 'decimal.Decimal'>\n",
      "h: <class 'decimal.Decimal'>, x: <class 'decimal.Decimal'>\n",
      "h: <class 'decimal.Decimal'>, x: <class 'decimal.Decimal'>\n",
      "Numero de iteraciones: 4\n",
      "Posible solución exacta: 1.098612288668109691395245237\n"
     ]
    }
   ],
   "source": [
    "x0 = Decimal(2)\n",
    "iters = 4\n",
    "\n",
    "print(f\"Solución exacta: {sp.N(sp.log(3), 28)}\")\n",
    "print(f\"------- Newton Raphson -------\")\n",
    "x_n, niter, exit = newtonRaphson(f, x0, nmax=iters)\n",
    "salida(x_n, niter, exit)\n",
    "print(f\"------- Aitken -------\")\n",
    "x_n, niter, exit = Aitken(f, x0, nmax=iters)\n",
    "salida(x_n, niter, exit)\n",
    "print(f\"------- Aceleración de Steffensen -------\")\n",
    "x_n, niter, exit = acel_Steffensen(f, x0, nmax=iters)\n",
    "salida(x_n, niter, exit)"
   ]
  },
  {
   "cell_type": "markdown",
   "id": "945d76c5",
   "metadata": {},
   "source": [
    "Aquí de nuevo vemos que Steffensen se comporta mejor que los otros dos métodos. De hecho, es el único que llega a la posible solución exacta."
   ]
  },
  {
   "cell_type": "markdown",
   "id": "de1f21f6",
   "metadata": {},
   "source": [
    "## Ejercicio 9"
   ]
  },
  {
   "cell_type": "markdown",
   "id": "dd569277",
   "metadata": {},
   "source": [
    "> **Ejercicio 9** Utilice las órdenes apropiadas de Python para aproximar todos los puntos donde se anulan las funciones siguientes (si es necesario, represéntelas gráficamente):\n",
    "> \n",
    "> i) $f(x)=x^7-x^4+2$ ,\n",
    "> \n",
    "> ii) $f(x)=x^7+\\cos  x-3$."
   ]
  },
  {
   "cell_type": "markdown",
   "id": "98c8bb10",
   "metadata": {},
   "source": [
    "#### Ejercicio 9.1"
   ]
  },
  {
   "cell_type": "code",
   "execution_count": 178,
   "id": "3b3eaf62",
   "metadata": {},
   "outputs": [
    {
     "data": {
      "image/png": "[encoded data removed]",
      "text/plain": [
       "<Figure size 640x480 with 1 Axes>"
      ]
     },
     "metadata": {},
     "output_type": "display_data"
    }
   ],
   "source": [
    "def f(x):\n",
    "    \"\"\"\n",
    "    Función para calcular numéricamente $f(x) = x^7-x^4+2$.\n",
    "    \"\"\"\n",
    "    return NewtonHorner([1,0,0,-1,0,0,0,2], x)\n",
    "dibuja_funcion(f, -1.1, 1.1)"
   ]
  },
  {
   "cell_type": "markdown",
   "id": "562a1bc8",
   "metadata": {},
   "source": [
    "Procedemos en primer lugar a resolverlo de forma simbólica. Vemos que tan solo tiene una raíz real (el $-1$), y el resto de las raíces son las 6 raíces complejas del polinomio $x^6 - x^5 + x^4-2x^3+2x^2-2x+2$."
   ]
  },
  {
   "cell_type": "code",
   "execution_count": 179,
   "id": "6a2cc263",
   "metadata": {},
   "outputs": [
    {
     "name": "stdout",
     "output_type": "stream",
     "text": [
      "[-1, CRootOf(x**6 - x**5 + x**4 - 2*x**3 + 2*x**2 - 2*x + 2, 0), CRootOf(x**6 - x**5 + x**4 - 2*x**3 + 2*x**2 - 2*x + 2, 1), CRootOf(x**6 - x**5 + x**4 - 2*x**3 + 2*x**2 - 2*x + 2, 2), CRootOf(x**6 - x**5 + x**4 - 2*x**3 + 2*x**2 - 2*x + 2, 3), CRootOf(x**6 - x**5 + x**4 - 2*x**3 + 2*x**2 - 2*x + 2, 4), CRootOf(x**6 - x**5 + x**4 - 2*x**3 + 2*x**2 - 2*x + 2, 5)]\n"
     ]
    }
   ],
   "source": [
    "x = sp.Symbol('x')\n",
    "print(sp.solve( x**7-x**4+2, x ))"
   ]
  },
  {
   "cell_type": "markdown",
   "id": "f03b1113",
   "metadata": {},
   "source": [
    "Una vez vistas las soluciones exactas, nos interesa obtener las aproximaciones. Al tratarse de un polinomio, la mejor opción será usarla función `roots` de `NumPy`."
   ]
  },
  {
   "cell_type": "code",
   "execution_count": 180,
   "id": "6a7ec616",
   "metadata": {},
   "outputs": [
    {
     "name": "stdout",
     "output_type": "stream",
     "text": [
      "[ 1.06110281+0.37638405j  1.06110281-0.37638405j  0.15199934+1.01945595j\n",
      "  0.15199934-1.01945595j -0.71310215+0.98823189j -0.71310215-0.98823189j\n",
      " -1.        +0.j        ]\n"
     ]
    }
   ],
   "source": [
    "print(np.roots([1,0,0,-1,0,0,0,2]))"
   ]
  },
  {
   "cell_type": "markdown",
   "id": "11686960",
   "metadata": {},
   "source": [
    "#### Ejercicio 9.2"
   ]
  },
  {
   "cell_type": "code",
   "execution_count": 181,
   "id": "33748816",
   "metadata": {},
   "outputs": [
    {
     "data": {
      "image/png": "[encoded data removed]",
      "text/plain": [
       "<Figure size 640x480 with 1 Axes>"
      ]
     },
     "metadata": {},
     "output_type": "display_data"
    }
   ],
   "source": [
    "def f(x):\n",
    "    \"\"\"\n",
    "    Función para calcular numéricamente $f(x) = x^7+cos(x)-3\n",
    "    \"\"\"\n",
    "    return x**7 + np.cos(x) - 3\n",
    "dibuja_funcion(f, -1.1, 1.5)"
   ]
  },
  {
   "cell_type": "markdown",
   "id": "22efb9ac",
   "metadata": {},
   "source": [
    "Procedemos en primer lugar a intentar resolverlo de forma simbólica. No obstante, descomentando dicha línea vemos que no es posible."
   ]
  },
  {
   "cell_type": "code",
   "execution_count": 182,
   "id": "64a9b648",
   "metadata": {},
   "outputs": [],
   "source": [
    "#print(sp.solve( x**7-sp.cos(x)-3, x ))"
   ]
  },
  {
   "cell_type": "markdown",
   "id": "47759f30",
   "metadata": {},
   "source": [
    "Por tanto, tan solo nos queda aproximarla. Como no se trata de un polinomio, tenemos que optar por un método distinto de `roots`. Usamos `fsolve` de `SciPy`, que nos permite aproximar la raíz de una función. A este método debemos pasarle como parámetro un valor cercano a la raíz, que será la semilla."
   ]
  },
  {
   "cell_type": "code",
   "execution_count": 183,
   "id": "10989047",
   "metadata": {},
   "outputs": [
    {
     "name": "stdout",
     "output_type": "stream",
     "text": [
      "[1.14545981]\n"
     ]
    }
   ],
   "source": [
    "\n",
    "from scipy.optimize import fsolve\n",
    "print(fsolve(f, -0.7))"
   ]
  },
  {
   "cell_type": "markdown",
   "id": "c5d3b66a",
   "metadata": {},
   "source": [
    "Notemos que la elección de la raíz es vital, y en este ejercicio debe realizarse de forma cuidadosa. Por ejemplo, si elegimos el valor de $-0.5$ como raíz, el método no es convergente (y nos avisa de ello)."
   ]
  },
  {
   "cell_type": "code",
   "execution_count": 184,
   "id": "e232775d",
   "metadata": {},
   "outputs": [
    {
     "name": "stdout",
     "output_type": "stream",
     "text": [
      "[-0.00327567]\n"
     ]
    },
    {
     "name": "stderr",
     "output_type": "stream",
     "text": [
      "/tmp/ipykernel_6521/2234084708.py:1: RuntimeWarning: The iteration is not making good progress, as measured by the \n",
      " improvement from the last five Jacobian evaluations.\n",
      "  print(fsolve(f, -0.5))\n"
     ]
    }
   ],
   "source": [
    "print(fsolve(f, -0.5))"
   ]
  },
  {
   "cell_type": "markdown",
   "id": "f4da7f4a",
   "metadata": {},
   "source": [
    "## Ejercicio 10"
   ]
  },
  {
   "cell_type": "markdown",
   "id": "65988a72",
   "metadata": {},
   "source": [
    "> **Ejercicio 10:** De los métodos implementados en los anteriores ejercicios, utiliza el método o métodos numéricos que desees para aproximar la primera raíz de la función\n",
    "> $$\n",
    "> f:[0,1]\\longrightarrow\\mathbb R \\\\\n",
    "> f(x) = x(1-x)\\sin\\left(\\dfrac{2\\pi}{x+1/10}\\right)\n",
    "> $$\n",
    "> que sea mayor que una milésima con una precisión de 28 cifras significativas y utilizando el menor número de iteraciones posible. Imprime por pantalla tu aproximación y el número de iteraciones utilizado."
   ]
  },
  {
   "cell_type": "code",
   "execution_count": 203,
   "id": "2ae45068",
   "metadata": {},
   "outputs": [
    {
     "data": {
      "image/png": "[encoded data removed]",
      "text/plain": [
       "<Figure size 640x480 with 1 Axes>"
      ]
     },
     "metadata": {},
     "output_type": "display_data"
    }
   ],
   "source": [
    "def f(x):\n",
    "    \"\"\"\n",
    "    Función para calcular numéricamente $f(x) = x(1-x)sen(2 pi / x + 1/10)\n",
    "    \"\"\"\n",
    "    return x*((1-x))*np.sin(( (2*np.pi)/(x + 0.1) ))\n",
    "dibuja_funcion(f, -1, 1)"
   ]
  },
  {
   "cell_type": "markdown",
   "id": "710e0cd8",
   "metadata": {},
   "source": [
    "Como podemos ver, esta función tiene una gran cantidad de raíces. Como buscamos la primera raíz mayor que una milésima ($0.001$), representamos la función con mayor precisión en dicho valor."
   ]
  },
  {
   "cell_type": "code",
   "execution_count": 186,
   "id": "f6c5089c",
   "metadata": {},
   "outputs": [
    {
     "data": {
      "image/png": "[encoded data removed]",
      "text/plain": [
       "<Figure size 640x480 with 1 Axes>"
      ]
     },
     "metadata": {},
     "output_type": "display_data"
    }
   ],
   "source": [
    "dibuja_funcion(f, 0.001, 0.008)"
   ]
  },
  {
   "cell_type": "markdown",
   "id": "04ec01c4",
   "metadata": {},
   "source": [
    "Como primera opción, podríamos usar el método de bisección en el intervalo $[0.001,0.008]$, puesto que vemos que tan solo tiene una raíz en dicho intervalo, por lo que el método (que sabemos que siempre es convergente), convergerá a la raíz que buscamos. Este método evidentemente no es el más eficiente, pero es una primera opción."
   ]
  },
  {
   "cell_type": "code",
   "execution_count": 204,
   "id": "7a00f31b",
   "metadata": {},
   "outputs": [
    {
     "name": "stdout",
     "output_type": "stream",
     "text": [
      "------Bisección-------\n",
      "Numero de iteraciones: 45\n",
      "Aproximación solicitada: 0.005263157894736779\n"
     ]
    }
   ],
   "source": [
    "print(f\"------Bisección-------\")\n",
    "x_n, niter, exit = biseccion(f, 0.001, 0.008)\n",
    "salida(x_n, niter, exit)"
   ]
  },
  {
   "cell_type": "markdown",
   "id": "5f5a9f7b",
   "metadata": {},
   "source": [
    "Como segunda opción, podríamos intentar usar el método de Newton-Raphson usando la aceleración de Steffensen (que sabemos que reduce el número de iteraciones). Emplearemos de aquí en adelante este método, puesto que Newton-Raphson es, por norma general, el método más eficiente visto hasta el momento. Usamos además la aceleración de Steffensen, que nos permite reducir el número de iteraciones.\n",
    "\n",
    "\n",
    "No obstante, como vemos, no converge a la raíz buscada. Esto se debe a que nada nos garantiza que las iteraciones de los métodos empleados creen una sucesión de aproximaciones crecientes, ni nada por el estilo."
   ]
  },
  {
   "cell_type": "code",
   "execution_count": 228,
   "id": "587418bf",
   "metadata": {},
   "outputs": [
    {
     "name": "stdout",
     "output_type": "stream",
     "text": [
      "------Aceleración de Steffensen con N-R. x_0=0.001-------\n",
      "Numero de iteraciones: 28\n",
      "Posible solución exacta: -3.142097159605307171719055618e-16\n"
     ]
    }
   ],
   "source": [
    "\n",
    "print(f\"------Aceleración de Steffensen con N-R. x_0=0.001-------\")\n",
    "x_n, niter, exit = acel_Steffensen(f, x0 = 0.001)\n",
    "salida(x_n, niter, exit)"
   ]
  },
  {
   "cell_type": "markdown",
   "id": "e432720e",
   "metadata": {},
   "source": [
    "Como última opción, tan solo nos queda emplear distintas semillas hasta que una de ellas nos proporcione una aproximación de la raíz buscada. Esto podemos hacerlo porque previamente la hemos representado, y sabemos que la raíz buscada es caroximadamente $0.005$."
   ]
  },
  {
   "cell_type": "code",
   "execution_count": 206,
   "id": "e3c3f017",
   "metadata": {},
   "outputs": [
    {
     "name": "stdout",
     "output_type": "stream",
     "text": [
      "------Aceleración de Steffensen con N-R. x_0=0.004-------\n",
      "Numero de iteraciones: 5\n",
      "Aproximación solicitada: 0.005263157894736837\n",
      "------Aceleración de Steffensen con N-R. x_0=0.005-------\n",
      "Numero de iteraciones: 4\n",
      "El denominador se volvió cero, no se puede continuar.\n",
      "Última aproximación: 0.005263157894736829\n",
      "------Aceleración de Steffensen con N-R. x_0=0.006-------\n",
      "Numero de iteraciones: 4\n",
      "El denominador se volvió cero, no se puede continuar.\n",
      "Última aproximación: 0.005263157894736826\n"
     ]
    }
   ],
   "source": [
    "print(f\"------Aceleración de Steffensen con N-R. x_0=0.004-------\")\n",
    "x_n, niter, exit = acel_Steffensen(f, x0=0.004)\n",
    "salida(x_n, niter, exit)\n",
    "print(f\"------Aceleración de Steffensen con N-R. x_0=0.005-------\")\n",
    "x_n, niter, exit = acel_Steffensen(f, x0=0.005)\n",
    "salida(x_n, niter, exit)\n",
    "print(f\"------Aceleración de Steffensen con N-R. x_0=0.006-------\")\n",
    "x_n, niter, exit = acel_Steffensen(f, x0=0.006)\n",
    "salida(x_n, niter, exit)"
   ]
  },
  {
   "cell_type": "markdown",
   "id": "9148417b",
   "metadata": {},
   "source": [
    "Notemos que en los tres casos converge a la raíz buscada, pero en ninguno de ellos obtenemos una posible solución exacta. En el primer caso obtenemos dos aproximaciones muy cercanas que, por el valor de tolerancia, se sale del método. En los otros dos casos, obtenemos una división entre $0$ por lo que directamente no puede continuar. La respuesta por tanto no es satisfactoria. Esto se debe a que trabajamos con valores de tolerancia y presición muy altos."
   ]
  },
  {
   "cell_type": "markdown",
   "id": "078188f2",
   "metadata": {},
   "source": [
    "Hasta ahora, no hemos podido trabajar con el paquete `Decimal` en este ejercicio, puesto que la función `np.sin` no es compatible con dicho paquete. Trabajamos ahora por tanto con el paquete `mpmath`, que nos permite trabajar con números de precisión arbitraria. Definamos la precición a $28$."
   ]
  },
  {
   "cell_type": "code",
   "execution_count": 190,
   "id": "e8c0b26e",
   "metadata": {},
   "outputs": [],
   "source": [
    "import mpmath as mp\n",
    "mp.mp.dps = 28"
   ]
  },
  {
   "cell_type": "markdown",
   "id": "fdb1a6d7",
   "metadata": {},
   "source": [
    "Como hemos cambiado de módulo con el que trabajar, usamos también la función `mpmath.sin` para calcular el seno."
   ]
  },
  {
   "cell_type": "code",
   "execution_count": null,
   "id": "b5458452",
   "metadata": {},
   "outputs": [],
   "source": [
    "def f(x):\n",
    "    \"\"\"\n",
    "    Función para calcular con mpmath $f(x) = x(1-x)sen(2 pi / x + 1/10)\n",
    "    \"\"\"\n",
    "    return x*((1-x))*mp.sin(( (2*mp.pi)/(x + 0.1) ))"
   ]
  },
  {
   "cell_type": "markdown",
   "id": "f960e8af",
   "metadata": {},
   "source": [
    "Veamos ahora la salida que obtenemos para el método de aceleración de Steffensen, recordando que anteriormente no hemos llegado a resultados satisfactorios para ninguna de las tres semillas empleadas."
   ]
  },
  {
   "cell_type": "code",
   "execution_count": 227,
   "id": "0f037830",
   "metadata": {},
   "outputs": [
    {
     "name": "stdout",
     "output_type": "stream",
     "text": [
      "------Aceleración de Steffensen con N-R. x_0=0.003-------\n",
      "Numero de iteraciones: 29\n",
      "Posible solución exacta: -3.2859801378057097160816723e-16\n",
      "\n",
      "------Aceleración de Steffensen con N-R. x_0=0.004-------\n",
      "Numero de iteraciones: 5\n",
      "Posible solución exacta: 0.00526315789473683655414803477\n",
      "\n",
      "------Aceleración de Steffensen con N-R. x_0=0.005-------\n",
      "Numero de iteraciones: 4\n",
      "Posible solución exacta: 0.005263157894736836554148034769\n",
      "\n",
      "------Aceleración de Steffensen con N-R. x_0=0.006-------\n",
      "Numero de iteraciones: 4\n",
      "Posible solución exacta: 0.00526315789473683655414803477\n",
      "\n",
      "------Aceleración de Steffensen con N-R. x_0=0.007-------\n",
      "Numero de iteraciones: 4\n",
      "Posible solución exacta: 0.005263157894736836554148034769\n",
      "\n",
      "------Aceleración de Steffensen con N-R. x_0=0.008-------\n",
      "Numero de iteraciones: 29\n",
      "Posible solución exacta: -3.495755294732363531130441464e-16\n"
     ]
    }
   ],
   "source": [
    "print(f\"------Aceleración de Steffensen con N-R. x_0=0.003-------\")\n",
    "x_n, niter, exit = acel_Steffensen(f, x0=mp.mpf(0.003), tol=1e-28, prec=1e-28)\n",
    "salida(x_n, niter, exit)\n",
    "print(f\"\\n------Aceleración de Steffensen con N-R. x_0=0.004-------\")\n",
    "x_n, niter, exit = acel_Steffensen(f, x0=mp.mpf(0.004), tol=1e-28, prec=1e-28)\n",
    "salida(x_n, niter, exit)\n",
    "print(f\"\\n------Aceleración de Steffensen con N-R. x_0=0.005-------\")\n",
    "x_n, niter, exit = acel_Steffensen(f, x0=mp.mpf(0.005), tol=1e-28, prec=1e-28)\n",
    "salida(x_n, niter, exit)\n",
    "print(f\"\\n------Aceleración de Steffensen con N-R. x_0=0.006-------\")\n",
    "x_n, niter, exit = acel_Steffensen(f, x0=mp.mpf(0.006), tol=1e-28, prec=1e-28)\n",
    "salida(x_n, niter, exit)\n",
    "print(f\"\\n------Aceleración de Steffensen con N-R. x_0=0.007-------\")\n",
    "x_n, niter, exit = acel_Steffensen(f, x0=mp.mpf(0.007), tol=1e-28, prec=1e-28)\n",
    "salida(x_n, niter, exit)\n",
    "print(f\"\\n------Aceleración de Steffensen con N-R. x_0=0.008-------\")\n",
    "x_n, niter, exit = acel_Steffensen(f, x0=mp.mpf(0.008), tol=1e-28, prec=1e-28)\n",
    "salida(x_n, niter, exit)"
   ]
  },
  {
   "cell_type": "markdown",
   "id": "ffda2ee2",
   "metadata": {},
   "source": [
    "En este caso, vemos que las salidas son satisfactorias en todos los casos. Además, hemos usado diversas semillas para ver que algunas convergen a la raíz buscada y otras convergen a otras raíces. Observamos además que el número de iteraciones es muy bajo, por lo que el método es muy eficiente."
   ]
  },
  {
   "cell_type": "markdown",
   "id": "f0472793",
   "metadata": {},
   "source": [
    "Por tanto, la opción por la que optamos es el método de aceleración de Steffensen usando la semilla $0.005$."
   ]
  },
  {
   "cell_type": "code",
   "execution_count": 226,
   "id": "e5ffb77d",
   "metadata": {},
   "outputs": [
    {
     "name": "stdout",
     "output_type": "stream",
     "text": [
      "------Aceleración de Steffensen con N-R. x_0=0.005-------\n",
      "Numero de iteraciones: 4\n",
      "Posible solución exacta: 0.005263157894736836554148034769\n"
     ]
    }
   ],
   "source": [
    "print(f\"------Aceleración de Steffensen con N-R. x_0=0.005-------\")\n",
    "x_n, niter, exit = acel_Steffensen(f, x0=mp.mpf(0.005), tol=1e-28, prec=1e-28)\n",
    "salida(x_n, niter, exit)"
   ]
  }
 ],
 "metadata": {
  "kernelspec": {
   "display_name": "venv",
   "language": "python",
   "name": "python3"
  },
  "language_info": {
   "codemirror_mode": {
    "name": "ipython",
    "version": 3
   },
   "file_extension": ".py",
   "mimetype": "text/x-python",
   "name": "python",
   "nbconvert_exporter": "python",
   "pygments_lexer": "ipython3",
   "version": "3.12.3"
  }
 },
 "nbformat": 4,
 "nbformat_minor": 5
}
