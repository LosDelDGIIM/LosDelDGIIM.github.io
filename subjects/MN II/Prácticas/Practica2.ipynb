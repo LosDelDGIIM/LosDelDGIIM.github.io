{
 "cells": [
  {
   "cell_type": "markdown",
   "id": "abaa2827",
   "metadata": {},
   "source": [
    "# Métodos Numéricos II. Práctica 2.\n",
    "\n",
    "**Autor:** Arturo Olivares Martos\n",
    "***\n",
    "\n",
    "- **Asignatura:** Métodos Numéricos II.\n",
    "- **Curso Académico:** 2024-25.\n",
    "- **Grado:** Doble Grado en Ingeniería Informática y Matemáticas.\n",
    "- **Grupo:** Único.\n",
    "- **Profesor:** Juan Antonio Villegas Recio\n",
    "- **Descripción:** Práctica 2 de la asignatura Métodos Numéricos II.\n",
    "<!--- **Fecha:** 17 de abril de 2023. -->\n",
    "<!-- - **Duración:** -->"
   ]
  },
  {
   "cell_type": "markdown",
   "id": "202fbda9",
   "metadata": {},
   "source": [
    "En primer lugar, importamos las librerías necesarias para la práctica."
   ]
  },
  {
   "cell_type": "code",
   "execution_count": 2,
   "id": "90ff582d",
   "metadata": {},
   "outputs": [],
   "source": [
    "import numpy as np\n",
    "import sympy as sp\n",
    "import matplotlib.pyplot as plt\n",
    "from random import random"
   ]
  },
  {
   "cell_type": "markdown",
   "id": "f8a33a70",
   "metadata": {},
   "source": [
    "## Ejercicio 1\n"
   ]
  },
  {
   "cell_type": "markdown",
   "id": "e07c69f9",
   "metadata": {},
   "source": [
    "> **Ejercicio 1:** Determine las fórmulas de derivación numéricas con los datos de interpolación  \n",
    "> \n",
    "> a) $(a-h,f(a-h))$ y $(a,f(a))$,\n",
    "> \n",
    "> b) $(a-h,f(a-h))$ y $(a+h,f(a+h))$. \n",
    "> \n",
    "> ¿Qué fórmulas de derivación numérica se obtiene en cada caso?"
   ]
  },
  {
   "cell_type": "markdown",
   "id": "ed34adb6",
   "metadata": {},
   "source": [
    "Definimos en primer lugar los símbolos necesarios."
   ]
  },
  {
   "cell_type": "code",
   "execution_count": 3,
   "id": "3af36fe5",
   "metadata": {},
   "outputs": [],
   "source": [
    "f = sp.Function('f')\n",
    "a,h,x = sp.symbols('a,h,x')"
   ]
  },
  {
   "cell_type": "markdown",
   "id": "2da83e4e",
   "metadata": {},
   "source": [
    "#### Apartado a)"
   ]
  },
  {
   "cell_type": "markdown",
   "id": "0574a2e7",
   "metadata": {},
   "source": [
    "Para el primer apartado, el polinomio de interpolación es el siguiente:"
   ]
  },
  {
   "cell_type": "code",
   "execution_count": 4,
   "id": "01c5d54d",
   "metadata": {},
   "outputs": [
    {
     "data": {
      "text/latex": [
       "$\\displaystyle f{\\left(a - h \\right)} + \\frac{\\left(f{\\left(a \\right)} - f{\\left(a - h \\right)}\\right) \\left(- a + h + x\\right)}{h}$"
      ],
      "text/plain": [
       "f(a - h) + (f(a) - f(a - h))*(-a + h + x)/h"
      ]
     },
     "execution_count": 4,
     "metadata": {},
     "output_type": "execute_result"
    }
   ],
   "source": [
    "x_values = [a-h,a]\n",
    "y_values = [f(xi) for xi in x_values]\n",
    "\n",
    "pol = y_values[0] + (x-x_values[0])*(y_values[1]-y_values[0])/(x_values[1]-x_values[0])\n",
    "pol"
   ]
  },
  {
   "cell_type": "markdown",
   "id": "a93c0c77",
   "metadata": {},
   "source": [
    "Veamos que efectivamente pasa por los nodos deseados."
   ]
  },
  {
   "cell_type": "code",
   "execution_count": 5,
   "id": "74418d4d",
   "metadata": {},
   "outputs": [
    {
     "name": "stdout",
     "output_type": "stream",
     "text": [
      "x\t|\tf(x)\n",
      "------------------------------\n",
      "a - h\t|\tf(a - h)\n",
      "a\t|\tf(a)\n"
     ]
    }
   ],
   "source": [
    "print(f\"x\\t|\\tf(x)\")\n",
    "print(\"-\"*30)\n",
    "for xi in x_values:\n",
    "    print(f\"{xi}\\t|\\t{pol.subs({x:xi})}\")"
   ]
  },
  {
   "cell_type": "markdown",
   "id": "766a6bfa",
   "metadata": {},
   "source": [
    "Comprobemos ahora por tanto la fórmula de derivación numérica que obtenemos. Como cabía esperar, se trata de la fórmula regresiva."
   ]
  },
  {
   "cell_type": "code",
   "execution_count": 6,
   "id": "086cb834",
   "metadata": {},
   "outputs": [
    {
     "data": {
      "text/latex": [
       "$\\displaystyle \\frac{f{\\left(a \\right)} - f{\\left(a - h \\right)}}{h}$"
      ],
      "text/plain": [
       "(f(a) - f(a - h))/h"
      ]
     },
     "execution_count": 6,
     "metadata": {},
     "output_type": "execute_result"
    }
   ],
   "source": [
    "sp.diff(pol,x)"
   ]
  },
  {
   "cell_type": "markdown",
   "id": "3f779311",
   "metadata": {},
   "source": [
    "#### Apartado b)"
   ]
  },
  {
   "cell_type": "markdown",
   "id": "8fb896b3",
   "metadata": {},
   "source": [
    "Para el segundo apartado, el polinomio de interpolación es el siguiente:"
   ]
  },
  {
   "cell_type": "code",
   "execution_count": 7,
   "id": "543b1362",
   "metadata": {},
   "outputs": [
    {
     "data": {
      "text/latex": [
       "$\\displaystyle f{\\left(a - h \\right)} + \\frac{\\left(- f{\\left(a - h \\right)} + f{\\left(a + h \\right)}\\right) \\left(- a + h + x\\right)}{2 h}$"
      ],
      "text/plain": [
       "f(a - h) + (-f(a - h) + f(a + h))*(-a + h + x)/(2*h)"
      ]
     },
     "execution_count": 7,
     "metadata": {},
     "output_type": "execute_result"
    }
   ],
   "source": [
    "x_values = [a-h,a+h]\n",
    "y_values = [f(xi) for xi in x_values]\n",
    "\n",
    "pol = y_values[0] + (x-x_values[0])*(y_values[1]-y_values[0])/(x_values[1]-x_values[0])\n",
    "pol"
   ]
  },
  {
   "cell_type": "markdown",
   "id": "b3a334c4",
   "metadata": {},
   "source": [
    "Veamos que efectivamente pasa por los nodos deseados."
   ]
  },
  {
   "cell_type": "code",
   "execution_count": 8,
   "id": "80d813e0",
   "metadata": {},
   "outputs": [
    {
     "name": "stdout",
     "output_type": "stream",
     "text": [
      "x\t|\tf(x)\n",
      "------------------------------\n",
      "a - h\t|\tf(a - h)\n",
      "a + h\t|\tf(a + h)\n"
     ]
    }
   ],
   "source": [
    "print(f\"x\\t|\\tf(x)\")\n",
    "print(\"-\"*30)\n",
    "for xi in x_values:\n",
    "    print(f\"{xi}\\t|\\t{pol.subs({x:xi})}\")"
   ]
  },
  {
   "cell_type": "markdown",
   "id": "2e00a842",
   "metadata": {},
   "source": [
    "Comprobemos ahora por tanto la fórmula de derivación numérica que obtenemos. Como cabía esperar, se trata de la fórmula centrada."
   ]
  },
  {
   "cell_type": "code",
   "execution_count": 9,
   "id": "ddea5a1d",
   "metadata": {},
   "outputs": [
    {
     "data": {
      "text/latex": [
       "$\\displaystyle \\frac{- f{\\left(a - h \\right)} + f{\\left(a + h \\right)}}{2 h}$"
      ],
      "text/plain": [
       "(-f(a - h) + f(a + h))/(2*h)"
      ]
     },
     "execution_count": 9,
     "metadata": {},
     "output_type": "execute_result"
    }
   ],
   "source": [
    "sp.diff(pol,x)"
   ]
  },
  {
   "cell_type": "markdown",
   "id": "a70435e5",
   "metadata": {},
   "source": [
    "## Ejercicio 2"
   ]
  },
  {
   "cell_type": "markdown",
   "id": "8be4430b",
   "metadata": {},
   "source": [
    "> **Ejercicio 2:** Codifica una función para calcular la fórmula de derivación de tipo interpolatorio obtenida al derivar el polinomio interpolador en una lista de nodos que acepte como argumento. Añade un argumento opcional que sea el orden de la derivada a calcular. Comprueba el correcto funcionamiento de esta función con los ejemplos mostrados hasta el momento."
   ]
  },
  {
   "cell_type": "code",
   "execution_count": 10,
   "id": "b53bb0d6",
   "metadata": {},
   "outputs": [],
   "source": [
    "from sympy.polys.polyfuncs import interpolate\n",
    "def derivacion_interpolatoria(x_values, orden=1):\n",
    "    \"\"\"\n",
    "    Función que obtiene la fórmula de derivación de tipo interpolatorio en los nodos x_values evaluada en el punto a.\n",
    "\n",
    "    Args:\n",
    "        x_values (list): Lista de nodos donde se evalúa la función.\n",
    "        orden (int): Orden de la derivada a calcular. Por defecto es 1.\n",
    "    Returns:\n",
    "        sp.Expr: Expresión simbólica de la derivada interpolatoria evaluada en el punto a.\n",
    "    \"\"\"\n",
    "\n",
    "    # Definimos la variable simbólica\n",
    "    x = sp.symbols('x')\n",
    "\n",
    "    # Obtenemos los valores de la función en los nodos\n",
    "    y_values = [f(xi) for xi in x_values]\n",
    "\n",
    "    # Obtenemos lista de pares (xi, f(xi))\n",
    "    data = list(zip(x_values, y_values))\n",
    "    \n",
    "    # Interpolamos la función en los nodos\n",
    "    pol = interpolate(data, x)\n",
    "\n",
    "    # Calculamos la derivada de orden 'orden' del polinomio interpolante\n",
    "    # Evaluamos la derivada en el punto 'a'\n",
    "    derivada = sp.diff(pol, x, orden).subs({x:a}).simplify() \n",
    "\n",
    "    return derivada\n"
   ]
  },
  {
   "cell_type": "markdown",
   "id": "e6e07917",
   "metadata": {},
   "source": [
    "Comprobemos que efectivamente funciona con varios ejemplos."
   ]
  },
  {
   "cell_type": "code",
   "execution_count": 11,
   "id": "e6db3f9d",
   "metadata": {},
   "outputs": [
    {
     "name": "stdout",
     "output_type": "stream",
     "text": [
      "Nodos: [a - h, a]\n",
      "- Orden de la derivada: 1\n"
     ]
    },
    {
     "data": {
      "text/latex": [
       "$\\displaystyle \\frac{f{\\left(a \\right)} - f{\\left(a - h \\right)}}{h}$"
      ],
      "text/plain": [
       "(f(a) - f(a - h))/h"
      ]
     },
     "metadata": {},
     "output_type": "display_data"
    },
    {
     "name": "stdout",
     "output_type": "stream",
     "text": [
      "----------------------------------------------------------------------\n",
      "\n",
      "Nodos: [a, a + h]\n",
      "- Orden de la derivada: 1\n"
     ]
    },
    {
     "data": {
      "text/latex": [
       "$\\displaystyle \\frac{- f{\\left(a \\right)} + f{\\left(a + h \\right)}}{h}$"
      ],
      "text/plain": [
       "(-f(a) + f(a + h))/h"
      ]
     },
     "metadata": {},
     "output_type": "display_data"
    },
    {
     "name": "stdout",
     "output_type": "stream",
     "text": [
      "----------------------------------------------------------------------\n",
      "\n",
      "Nodos: [a - h, a + h]\n",
      "- Orden de la derivada: 1\n"
     ]
    },
    {
     "data": {
      "text/latex": [
       "$\\displaystyle \\frac{- f{\\left(a - h \\right)} + f{\\left(a + h \\right)}}{2 h}$"
      ],
      "text/plain": [
       "(-f(a - h) + f(a + h))/(2*h)"
      ]
     },
     "metadata": {},
     "output_type": "display_data"
    },
    {
     "name": "stdout",
     "output_type": "stream",
     "text": [
      "----------------------------------------------------------------------\n",
      "\n",
      "Nodos: [a - h, a, a + h]\n",
      "- Orden de la derivada: 1\n"
     ]
    },
    {
     "data": {
      "text/latex": [
       "$\\displaystyle \\frac{- f{\\left(a - h \\right)} + f{\\left(a + h \\right)}}{2 h}$"
      ],
      "text/plain": [
       "(-f(a - h) + f(a + h))/(2*h)"
      ]
     },
     "metadata": {},
     "output_type": "display_data"
    },
    {
     "name": "stdout",
     "output_type": "stream",
     "text": [
      "- Orden de la derivada: 2\n"
     ]
    },
    {
     "data": {
      "text/latex": [
       "$\\displaystyle \\frac{- 2 f{\\left(a \\right)} + f{\\left(a - h \\right)} + f{\\left(a + h \\right)}}{h^{2}}$"
      ],
      "text/plain": [
       "(-2*f(a) + f(a - h) + f(a + h))/h**2"
      ]
     },
     "metadata": {},
     "output_type": "display_data"
    },
    {
     "name": "stdout",
     "output_type": "stream",
     "text": [
      "----------------------------------------------------------------------\n",
      "\n",
      "Nodos: [a, a + h, a + 2*h]\n",
      "- Orden de la derivada: 1\n"
     ]
    },
    {
     "data": {
      "text/latex": [
       "$\\displaystyle \\frac{- 3 f{\\left(a \\right)} + 4 f{\\left(a + h \\right)} - f{\\left(a + 2 h \\right)}}{2 h}$"
      ],
      "text/plain": [
       "(-3*f(a) + 4*f(a + h) - f(a + 2*h))/(2*h)"
      ]
     },
     "metadata": {},
     "output_type": "display_data"
    },
    {
     "name": "stdout",
     "output_type": "stream",
     "text": [
      "- Orden de la derivada: 2\n"
     ]
    },
    {
     "data": {
      "text/latex": [
       "$\\displaystyle \\frac{f{\\left(a \\right)} - 2 f{\\left(a + h \\right)} + f{\\left(a + 2 h \\right)}}{h^{2}}$"
      ],
      "text/plain": [
       "(f(a) - 2*f(a + h) + f(a + 2*h))/h**2"
      ]
     },
     "metadata": {},
     "output_type": "display_data"
    },
    {
     "name": "stdout",
     "output_type": "stream",
     "text": [
      "----------------------------------------------------------------------\n",
      "\n",
      "Nodos: [a - 2*h, a - h, a, a + h, a + 2*h]\n",
      "- Orden de la derivada: 1\n"
     ]
    },
    {
     "data": {
      "text/latex": [
       "$\\displaystyle \\frac{f{\\left(a - 2 h \\right)} - 8 f{\\left(a - h \\right)} + 8 f{\\left(a + h \\right)} - f{\\left(a + 2 h \\right)}}{12 h}$"
      ],
      "text/plain": [
       "(f(a - 2*h) - 8*f(a - h) + 8*f(a + h) - f(a + 2*h))/(12*h)"
      ]
     },
     "metadata": {},
     "output_type": "display_data"
    },
    {
     "name": "stdout",
     "output_type": "stream",
     "text": [
      "- Orden de la derivada: 2\n"
     ]
    },
    {
     "data": {
      "text/latex": [
       "$\\displaystyle \\frac{- 30 f{\\left(a \\right)} - f{\\left(a - 2 h \\right)} + 16 f{\\left(a - h \\right)} + 16 f{\\left(a + h \\right)} - f{\\left(a + 2 h \\right)}}{12 h^{2}}$"
      ],
      "text/plain": [
       "(-30*f(a) - f(a - 2*h) + 16*f(a - h) + 16*f(a + h) - f(a + 2*h))/(12*h**2)"
      ]
     },
     "metadata": {},
     "output_type": "display_data"
    },
    {
     "name": "stdout",
     "output_type": "stream",
     "text": [
      "- Orden de la derivada: 3\n"
     ]
    },
    {
     "data": {
      "text/latex": [
       "$\\displaystyle \\frac{- \\frac{f{\\left(a - 2 h \\right)}}{2} + f{\\left(a - h \\right)} - f{\\left(a + h \\right)} + \\frac{f{\\left(a + 2 h \\right)}}{2}}{h^{3}}$"
      ],
      "text/plain": [
       "(-f(a - 2*h)/2 + f(a - h) - f(a + h) + f(a + 2*h)/2)/h**3"
      ]
     },
     "metadata": {},
     "output_type": "display_data"
    },
    {
     "name": "stdout",
     "output_type": "stream",
     "text": [
      "- Orden de la derivada: 4\n"
     ]
    },
    {
     "data": {
      "text/latex": [
       "$\\displaystyle \\frac{6 f{\\left(a \\right)} + f{\\left(a - 2 h \\right)} - 4 f{\\left(a - h \\right)} - 4 f{\\left(a + h \\right)} + f{\\left(a + 2 h \\right)}}{h^{4}}$"
      ],
      "text/plain": [
       "(6*f(a) + f(a - 2*h) - 4*f(a - h) - 4*f(a + h) + f(a + 2*h))/h**4"
      ]
     },
     "metadata": {},
     "output_type": "display_data"
    },
    {
     "name": "stdout",
     "output_type": "stream",
     "text": [
      "----------------------------------------------------------------------\n",
      "\n"
     ]
    }
   ],
   "source": [
    "# Lista de Ejemplos de nodos\n",
    "x_values_list = [\n",
    "    [a-h, a],\n",
    "    [a, a+h],\n",
    "    [a-h, a+h],\n",
    "    [a-h, a, a+h],\n",
    "    [a, a+h, a+2*h],\n",
    "    [a-2*h, a-h, a, a+h, a+2*h]\n",
    "]\n",
    "\n",
    "\n",
    "for x_values in x_values_list:\n",
    "    print(f\"Nodos: {x_values}\")\n",
    "\n",
    "    for orden in range(1, len(x_values)):\n",
    "        print(f\"- Orden de la derivada: {orden}\")\n",
    "        # Muestra la derivada interpolatoria\n",
    "        display(derivacion_interpolatoria(x_values, orden))\n",
    "    \n",
    "    print(\"-\" * 70 + \"\\n\")"
   ]
  },
  {
   "cell_type": "markdown",
   "id": "05bbc0a0",
   "metadata": {},
   "source": [
    "## Ejercicio 3"
   ]
  },
  {
   "cell_type": "markdown",
   "id": "e4bd4f93",
   "metadata": {},
   "source": [
    "> **Ejercicio 3**: Repita el procedimiento visto en la práctica con la fórmula para la segunda derivada\n",
    "> $$\n",
    "> f''(a) \\approx \\frac{f(a+h)-2f(a)+f(a-h)}{h^2}\n",
    "> $$\n",
    "> y compruebe que tiene orden de aproximación 2."
   ]
  },
  {
   "cell_type": "markdown",
   "id": "c01b0e38",
   "metadata": {},
   "source": [
    "Comprobamos en primer lugar el grado de exactitud de la fórmula. Esto lo haremos comprobando sobre la base de $\\mathbb{P}_n$."
   ]
  },
  {
   "cell_type": "code",
   "execution_count": 12,
   "id": "51ae9a93",
   "metadata": {},
   "outputs": [],
   "source": [
    "def orden_exactitud(f, a):\n",
    "    \"\"\"\n",
    "    Función que obtiene el orden de exactitud de la fórmula de derivación.\n",
    "\n",
    "    Args:\n",
    "        f (function): Función cuya derivada se va a aproximar.\n",
    "        a (float): Punto donde se evalúa la función.\n",
    "    Returns:\n",
    "        int: Orden de exactitud de la fórmula de derivación.\n",
    "    \"\"\"\n",
    "    \n",
    "    # Definimos la variable simbólica\n",
    "    x = sp.symbols('x')\n",
    "\n",
    "    # Inicializamos el orden y la variable de control para detectar la exactitud\n",
    "    exactitudDetectada = False\n",
    "    orden = 0\n",
    "    while(not exactitudDetectada):\n",
    "        exacto = sp.diff(x**orden, x, 2).subs({x: a})\n",
    "        aproximado = f(lambda x:x**orden).subs({x: a}).simplify()\n",
    "        \n",
    "        exactitudDetectada = exacto != aproximado\n",
    "        if not exactitudDetectada:\n",
    "            orden += 1\n",
    "    \n",
    "    orden -= 1 # El orden de exactitud es el último en el que no se detectó la diferencia\n",
    "    \n",
    "    return orden"
   ]
  },
  {
   "cell_type": "code",
   "execution_count": 13,
   "id": "e5a7a35d",
   "metadata": {},
   "outputs": [
    {
     "data": {
      "text/latex": [
       "$\\displaystyle \\frac{- 2 f{\\left(a \\right)} + f{\\left(a - h \\right)} + f{\\left(a + h \\right)}}{h^{2}}$"
      ],
      "text/plain": [
       "(-2*f(a) + f(a - h) + f(a + h))/h**2"
      ]
     },
     "metadata": {},
     "output_type": "display_data"
    },
    {
     "name": "stdout",
     "output_type": "stream",
     "text": [
      "Orden de exactitud: 3\n",
      "----------------------------------------------------------------------\n",
      "\n"
     ]
    },
    {
     "data": {
      "text/latex": [
       "$\\displaystyle \\frac{- 30 f{\\left(a \\right)} - f{\\left(a - 2 h \\right)} + 16 f{\\left(a - h \\right)} + 16 f{\\left(a + h \\right)} - f{\\left(a + 2 h \\right)}}{12 h^{2}}$"
      ],
      "text/plain": [
       "(-30*f(a) - f(a - 2*h) + 16*f(a - h) + 16*f(a + h) - f(a + 2*h))/(12*h**2)"
      ]
     },
     "metadata": {},
     "output_type": "display_data"
    },
    {
     "name": "stdout",
     "output_type": "stream",
     "text": [
      "Orden de exactitud: 5\n"
     ]
    }
   ],
   "source": [
    "formula_der = lambda f: (f(a+h) -2*f(a) + f(a-h))/(h**2)\n",
    "display(formula_der(f))\n",
    "print(f\"Orden de exactitud: {orden_exactitud(formula_der, a)}\")\n",
    "\n",
    "\n",
    "print(f\"-\"*70 + \"\\n\")\n",
    "\n",
    "formula_der = lambda f: (-30*f(a)-f(a-2*h)+16*f(a-h)+16*f(a+h)-f(a+2*h))/(12*h**2)\n",
    "display(formula_der(f))\n",
    "print(f\"Orden de exactitud: {orden_exactitud(formula_der, a)}\")"
   ]
  },
  {
   "cell_type": "markdown",
   "id": "8c835559",
   "metadata": {},
   "source": [
    "Buscamos ahora tratar el orden de aproximación de la fórmula dada para este ejercicio.\n",
    "Trabajamos con las series de Taylor de los puntos $a-h$, $a$ y $a+h$. Empleamos además $n=5$ puesto que este es el primero que nos garantiza que el error no se anula."
   ]
  },
  {
   "cell_type": "code",
   "execution_count": 14,
   "id": "9f0c242c",
   "metadata": {},
   "outputs": [
    {
     "data": {
      "text/latex": [
       "$\\displaystyle \\frac{h^{2} \\left. \\frac{d^{4}}{d \\xi_{1}^{4}} f{\\left(\\xi_{1} \\right)} \\right|_{\\substack{ \\xi_{1}=a }}}{12} + \\left. \\frac{d^{2}}{d \\xi_{1}^{2}} f{\\left(\\xi_{1} \\right)} \\right|_{\\substack{ \\xi_{1}=a }}$"
      ],
      "text/plain": [
       "h**2*Subs(Derivative(f(_xi_1), (_xi_1, 4)), _xi_1, a)/12 + Subs(Derivative(f(_xi_1), (_xi_1, 2)), _xi_1, a)"
      ]
     },
     "execution_count": 14,
     "metadata": {},
     "output_type": "execute_result"
    }
   ],
   "source": [
    "n=5\n",
    "fseries = f(x).series(x,a,n).removeO()      # Fórmula de Taylor de orden n\n",
    "\n",
    "fmas = fseries.subs({x:(a+h)})\n",
    "fmenos = fseries.subs({x:(a-h)})\n",
    "\n",
    "sp.expand((fmas -2*f(a) + fmenos)/h**2)"
   ]
  },
  {
   "cell_type": "markdown",
   "id": "2bc3ceb5",
   "metadata": {},
   "source": [
    "Vemos por tanto que el error es de orden $O(h^2)$, como se pedía comprobar."
   ]
  },
  {
   "cell_type": "markdown",
   "id": "4196153c",
   "metadata": {},
   "source": [
    "## Ejercicio 4"
   ]
  },
  {
   "cell_type": "markdown",
   "id": "af63029f",
   "metadata": {},
   "source": [
    "> **Ejercicio 4:** Utilice la función $f(x) = \\dfrac{e^{\\cos(x)}}{x^2+1}$ y el valor $a=1$ y compruebe que ocurre el mismo hecho que el descrito en teoría. Repita el procedimiento utilizando la fórmula de diferencia centrada en lugar de la de diferencia progresiva y comenta las diferencias observadas."
   ]
  },
  {
   "cell_type": "markdown",
   "id": "a4abc595",
   "metadata": {},
   "source": [
    "Codificamos la siguiente función, que nos será de ayuda para poder realizar más pruebas."
   ]
  },
  {
   "cell_type": "code",
   "execution_count": 15,
   "id": "52c5ae23",
   "metadata": {},
   "outputs": [],
   "source": [
    "def errores(f, a, nodos, exp_min, orden):\n",
    "    \"\"\"\n",
    "    Función que muestra por mantalla información para analizar los errores de la aproximación de la derivada mediante la interpolación.\n",
    "    Args:\n",
    "        f (function): Función cuya derivada se va a aproximar.\n",
    "        a (float): Punto donde se evalúa la función.\n",
    "        nodos (list): Lista de nodos empleados para la aproximación. Dependen de h.\n",
    "        exp_min (int): Exponente mínimo para el error. Debe ser positivo. Se usará desde h=0 hasta h=10**{-exp_min}.\n",
    "        orden (int): Orden de la derivada a calcular.\n",
    "    \"\"\"\n",
    "    \n",
    "    # Definimos los encabezados de la tabla\n",
    "    v_exacto = sp.diff(f(x), x).subs({x: a})\n",
    "    print(f\"Valor exacto: {sp.N(v_exacto)}\\n\")\n",
    "\n",
    "    headers = [\"h\", \"Valor Aproximado\", \"Error\"]\n",
    "    column_width = 30  # Ancho fijo para cada columna\n",
    "\n",
    "    # Imprimimos la cabecera de la tabla\n",
    "    print(f\"{headers[0]:<{column_width}}|{headers[1]:<{column_width}}|{headers[2]:<{column_width}}\")\n",
    "    print(\"-\" * (column_width * len(headers) + len(headers) - 1))  # Línea divisoria\n",
    "\n",
    "    for exp in range (exp_min+1):\n",
    "\n",
    "        valh = 10**(-exp)\n",
    "        \n",
    "        # Aproximación de la derivada\n",
    "        v_aproximado = derivacion_interpolatoria(nodos).subs({x: a, h: valh})\n",
    "        \n",
    "        # Error\n",
    "        error = abs(v_exacto - v_aproximado)\n",
    "\n",
    "        v_aproximado_float = float(sp.N(v_aproximado))\n",
    "        error_float = float(sp.N(error))\n",
    "\n",
    "        # Imprimimos los resultados\n",
    "        print(f\"{valh:<{column_width}}|{v_aproximado_float:<{column_width}.15f}|{error_float:<{column_width}.15f}\")"
   ]
  },
  {
   "cell_type": "markdown",
   "id": "1507124b",
   "metadata": {},
   "source": [
    "Comprobemos en primer lugar el funcionamiento con la fórmula progresiva. Como vemos, no converge a la derivada, y a partir de $h=10^{-8}$, el error comienza a crecer."
   ]
  },
  {
   "cell_type": "code",
   "execution_count": 16,
   "metadata": {},
   "outputs": [
    {
     "name": "stdout",
     "output_type": "stream",
     "text": [
      "Valor exacto: -1.58046613519819\n",
      "\n",
      "h                             |Valor Aproximado              |Error                         \n",
      "--------------------------------------------------------------------------------------------\n",
      "1                             |-0.726346167289936            |0.854119967908255             \n",
      "0.1                           |-1.460627685591648            |0.119838449606543             \n",
      "0.01                          |-1.568253632614890            |0.012212502583302             \n",
      "0.001                         |-1.579243008009281            |0.001223127188911             \n",
      "0.0001                        |-1.580343804169461            |0.000122331028731             \n",
      "1e-05                         |-1.580453901918251            |0.000012233279941             \n",
      "1e-06                         |-1.580464911712611            |0.000001223485580             \n",
      "1e-07                         |-1.580466015453432            |0.000000119744759             \n",
      "1e-08                         |-1.580466097248535            |0.000000037949657             \n",
      "1e-09                         |-1.580466313697758            |0.000000178499566             \n",
      "1e-10                         |-1.580466533992730            |0.000000398794539             \n",
      "1e-11                         |-1.580460322837460            |0.000005812360732             \n",
      "1e-12                         |-1.580543169780846            |0.000077034582654             \n",
      "1e-13                         |-1.580089900933459            |0.000376234264732             \n",
      "1e-14                         |-1.582149009334590            |0.001682874136398             \n",
      "1e-15                         |-1.776707237124088            |0.196241101925897             \n",
      "1e-16                         |0.410099066541051             |1.132302351964791             \n",
      "1e-17                         |8.100990665410512             |8.823193950834252             \n",
      "1e-18                         |62.867551425234950            |63.589754710658688            \n",
      "1e-19                         |554.099066541051229           |554.821269826475032           \n",
      "1e-20                         |-603.009334589487366          |602.287131304063678           \n",
      "1e-21                         |78083.678408468185808         |78084.400611753604608         \n",
      "1e-22                         |-191372.933458948740736       |191372.211255663307384        \n",
      "1e-23                         |1372400.057689748471603       |1372400.779893033904955       \n",
      "1e-24                         |-48628953.853985570371151     |48628953.131782285869122      \n",
      "1e-25                         |245026796.483724355697632     |245026797.205927640199661     \n"
     ]
    }
   ],
   "source": [
    "a = 1\n",
    "f = lambda x: sp.exp(sp.cos(x))/(x**2 + 1)\n",
    "nodos = [a,a+h]\n",
    "\n",
    "errores(f, a, nodos, 25, 1)"
   ]
  },
  {
   "cell_type": "markdown",
   "id": "84252242",
   "metadata": {},
   "source": [
    "Comprobamos ahora el funcionamiento con la fórmula centrada. Como vemos, los errores comienzan a crecer a partir de $h=10^{-6}$. No obstante, el error es mucho menor que en el caso anterior, puesto que el numerador se anula directamente."
   ]
  },
  {
   "cell_type": "code",
   "execution_count": 17,
   "id": "d298d2f1",
   "metadata": {},
   "outputs": [
    {
     "name": "stdout",
     "output_type": "stream",
     "text": [
      "Valor exacto: -1.58046613519819\n",
      "\n",
      "h                             |Valor Aproximado              |Error                         \n",
      "--------------------------------------------------------------------------------------------\n",
      "1                             |-1.293182572987265            |0.287283562210927             \n",
      "0.1                           |-1.582434034457561            |0.001967899259370             \n",
      "0.01                          |-1.580486414639010            |0.000020279440819             \n",
      "0.001                         |-1.580466338052527            |0.000000202854335             \n",
      "0.0001                        |-1.580466137226510            |0.000000002028319             \n",
      "1e-05                         |-1.580466135220337            |0.000000000022145             \n",
      "1e-06                         |-1.580466135131520            |0.000000000066672             \n",
      "1e-07                         |-1.580466135742142            |0.000000000543951             \n",
      "1e-08                         |-1.580466130191027            |0.000000005007164             \n",
      "1e-09                         |-1.580466146844372            |0.000000011646181             \n",
      "1e-10                         |-1.580466313377826            |0.000000178179635             \n",
      "1e-11                         |-1.580457986705142            |0.000008148493050             \n",
      "1e-12                         |-1.580457986705142            |0.000008148493050             \n",
      "1e-13                         |-1.579847364041598            |0.000618771156593             \n",
      "1e-14                         |-1.576516694967722            |0.003949440230469             \n",
      "1e-15                         |-1.720845688168992            |0.140379552970801             \n",
      "1e-16                         |-0.555111512312578            |1.025354622885613             \n",
      "1e-17                         |0.000000000000000             |1.580466135198191             \n",
      "1e-18                         |0.000000000000000             |1.580466135198191             \n",
      "1e-19                         |0.000000000000000             |1.580466135198191             \n",
      "1e-20                         |0.000000000000000             |1.580466135198191             \n",
      "1e-21                         |0.000000000000000             |1.580466135198191             \n",
      "1e-22                         |0.000000000000000             |1.580466135198191             \n",
      "1e-23                         |0.000000000000000             |1.580466135198191             \n",
      "1e-24                         |0.000000000000000             |1.580466135198191             \n",
      "1e-25                         |0.000000000000000             |1.580466135198191             \n"
     ]
    }
   ],
   "source": [
    "a = 1\n",
    "f = lambda x: sp.exp(sp.cos(x))/(x**2 + 1)\n",
    "nodos = [a+h,a-h]\n",
    "\n",
    "errores(f, a, nodos, 25, 1)"
   ]
  },
  {
   "cell_type": "markdown",
   "id": "3a58359f",
   "metadata": {},
   "source": [
    "## Ejercicio 5"
   ]
  },
  {
   "cell_type": "markdown",
   "id": "96258956",
   "metadata": {},
   "source": [
    "> **Ejercicio 5 (Implementación numérica de las fórmulas de derivación):** Implementa una función que acepte como argumentos una función en versión numérica `f`, un valor `a`, un valor `h`, un entero opcional `n` y un cuarto argumento que sea la fórmula de derivación numérica utilizada. La función deberá calcular la derivada `n`-ésima de la función `f` en el punto `a` utilizando la fórmula y el valor de `h` indicados. Las posibles fórmulas utilizadas deben incluir, al menos: diferencia regresiva, diferencia progresiva, diferencia centrada y diferencia centrada con 5 nodos. Para la función $$f(x) = \\sin(\\log(x^2+1)),$$ calcula el valor de $f'(-1)$, primero derivando una versión simbólica y obteniendo el valor exacto y después utilizando la función implementada con distintos valores de `h` y distintas fórmulas y comprueba las diferencias en la aproximación en cada caso."
   ]
  },
  {
   "cell_type": "markdown",
   "id": "72336f88",
   "metadata": {},
   "source": [
    "Definimos en primer lugar cada una de las fórmulas de derivación numérica que vamos a utilizar. No podemos hacerlo de forma genérica, puesto que $f$ es numérica y no simbólica, por lo que no podemos utilizar la función `diff` de SymPy."
   ]
  },
  {
   "cell_type": "code",
   "execution_count": 18,
   "id": "ed8e2e9e",
   "metadata": {},
   "outputs": [],
   "source": [
    "def diferencia_regresiva(f, a, h, orden=1):\n",
    "    if (orden==0):\n",
    "        return f(a)\n",
    "    else:\n",
    "        return (diferencia_regresiva(f, a, h, orden-1) - diferencia_regresiva(f, a-h, h, orden-1))/h\n",
    "    \n",
    "\n",
    "def diferencia_progresiva(f, a, h, orden=1):\n",
    "    if (orden==0):\n",
    "        return f(a)\n",
    "    else:\n",
    "        return (diferencia_progresiva(f, a+h, h, orden-1) - diferencia_progresiva(f, a, h, orden-1))/h\n",
    "\n",
    "def diferencia_central(f, a, h, orden=1):\n",
    "    if (orden==0):\n",
    "        return f(a)\n",
    "    else:\n",
    "        return (diferencia_central(f, a+h, h, orden-1) - diferencia_central(f, a-h, h, orden-1))/(2*h)\n",
    "    \n",
    "def diferencia_central_5puntos(f, a, h, orden=1):\n",
    "    if (orden==0):\n",
    "        return f(a)\n",
    "    else:\n",
    "        numerador = (diferencia_central_5puntos(f, a-2*h, h, orden-1) - \n",
    "                     8*diferencia_central_5puntos(f, a-h, h, orden-1) + \n",
    "                     8*diferencia_central_5puntos(f, a+h, h, orden-1) - \n",
    "                     diferencia_central_5puntos(f, a+2*h, h, orden-1))\n",
    "        return numerador/(12*h)"
   ]
  },
  {
   "cell_type": "markdown",
   "id": "73bcdb59",
   "metadata": {},
   "source": [
    "Una vez definidas, podemos representar la forma genérica de la función que nos pide el ejercicio."
   ]
  },
  {
   "cell_type": "code",
   "execution_count": 19,
   "id": "bf9aa685",
   "metadata": {},
   "outputs": [],
   "source": [
    "def derivacion_numerica(f, a, h, formula, orden=1):\n",
    "    \"\"\"\n",
    "    Función que calcula la derivada numérica de una función en un punto dado utilizando una fórmula de derivación.\n",
    "\n",
    "    Args:\n",
    "        f (function): Función cuya derivada se va a aproximar.\n",
    "        a (float): Punto donde se evalúa la función.\n",
    "        h (float): Paso para la aproximación.\n",
    "        orden (int): Orden de la derivada a calcular. Por defecto es 1.\n",
    "        formula (function): Fórmula de derivación a utilizar. Debe aceptar los parámetros (f, a, h, orden).\n",
    "\n",
    "    Returns:\n",
    "        float: Valor aproximado de la derivada en el punto 'a'.\n",
    "    \"\"\"\n",
    "    \n",
    "    return formula(f, a, h, orden)"
   ]
  },
  {
   "cell_type": "markdown",
   "id": "12fab517",
   "metadata": {},
   "source": [
    "Para realizar las pruebas, definimos además la siguiente función, que nos codifica la salida de una forma correcta."
   ]
  },
  {
   "cell_type": "code",
   "execution_count": 20,
   "id": "7920d4c6",
   "metadata": {},
   "outputs": [],
   "source": [
    "def salida(f_Sym, f_Num, a, h, orden=1):\n",
    "    \"\"\"\n",
    "    Función que muestra por pantalla la comparativa entre los distintos métodos de derivación numérica.as_integer_ratio\n",
    "    Args:\n",
    "        f_Sym (function): Función simbólica cuya derivada se va a aproximar.\n",
    "        f_Num (function): Función numérica cuya derivada se va a aproximar.\n",
    "        a (float): Punto donde se evalúa la función.\n",
    "        h (float): Paso para la aproximación.\n",
    "        orden (int): Orden de la derivada a calcular. Por defecto es 1.\n",
    "    \"\"\"\n",
    "\n",
    "    valor_exacto = sp.diff(f_Sym(x), x).subs({x: a})\n",
    "\n",
    "    dif_regresiva = derivacion_numerica(f_Num, a, h, diferencia_regresiva)\n",
    "    dif_progresiva = derivacion_numerica(f_Num, a, h, diferencia_progresiva)\n",
    "    dif_central = derivacion_numerica(f_Num, a, h, diferencia_central)\n",
    "    dif_central_5puntos = derivacion_numerica(f_Num, a, h, diferencia_central_5puntos)\n",
    "\n",
    "\n",
    "    print(f\"Valor exacto de la derivada en x={a}: {valor_exacto}= {float(valor_exacto)}\")\n",
    "    print(f\"Valor aproximado de la derivada en x={a} con h={h}:\")\n",
    "\n",
    "    decimales = 10\n",
    "\n",
    "    print(f\"\\t- Diferencia regresiva        : {dif_regresiva:.{decimales}f}\")\n",
    "    print(f\"\\t- Diferencia progresiva       : {dif_progresiva:.{decimales}f}\")\n",
    "    print(f\"\\t- Diferencia central          : {dif_central:.{decimales}f}\")\n",
    "    print(f\"\\t- Diferencia central 5 puntos : {dif_central_5puntos:.{decimales}f}\")\n",
    "\n",
    "    print(f\"Errores:\")\n",
    "    print(f\"\\t- Diferencia regresiva        : {abs(valor_exacto - dif_regresiva):.{decimales}f}\")\n",
    "    print(f\"\\t- Diferencia progresiva       : {abs(valor_exacto - dif_progresiva):.{decimales}f}\")\n",
    "    print(f\"\\t- Diferencia central          : {abs(valor_exacto - dif_central):.{decimales}f}\")\n",
    "    print(f\"\\t- Diferencia central 5 puntos : {abs(valor_exacto - dif_central_5puntos):.{decimales}f}\")"
   ]
  },
  {
   "cell_type": "markdown",
   "id": "1ad413cd",
   "metadata": {},
   "source": [
    "Definimos ahora la función que nos pide el ejercicio. Definimos tanto la función numérica como la simbólica, puesto que la segunda nos proporcionará el valor exacto de la derivada."
   ]
  },
  {
   "cell_type": "code",
   "execution_count": 21,
   "id": "a2aceefa",
   "metadata": {},
   "outputs": [],
   "source": [
    "def f(x):\n",
    "    \"\"\"\n",
    "    Función numérica a tratar.\n",
    "    Args:\n",
    "        x (float): Valor de entrada.\n",
    "    Returns:\n",
    "        float: Valor de la función en 'x'.\n",
    "    \"\"\"\n",
    "    return np.sin(np.log(x**2 + 1))\n",
    "\n",
    "def f_Sym(x):\n",
    "    \"\"\"\n",
    "    Función simbólica a tratar.\n",
    "    Args:\n",
    "        x (sympy.Symbol): Variable simbólica.\n",
    "    Returns:\n",
    "        sympy.Expr: Expresión simbólica de la función en 'x'.\n",
    "    \"\"\"\n",
    "    return sp.sin(sp.log(x**2 + 1))"
   ]
  },
  {
   "cell_type": "code",
   "execution_count": 22,
   "id": "14dc991c",
   "metadata": {},
   "outputs": [
    {
     "name": "stdout",
     "output_type": "stream",
     "text": [
      "Valor exacto de la derivada en x=-1.0: -0.769238901363972= -0.7692389013639721\n",
      "Valor aproximado de la derivada en x=-1.0 con h=0.1:\n",
      "\t- Diferencia regresiva        : -0.7349508034\n",
      "\t- Diferencia progresiva       : -0.7983892630\n",
      "\t- Diferencia central          : -0.7666700332\n",
      "\t- Diferencia central 5 puntos : -0.7692571660\n",
      "Errores:\n",
      "\t- Diferencia regresiva        : 0.0342880980\n",
      "\t- Diferencia progresiva       : 0.0291503616\n",
      "\t- Diferencia central          : 0.0025688682\n",
      "\t- Diferencia central 5 puntos : 0.0000182647\n",
      "\n",
      "----------------------------------------------------------------------\n",
      "\n",
      "Valor exacto de la derivada en x=-1.0: -0.769238901363972= -0.7692389013639721\n",
      "Valor aproximado de la derivada en x=-1.0 con h=0.01:\n",
      "\t- Diferencia regresiva        : -0.7660186825\n",
      "\t- Diferencia progresiva       : -0.7724078367\n",
      "\t- Diferencia central          : -0.7692132596\n",
      "\t- Diferencia central 5 puntos : -0.7692389033\n",
      "Errores:\n",
      "\t- Diferencia regresiva        : 0.0032202189\n",
      "\t- Diferencia progresiva       : 0.0031689353\n",
      "\t- Diferencia central          : 0.0000256418\n",
      "\t- Diferencia central 5 puntos : 0.0000000019\n",
      "\n",
      "----------------------------------------------------------------------\n",
      "\n",
      "Valor exacto de la derivada en x=-1.0: -0.769238901363972= -0.7692389013639721\n",
      "Valor aproximado de la derivada en x=-1.0 con h=0.001:\n",
      "\t- Diferencia regresiva        : -0.7689191645\n",
      "\t- Diferencia progresiva       : -0.7695581254\n",
      "\t- Diferencia central          : -0.7692386450\n",
      "\t- Diferencia central 5 puntos : -0.7692389014\n",
      "Errores:\n",
      "\t- Diferencia regresiva        : 0.0003197368\n",
      "\t- Diferencia progresiva       : 0.0003192240\n",
      "\t- Diferencia central          : 0.0000002564\n",
      "\t- Diferencia central 5 puntos : 0.0000000000\n",
      "\n",
      "----------------------------------------------------------------------\n",
      "\n",
      "Valor exacto de la derivada en x=-1.0: -0.769238901363972= -0.7692389013639721\n",
      "Valor aproximado de la derivada en x=-1.0 con h=0.0001:\n",
      "\t- Diferencia regresiva        : -0.7692069507\n",
      "\t- Diferencia progresiva       : -0.7692708469\n",
      "\t- Diferencia central          : -0.7692388988\n",
      "\t- Diferencia central 5 puntos : -0.7692389014\n",
      "Errores:\n",
      "\t- Diferencia regresiva        : 0.0000319506\n",
      "\t- Diferencia progresiva       : 0.0000319455\n",
      "\t- Diferencia central          : 0.0000000026\n",
      "\t- Diferencia central 5 puntos : 0.0000000000\n",
      "\n",
      "----------------------------------------------------------------------\n",
      "\n"
     ]
    }
   ],
   "source": [
    "a = -1.0\n",
    "salida(f_Sym, f, a, 0.1, 1)\n",
    "print(\"\\n\" + \"-\"*70 + \"\\n\")\n",
    "salida(f_Sym, f, a, 0.01, 1)\n",
    "print(\"\\n\" + \"-\"*70 + \"\\n\")\n",
    "salida(f_Sym, f, a, 0.001, 1)\n",
    "print(\"\\n\" + \"-\"*70 + \"\\n\")\n",
    "salida(f_Sym, f, a, 0.0001, 1)\n",
    "print(\"\\n\" + \"-\"*70 + \"\\n\")\n"
   ]
  },
  {
   "cell_type": "markdown",
   "id": "7160aed6",
   "metadata": {},
   "source": [
    "## Ejercicio 6"
   ]
  },
  {
   "cell_type": "markdown",
   "id": "9911828a",
   "metadata": {},
   "source": [
    "> **Ejercicio 6:** Siguiendo el modelo y el código proporcionado para la fórmula de los rectángulos a la izquierda, codifique las fórmulas compuestas de los rectángulos a la derecha y centrados. Calcule con estas dos fórmulas la aproximación de $\\displaystyle\\int_0^1 (x^2+1)dx$, el error cometido y represente al menos una de las dos gráficamente."
   ]
  },
  {
   "cell_type": "markdown",
   "id": "76cc2dfa",
   "metadata": {},
   "source": [
    "Buscamos en primer lugar codificar la función de los rectángulos a la derecha y centrados. Para ello, y buscando siempre la mayor generalización, buscamos una función que, en función de cierto parámetro recibido, nos devuelva la función deseada. Sabemos que hay $n$ intervalos formados por $n+1$ nodos equiespaciados en el intervalo $[a,b]$. Fijado $k\\in \\{0,\\cdots, n\\}$, en el intervalo $I_k=[x_k,x_{k+1}]$ aplicaremos una fórmula de integración simple. Para ello, en realidad se integrará el polinomio de interpolación de $f$ en el intervalo $I_k$; pero es necesario saber qué nodos vamos a emplear en dicho intervalo.\n",
    "\n",
    "Por todo ello, emplearemos un parámetro que será una lista denominada `diff_nodos`, que especificará qué nodos emplearemos en cada intervalo. En el intervalo $I_k=[x_k,x_{k+1}]$, se emplearán tantos nodos como elementos tenga la lista `diff_nodos`. Para cada elemento $i$ de la lista, se empleará el nodo $x_k+i\\cdot h$, donde $h=\\frac{b-a}{n}$ es la longitud del intervalo. Por tanto:\n",
    "- Si `diff_nodos=[0]`, tan solo se empleará el nodo $x_k$, y se obtendrá la fórmula de los rectángulos a la izquierda.\n",
    "- Si `diff_nodos=[1]`, tan solo se empleará el nodo $x_{k+1}$, y se obtendrá la fórmula de los rectángulos a la derecha.\n",
    "- Si `diff_nodos=[0,1]`, se emplearán ambos nodos, y se obtendrá la fórmula del trapecio.\n",
    "- Si `diff_nodos=[0,0.5,1]`, se emplearán los nodos $x_k$, $x_{k+1}$ y el punto medio del intervalo, y se obtendrá la fórmula de Simpson.\n",
    "\n",
    "Esta variable nos será especialmente útil en la representación gráfica. En este caso, puesto que no podemos directamente calcular integrales de polinomios arbitarios (tan solo de constantes), la siguiente función tan solo la codificaremos para recibir un único valor en dicha lista (es decir, integrar constantes, que sabemos que es el valor de la integral multiplicado por la longitud del intervalo). En caso de que se reciba una lista con más de un elemento, se devolverá un error.\n",
    "\n",
    "Podríamos coficiarla para que, en cada intervalo, calculase el polinomio de interpolación con los nodos indicados, y luego calculase la integral de dicho polinomio (tendríamos que emplear métodos de integración numérica para ello). Para evitar el uso de métodos de integración numérica, limitamos a que tan solo pueda recibir un único valor en la lista `diff_nodos`. En caso de que se reciba una lista con más de un elemento, se devolverá un error."
   ]
  },
  {
   "cell_type": "code",
   "execution_count": 23,
   "id": "bad2f0ca",
   "metadata": {},
   "outputs": [],
   "source": [
    "def formula_compuesta_un_nodo(f, a, b, n, diff_nodos):\n",
    "    \"\"\"\n",
    "    Función que calcula la integral numérica de una función en un intervalo dado utilizando una fórmula compuesta que usa solo un nodo.\n",
    "\n",
    "    Args:\n",
    "        f (function): Función cuya integral se va a aproximar.\n",
    "        a (float): Límite inferior del intervalo.\n",
    "        b (float): Límite superior del intervalo.\n",
    "        n (int): Número de subintervalos. Se emplearán n+1 nodos.\n",
    "        diff_nodos (list): Lista de nodos donde se evalúa la función. Explicado anteriormente. Solo contiene un elemento\n",
    "\n",
    "    Returns:\n",
    "        float: Valor aproximado de la integral en el intervalo [a, b].\n",
    "    \"\"\"\n",
    "\n",
    "    # Comprobación de que diff_nodos tiene un solo elemento y está entre 0 y 1\n",
    "    if len(diff_nodos) != 1 or 0> diff_nodos[0] or diff_nodos[0] > 1:\n",
    "        raise ValueError(\"diff_nodos debe contener un solo elemento entre 0 y 1\")\n",
    "\n",
    "    h = (b - a) / n                 # Paso para la aproximación\n",
    "    nodos = np.linspace(a, b, n+1)  # Generamos los nodos en el intervalo [a, b]\n",
    "\n",
    "    puntos = []  # Inicializamos la lista de puntos a evaluar\n",
    "    if diff_nodos[0] == 0:  # Punto izquierdo\n",
    "        puntos = nodos[:-1]  # Todos menos el último\n",
    "    elif diff_nodos[0] == 1:  # Punto derecho\n",
    "        puntos = nodos[1:]   # Todos menos el primero\n",
    "    else:  # Punto intermedio (como el centrado)\n",
    "        puntos = nodos[:-1] + diff_nodos[0]*h  # Suma vectorizada\n",
    "    \n",
    "    res = h*np.sum(f(puntos))  # Aproximación de la derivada\n",
    "\n",
    "    return res"
   ]
  },
  {
   "cell_type": "markdown",
   "id": "0dd82d10",
   "metadata": {},
   "source": [
    "Una vez que tenemos la función, podemos definir fácilmente los métodos de integración de rectángulo izquierdo, derecho y centrado."
   ]
  },
  {
   "cell_type": "code",
   "execution_count": 24,
   "id": "867304dd",
   "metadata": {},
   "outputs": [],
   "source": [
    "def rectangulo_izquierdo(f, a, b, n):\n",
    "    \"\"\"\n",
    "    Función que calcula la integral de una función en un intervalo dado utilizando el método del rectángulo izquierdo.\n",
    "\n",
    "    Args:\n",
    "        f (function): Función a integrar.\n",
    "        a (float): Límite inferior del intervalo.\n",
    "        b (float): Límite superior del intervalo.\n",
    "        n (int): Número de subintervalos.\n",
    "\n",
    "    Returns:\n",
    "        float: Valor aproximado de la integral en el intervalo [a, b].\n",
    "    \"\"\"\n",
    "    \n",
    "    return formula_compuesta_un_nodo(f, a, b, n, [0])\n",
    "\n",
    "def rectangulo_derecho(f, a, b, n):\n",
    "    \"\"\"\n",
    "    Función que calcula la integral de una función en un intervalo dado utilizando el método del rectángulo derecho.\n",
    "\n",
    "    Args:\n",
    "        f (function): Función a integrar.\n",
    "        a (float): Límite inferior del intervalo.\n",
    "        b (float): Límite superior del intervalo.\n",
    "        n (int): Número de subintervalos.\n",
    "\n",
    "    Returns:\n",
    "        float: Valor aproximado de la integral en el intervalo [a, b].\n",
    "    \"\"\"\n",
    "    \n",
    "    return formula_compuesta_un_nodo(f, a, b, n, [1])\n",
    "\n",
    "def rectangulo_centrado(f, a, b, n):\n",
    "    \"\"\"\n",
    "    Función que calcula la integral de una función en un intervalo dado utilizando el método del rectángulo centrado.\n",
    "\n",
    "    Args:\n",
    "        f (function): Función a integrar.\n",
    "        a (float): Límite inferior del intervalo.\n",
    "        b (float): Límite superior del intervalo.\n",
    "        n (int): Número de subintervalos.\n",
    "\n",
    "    Returns:\n",
    "        float: Valor aproximado de la integral en el intervalo [a, b].\n",
    "    \"\"\"\n",
    "    \n",
    "    return formula_compuesta_un_nodo(f, a, b, n, [0.5])"
   ]
  },
  {
   "cell_type": "markdown",
   "id": "920dd33e",
   "metadata": {},
   "source": [
    "Comprobamos ahora los tres resultados con el ejemplo propuesto."
   ]
  },
  {
   "cell_type": "code",
   "execution_count": 25,
   "id": "2db1a434",
   "metadata": {},
   "outputs": [],
   "source": [
    "def f(x):\n",
    "    \"\"\"\n",
    "    Función que calcula numéricamente el valor de la función f(x) = 1+x^2.\n",
    "\n",
    "    Args:\n",
    "        x (float): Valor en el que se evalúa la función.\n",
    "\n",
    "    Returns:\n",
    "        float: Valor de la función f(x).\n",
    "    \"\"\"\n",
    "\n",
    "    return 1 + x**2"
   ]
  },
  {
   "cell_type": "markdown",
   "id": "31a9e8f8",
   "metadata": {},
   "source": [
    "Comparamos ahora los resultados obtenidos con los métodos de rectángulo izquierdo, derecho y centrado. Como vemos, el método de rectángulo centrado es el que más se aproxima al valor real de la integral. El método de rectángulo izquierdo es el que menos se aproxima, aunque no por mucho. El método de rectángulo derecho se encuentra en un punto intermedio entre ambos."
   ]
  },
  {
   "cell_type": "code",
   "execution_count": 26,
   "id": "f3362707",
   "metadata": {},
   "outputs": [
    {
     "name": "stdout",
     "output_type": "stream",
     "text": [
      "- Valor exacto: 4/3 = 1.3333333333333333\n",
      "- Rectángulo izquierdo:\n",
      "\t- Aproximación: 1.3328335000000002\n",
      "\t- Error: 0.000499833333333033\n",
      "- Rectángulo derecho:\n",
      "\t- Aproximación: 1.3338335\n",
      "\t- Error: 0.000500166666666635\n",
      "- Rectángulo centrado:\n",
      "\t- Aproximación: 1.3333332500000001\n",
      "\t- Error: 8.33333331229369E-8\n"
     ]
    }
   ],
   "source": [
    "valor_exacto = sp.integrate(f(x), (x, 0, 1))\n",
    "\n",
    "n=1000\n",
    "aproximacion_izquierda = rectangulo_izquierdo(f, 0, 1, n)\n",
    "aproximacion_derecha = rectangulo_derecho(f, 0, 1, n)\n",
    "aproximacion_centrada = rectangulo_centrado(f, 0, 1, n)\n",
    "\n",
    "\n",
    "print(f\"- Valor exacto: {valor_exacto} = {float(valor_exacto)}\")\n",
    "print(f\"- Rectángulo izquierdo:\")\n",
    "print(f\"\\t- Aproximación: {aproximacion_izquierda}\")\n",
    "print(f\"\\t- Error: {abs(valor_exacto - aproximacion_izquierda)}\")\n",
    "print(f\"- Rectángulo derecho:\")\n",
    "print(f\"\\t- Aproximación: {aproximacion_derecha}\")\n",
    "print(f\"\\t- Error: {abs(valor_exacto - aproximacion_derecha)}\")\n",
    "print(f\"- Rectángulo centrado:\")\n",
    "print(f\"\\t- Aproximación: {aproximacion_centrada}\")\n",
    "print(f\"\\t- Error: {abs(valor_exacto - aproximacion_centrada)}\")\n"
   ]
  },
  {
   "cell_type": "markdown",
   "id": "3811d315",
   "metadata": {},
   "source": [
    "Como vemos, a priori la más exacta es la del rectángulo centrado. No obstante, buscamos ver gráficamente qué ocurre. Para ello, representamos la función y los rectángulos que se han empleado en cada caso. Notemos que ya no tenemos la limitación de que la lista `diff_nodos` tenga un único elemento, puesto que no es necesario calcular integrales en este caso, tan solo representaremos las áreas. No obstante, sí es necesario comprobar que todos los elementos de `diff_nodos` están en el intervalo $[0,1]$."
   ]
  },
  {
   "cell_type": "markdown",
   "id": "cb5ef6e0",
   "metadata": {},
   "source": [
    "Para la gráfica, empleamos la siguiente función, ya empleada en la Práctica 1:"
   ]
  },
  {
   "cell_type": "code",
   "execution_count": 27,
   "id": "f2c20b8f",
   "metadata": {},
   "outputs": [],
   "source": [
    "import inspect\n",
    "import re\n",
    "\n",
    "def obtener_funcion(f):\n",
    "    \"\"\"\n",
    "    Obtiene la función como string a partir de su definición.\n",
    "\n",
    "    Args:\n",
    "        f (function): Función a convertir a string.\n",
    "    Returns:\n",
    "        str: Representación en string de la función.\n",
    "    \"\"\"\n",
    "\n",
    "    source = inspect.getsource(f)\n",
    "    expression = source.split('return')[1].strip()\n",
    "\n",
    "    # Si pone NewtonHorner, se trata de un polinomio\n",
    "    if 'NewtonHorner' in expression:\n",
    "        coefs = expression.split('[')[1].split(']')[0].split(',')\n",
    "        # Invertimos los coeficientes para que el último sea el de mayor grado\n",
    "        coefs = coefs[::-1]\n",
    "        expression = \"\"\n",
    "        for i in range(len(coefs)):\n",
    "            if coefs[i] != '0':\n",
    "                coef = coefs[i]\n",
    "                if coef == '1' or coef == '-1':\n",
    "                    coef = ''\n",
    "                if i == 0:\n",
    "                    expression = f\"{coef}\" + expression\n",
    "                elif i == 1:\n",
    "                    expression = f\"{coef}x\" + expression\n",
    "                else:\n",
    "                    expression = f\"{coef}x^({i})\" + expression\n",
    "\n",
    "                # Poner un signo + o - entre los términos si no los lleva ya\n",
    "                if i != len(coefs) - 1:\n",
    "                    if expression[0] != '-' and expression[0] != '+':\n",
    "                        if sign(float(coefs[i])) == 1:\n",
    "                            expression = f\"+ {expression}\"\n",
    "                        else:\n",
    "                            expression = f\"- {expression}\"\n",
    "        \n",
    "\n",
    "\n",
    "\n",
    "    # Resto, necesario para los que no son polinomios\n",
    "    expression = expression.replace('(', '{')\n",
    "    expression = expression.replace(')', '}')\n",
    "    expression = expression.replace('{{', '\\\\left(')\n",
    "    expression = expression.replace('}}', '\\\\right)')\n",
    "    expression = expression.replace('**', '^')\n",
    "    expression = expression.replace('*', '\\\\cdot ')\n",
    "    expression = expression.replace('np.exp', 'e^')\n",
    "    expression = expression.replace('np.cos', '\\\\cos ')\n",
    "    expression = expression.replace('np.sin', '\\\\sin ')\n",
    "    expression = expression.replace('np.pi', '\\\\pi ')\n",
    "\n",
    "    #{algo}/{algo} se convierte en \\frac{algo}{algo}\n",
    "    expression = re.sub(r'{([^{}]+)}/{([^{}]+)}', r'\\\\frac{\\1}{\\2}', expression)\n",
    "\n",
    "\n",
    "    return expression"
   ]
  },
  {
   "cell_type": "code",
   "execution_count": 28,
   "id": "a1418f5f",
   "metadata": {},
   "outputs": [],
   "source": [
    "def representa_formula_compuesta(f,a,b,n,diff_nodos, title=None):\n",
    "    \"\"\"\n",
    "    Función que representa gráficamente la fórmula compuesta correspondiente, especificada por diff_nodos.\n",
    "\n",
    "    Args:\n",
    "        f (function): Función a integrar.\n",
    "        a (float): Límite inferior del intervalo.\n",
    "        b (float): Límite superior del intervalo.\n",
    "        n (int): Número de subintervalos. Se emplearán n+1 nodos.\n",
    "        diff_nodos (list): Lista de nodos donde se evalúa la función. Explicado anteriormente.\n",
    "        title (str): Título del gráfico. Por defecto es None.\n",
    "    \"\"\"\n",
    "\n",
    "    # Comprobación de que todos los elemenos de diff_nodos están entre 0 y 1\n",
    "    if not all(0 <= i <= 1 for i in diff_nodos):\n",
    "        raise ValueError(\"diff_nodos debe contener elementos entre 0 y 1\")\n",
    "\n",
    "    num_values = 100\n",
    "    h = (b-a)/n\n",
    "    x_values = np.linspace(float(a),float(b),num_values)\n",
    "    y_values = f(x_values)\n",
    "    x_extremos_intervalo = np.linspace(a,b,n+1)\n",
    "    x_nodos = []\n",
    "    y_nodos = []\n",
    "\n",
    "    fig,ax = plt.subplots(figsize=(8,8))\n",
    "    ax.plot(x_values,y_values,'k',label=f\"$f(x)={obtener_funcion(f)}$\", linewidth=2)\n",
    "\n",
    "    # Dibujamos el rectángulo en cada intervalo\n",
    "    for k in range(n):\n",
    "        x_values_intervalo = np.linspace(float(x_extremos_intervalo[k]),float(x_extremos_intervalo[k+1]),num_values)\n",
    "        x_interpol = []\n",
    "        for i in diff_nodos:\n",
    "            # Si i es entero, se añade el nodo k+i\n",
    "            if (int(i) == i):\n",
    "                x_interpol.append(x_extremos_intervalo[k+i])\n",
    "            \n",
    "            # Si i es decimal, se añade el nodo k, +h*i\n",
    "            else:\n",
    "                x_interpol.append(x_extremos_intervalo[k]+h*i)\n",
    "\n",
    "        y_interpol = f(np.array(x_interpol))\n",
    "\n",
    "\n",
    "        # Se añaden los nodos a la lista de nodos que se dibujará\n",
    "        x_nodos.extend(x_interpol)\n",
    "        y_nodos.extend(y_interpol)\n",
    "\n",
    "        # Se calcula el polinomio de interpolación\n",
    "        y_values_intervalo = np.interp(x_values_intervalo, np.array(x_interpol), np.array(y_interpol))\n",
    "        \n",
    "        ax.fill_between(x_values_intervalo,0,y_values_intervalo)\n",
    "    \n",
    "\n",
    "    ax.plot(x_nodos,y_nodos,'ro')\n",
    "\n",
    "    # Mostrar leyenda\n",
    "    ax.legend(loc='best')\n",
    "\n",
    "    ax.set_xlabel('$x$')\n",
    "    ax.set_ylabel('$y$')\n",
    "    ax.set_title(title)"
   ]
  },
  {
   "cell_type": "markdown",
   "id": "625cf357",
   "metadata": {},
   "source": [
    "Veamos ahora qué ocurre con los tres tipos de fórmulas compuestas vistos. Evidentemente, si empleásemos el mismo valor de $n$ que antes no podríamos ver la diferencia entre los tres métodos. Por tanto, emplearemos un valor de $n$ mucho menor, que nos permita ver visualmente los rectángulos empleados."
   ]
  },
  {
   "cell_type": "code",
   "execution_count": 29,
   "id": "1362fdce",
   "metadata": {},
   "outputs": [
    {
     "data": {
      "image/png": "[encoded data removed]",
      "text/plain": [
       "<Figure size 800x800 with 1 Axes>"
      ]
     },
     "metadata": {},
     "output_type": "display_data"
    },
    {
     "data": {
      "image/png": "[encoded data removed]",
      "text/plain": [
       "<Figure size 800x800 with 1 Axes>"
      ]
     },
     "metadata": {},
     "output_type": "display_data"
    },
    {
     "data": {
      "image/png": "[encoded data removed]",
      "text/plain": [
       "<Figure size 800x800 with 1 Axes>"
      ]
     },
     "metadata": {},
     "output_type": "display_data"
    }
   ],
   "source": [
    "n=10\n",
    "representa_formula_compuesta(f,0,1,n,[0], \"Rectángulos Izquierda\")\n",
    "representa_formula_compuesta(f,0,1,n,[1], \"Rectángulos Derecha\")\n",
    "representa_formula_compuesta(f,0,1,n,[0.5], \"Rectángulos Centrados\")"
   ]
  },
  {
   "cell_type": "markdown",
   "id": "e58e6a8b",
   "metadata": {},
   "source": [
    "Como vemos, el método de rectángulo centrado es el que más se aproxima al valor real de la integral, puesto que los errores se compensan entre sí."
   ]
  },
  {
   "cell_type": "markdown",
   "id": "06da70b6",
   "metadata": {},
   "source": [
    "## Ejercicio 7"
   ]
  },
  {
   "cell_type": "markdown",
   "id": "3246f1e1",
   "metadata": {},
   "source": [
    "> **Ejercicio 7:** Implemente una función que calcule la integral de una función $f$ en el intervalo $[a,b]$ usando la fórmula de Simpson compuesta, parametrizando también el número de subintervalos utilizados (se premia la eficiencia). Represente gráficamente la fórmula de Simpson compuesta análogamente a la representación mostrada para la fórmula de los trapecios compuesta."
   ]
  },
  {
   "cell_type": "markdown",
   "id": "c157f0cc",
   "metadata": {},
   "source": [
    "Comenzamos con la representación gráfica, puesto que ya está codificada la función. Sabemos que, en cada subintervalo, la fórmula de Simpson emplea tres nodos, los dos extremos y el punto medio. Por tanto, la gráfica queda:"
   ]
  },
  {
   "cell_type": "code",
   "execution_count": 30,
   "id": "efc1b565",
   "metadata": {},
   "outputs": [
    {
     "data": {
      "image/png": "[encoded data removed]",
      "text/plain": [
       "<Figure size 800x800 with 1 Axes>"
      ]
     },
     "metadata": {},
     "output_type": "display_data"
    }
   ],
   "source": [
    "representa_formula_compuesta(f,0,1,10,[0,0.5,1], \"Fórmula de Simpson\")\n"
   ]
  },
  {
   "cell_type": "markdown",
   "id": "1502a1d6",
   "metadata": {},
   "source": [
    "Como vemos, la aproximación parece ser exacta. De hecho, lo será, puesto que Simpson por construcción es exacto en $\\mathbb{P}_2$. No obstante, veámoslo tras codificar la función. No realizaremos el desarrollo teórico (puesto que esto se ve en la parte teórica de la asignatura), pero si buscamos la fórmula de Simpson compuesta para $f$ en el intervalo $[a,b]$ con $n$ intervalos, esta es:\n",
    "$$\n",
    "\\int_a^b f(x)dx \\approx \\frac{h}{6}\\left(f(a)+4\\sum_{i=1}^n f\\left(x_i + \\frac{h}{2}\\right)+2\\sum_{i=1}^{n-1} f\\left(x_i\\right)+f(b)\\right)\n",
    "$$"
   ]
  },
  {
   "cell_type": "markdown",
   "id": "1accbe07",
   "metadata": {},
   "source": [
    "Notemos además que asumiendo $n$ como el doble de los intervalos buscados (tendremos por tanto $h$ como la mitad de la longitud del intervalo), la fórmula de Simpson compuesta se convierte en:\n",
    "$$\n",
    "\\int_a^b f(x)dx \\approx \\frac{h}{3}\\left(f(a)+4\\sum_{i=1}^{\\frac{n}{2}} f\\left(x_{2i-1}\\right)+2\\sum_{i=1}^{\\frac{n}{2}-1} f\\left(x_{2i}\\right)+f(b)\\right)\n",
    "$$"
   ]
  },
  {
   "cell_type": "markdown",
   "id": "8a070692",
   "metadata": {},
   "source": [
    "Codificamos por tanto así la función."
   ]
  },
  {
   "cell_type": "code",
   "execution_count": 31,
   "id": "6987abc2",
   "metadata": {},
   "outputs": [],
   "source": [
    "def formula_simpson_compuesta(f, a, b, n):\n",
    "    \"\"\"\n",
    "    Función que calcula la integral numérica de una función en un intervalo dado utilizando una la fórmula de Simpson compuesta.\n",
    "\n",
    "    Args:\n",
    "        f (function): Función cuya integral se va a aproximar.\n",
    "        a (float): Límite inferior del intervalo.\n",
    "        b (float): Límite superior del intervalo.\n",
    "        n (int): Número de subintervalos. Se emplearán n+1 nodos.\n",
    "\n",
    "    Returns:\n",
    "        float: Valor aproximado de la integral en el intervalo [a, b].\n",
    "    \"\"\"\n",
    "\n",
    "    n*=2\n",
    "\n",
    "    h = (b - a) / n                 # Paso para la aproximación\n",
    "    nodos = np.linspace(a, b, n+1)  # Generamos los nodos en el intervalo [a, b]\n",
    "\n",
    "    suma_impares = np.sum(f(nodos[1:n+1:2]))    # Suma de los nodos impares\n",
    "    suma_pares = np.sum(f(nodos[2:n-1:2]))      # Suma de los nodos pares. El -1 es para evitar el último nodo\n",
    "\n",
    "    res = f(a) + f(b) + 4*suma_impares + 2*suma_pares\n",
    "    res = (h/3)*res  # Aproximación de la integral\n",
    "\n",
    "    return res"
   ]
  },
  {
   "cell_type": "markdown",
   "id": "2d6455c8",
   "metadata": {},
   "source": [
    "Comprobamos ahora el funcionamiento de la función con el ejemplo propuesto. Como antes mencionábamos, la aproximación es exacta. Esto es debido a que la función $f$ es un polinomio de grado 2, y por tanto la fórmula de Simpson compuesta es exacta. En este caso, el error es cero."
   ]
  },
  {
   "cell_type": "code",
   "execution_count": 32,
   "id": "4a06f16d",
   "metadata": {},
   "outputs": [
    {
     "name": "stdout",
     "output_type": "stream",
     "text": [
      "- Valor exacto: 4/3 = 1.3333333333333333\n",
      "- Aproximación: 1.3333333333333333\n",
      "- Error: 0\n"
     ]
    }
   ],
   "source": [
    "valor_exacto = sp.integrate(f(x), (x, 0, 1))\n",
    "valor_aproximado = formula_simpson_compuesta(f, 0, 1, 10)\n",
    "print(f\"- Valor exacto: {valor_exacto} = {float(valor_exacto)}\")\n",
    "print(f\"- Aproximación: {valor_aproximado}\")\n",
    "print(f\"- Error: {abs(valor_exacto - valor_aproximado)}\")"
   ]
  },
  {
   "cell_type": "markdown",
   "id": "f64558f1",
   "metadata": {},
   "source": [
    "## Ejercicio 8"
   ]
  },
  {
   "cell_type": "markdown",
   "id": "6d5bd38c",
   "metadata": {},
   "source": [
    ">**Ejercicio 8:** Realice una comparativa entre los errores cometidos al aproximar funciones potencias sucesivas $x^i$, con $i=1,2,3,\\ldots$ en el intervalo $[0,1]$ mediante las fórmulas de los trapecios y de Simpson compuestas con diferentes valores de $h$; e inducir de ahí, los posibles órdenes de exactitud (a partir de los valores de $i$ que proporcionen valores exactos de la integral). No deje de tener en cuenta los posibles errores de redondeo, inevitables en todo cálculo realizado con ordenador."
   ]
  },
  {
   "cell_type": "markdown",
   "id": "e6c07d67",
   "metadata": {},
   "source": [
    "La fórmula del trapecio compuesta en el intervalo $[a,b]$ con $n$ intervalos es:\n",
    "$$\n",
    "\\int_a^b f(x)dx \\approx \\frac{h}{2}\\left(f(a)+2\\sum_{i=1}^{n-1} f\\left(x_i\\right)+f(b)\\right)\n",
    "$$"
   ]
  },
  {
   "cell_type": "code",
   "execution_count": 33,
   "id": "ca72d1a6",
   "metadata": {},
   "outputs": [],
   "source": [
    "def formula_trapecio_compuesta(f, a, b, n):\n",
    "    \"\"\"\n",
    "    Función que calcula la integral numérica de una función en un intervalo dado utilizando una la fórmula del Trapecio compuesta.\n",
    "\n",
    "    Args:\n",
    "        f (function): Función cuya integral se va a aproximar.\n",
    "        a (float): Límite inferior del intervalo.\n",
    "        b (float): Límite superior del intervalo.\n",
    "        n (int): Número de subintervalos. Se emplearán n+1 nodos.\n",
    "\n",
    "    Returns:\n",
    "        float: Valor aproximado de la integral en el intervalo [a, b].\n",
    "    \"\"\"\n",
    "\n",
    "\n",
    "    h = (b - a) / n                 # Paso para la aproximación\n",
    "    nodos = np.linspace(a, b, n+1)  # Generamos los nodos en el intervalo [a, b]\n",
    "\n",
    "    res = f(a) + f(b) + 2*np.sum(f(nodos[1:n]))  # Suma de los nodos intermedios\n",
    "    res = (h/2)*res  # Aproximación de la integral\n",
    "\n",
    "    return res"
   ]
  },
  {
   "cell_type": "markdown",
   "id": "a80646d7",
   "metadata": {},
   "source": [
    "Antes de comenzar con la comparativa, comprobamos el funcionamiento de la función de los trapecios compuesta con el ejemplo propuesto."
   ]
  },
  {
   "cell_type": "code",
   "execution_count": 34,
   "id": "4a35b049",
   "metadata": {},
   "outputs": [
    {
     "name": "stdout",
     "output_type": "stream",
     "text": [
      "- Valor exacto: 4/3 = 1.3333333333333333\n",
      "- Aproximación: 1.335\n",
      "- Error: 0.00166666666666671\n"
     ]
    },
    {
     "data": {
      "image/png": "[encoded data removed]",
      "text/plain": [
       "<Figure size 800x800 with 1 Axes>"
      ]
     },
     "metadata": {},
     "output_type": "display_data"
    }
   ],
   "source": [
    "representa_formula_compuesta(f,0,1,10,[0,1], \"Trapecios\")\n",
    "valor_exacto = sp.integrate(f(x), (x, 0, 1))\n",
    "valor_aproximado = formula_trapecio_compuesta(f, 0, 1, 10)\n",
    "print(f\"- Valor exacto: {valor_exacto} = {float(valor_exacto)}\")\n",
    "print(f\"- Aproximación: {valor_aproximado}\")\n",
    "print(f\"- Error: {abs(valor_exacto - valor_aproximado)}\")"
   ]
  },
  {
   "cell_type": "markdown",
   "id": "d38ae7ff",
   "metadata": {},
   "source": [
    "Como vemos, la aproximación es muy cercana pero no es exacta. Codificamos ahora la comparativa con las funciones potencias sucesivas $x^i$."
   ]
  },
  {
   "cell_type": "code",
   "execution_count": 35,
   "id": "edf60616",
   "metadata": {},
   "outputs": [],
   "source": [
    "def comparativa_Trapecio_Simpson(a, b, n, k=4):\n",
    "    \"\"\"\n",
    "    Función que compara los errores de la aproximación de la integral utilizando el método del Trapecio y el método de Simpson.\n",
    "\n",
    "    Args:\n",
    "        a (float): Límite inferior del intervalo.\n",
    "        b (float): Límite superior del intervalo.\n",
    "        n (int): Número de subintervalos. Se emplearán n+1 nodos.\n",
    "        k (int): Número de exponentes a evaluar. Se evaluarán desde 0 hasta k-1.\n",
    "    \"\"\"\n",
    "\n",
    "    for exp in range(0,k):\n",
    "        f = lambda x: x**exp  # Función a integrar\n",
    "        valor_exacto = sp.integrate(f(x), (x, a, b))\n",
    "        valor_simpson = formula_simpson_compuesta(f, a, b, n)\n",
    "        valor_trapecio = formula_trapecio_compuesta(f, a, b, n)\n",
    "\n",
    "        print(f\"Para f(x) = x^{exp}:\")\n",
    "        print(f\"- Valor exacto: {valor_exacto}\")\n",
    "        print(f\"- Trapecio compuesto: {valor_trapecio}\")\n",
    "        print(f\"\\t- Error: {abs(valor_exacto - valor_trapecio)}\")\n",
    "        print(f\"- Simpson compuesto: {valor_simpson}\")\n",
    "        print(f\"\\t- Error: {abs(valor_exacto - valor_simpson)}\")\n",
    "\n",
    "        print(f\"-\"*30)"
   ]
  },
  {
   "cell_type": "markdown",
   "id": "0ea16598",
   "metadata": {},
   "source": [
    "Veamos ahora qué ocurre con 100 subintervalos, para tener claramente el orden de aproximación."
   ]
  },
  {
   "cell_type": "code",
   "execution_count": 36,
   "id": "1e665a2c",
   "metadata": {},
   "outputs": [
    {
     "name": "stdout",
     "output_type": "stream",
     "text": [
      "Para f(x) = x^0:\n",
      "- Valor exacto: 1\n",
      "- Trapecio compuesto: 1.0\n",
      "\t- Error: 0\n",
      "- Simpson compuesto: 1.0\n",
      "\t- Error: 0\n",
      "------------------------------\n",
      "Para f(x) = x^1:\n",
      "- Valor exacto: 1/2\n",
      "- Trapecio compuesto: 0.5\n",
      "\t- Error: 0\n",
      "- Simpson compuesto: 0.5\n",
      "\t- Error: 0\n",
      "------------------------------\n",
      "Para f(x) = x^2:\n",
      "- Valor exacto: 1/3\n",
      "- Trapecio compuesto: 0.33335000000000004\n",
      "\t- Error: 0.0000166666666667203\n",
      "- Simpson compuesto: 0.33333333333333337\n",
      "\t- Error: 5.55111512312578E-17\n",
      "------------------------------\n",
      "Para f(x) = x^3:\n",
      "- Valor exacto: 1/4\n",
      "- Trapecio compuesto: 0.25002500000000005\n",
      "\t- Error: 0.0000250000000000528\n",
      "- Simpson compuesto: 0.25\n",
      "\t- Error: 0\n",
      "------------------------------\n",
      "Para f(x) = x^4:\n",
      "- Valor exacto: 1/5\n",
      "- Trapecio compuesto: 0.200033333\n",
      "\t- Error: 0.0000333329999999965\n",
      "- Simpson compuesto: 0.20000000008333338\n",
      "\t- Error: 8.33333679839399E-11\n",
      "------------------------------\n"
     ]
    }
   ],
   "source": [
    "comparativa_Trapecio_Simpson(0,1,100, k=5)"
   ]
  },
  {
   "cell_type": "markdown",
   "id": "7c041fa9",
   "metadata": {},
   "source": [
    "Como vemos, todo apunta a que la fórmula de los trapecios compuesta es exacta en $\\mathbb{P}_1$, mientras que la fórmula de Simpson compuesta es exacta en $\\mathbb{P}_3$. Esto coincide con lo visto en teoría, pero repitamos el proceso con un número mayor de subintervalos para ver si se confirma."
   ]
  },
  {
   "cell_type": "code",
   "execution_count": 37,
   "id": "12d915f4",
   "metadata": {},
   "outputs": [
    {
     "name": "stdout",
     "output_type": "stream",
     "text": [
      "Para f(x) = x^0:\n",
      "- Valor exacto: 1\n",
      "- Trapecio compuesto: 1.0\n",
      "\t- Error: 0\n",
      "- Simpson compuesto: 1.0\n",
      "\t- Error: 0\n",
      "------------------------------\n",
      "Para f(x) = x^1:\n",
      "- Valor exacto: 1/2\n",
      "- Trapecio compuesto: 0.5\n",
      "\t- Error: 0\n",
      "- Simpson compuesto: 0.5\n",
      "\t- Error: 0\n",
      "------------------------------\n",
      "Para f(x) = x^2:\n",
      "- Valor exacto: 1/3\n",
      "- Trapecio compuesto: 0.33333349999999995\n",
      "\t- Error: 1.66666666634452E-7\n",
      "- Simpson compuesto: 0.3333333333333333\n",
      "\t- Error: 0\n",
      "------------------------------\n",
      "Para f(x) = x^3:\n",
      "- Valor exacto: 1/4\n",
      "- Trapecio compuesto: 0.25000025000000003\n",
      "\t- Error: 2.50000000034944E-7\n",
      "- Simpson compuesto: 0.25000000000000006\n",
      "\t- Error: 5.55111512312578E-17\n",
      "------------------------------\n",
      "Para f(x) = x^4:\n",
      "- Valor exacto: 1/5\n",
      "- Trapecio compuesto: 0.20000033333330003\n",
      "\t- Error: 3.33333300017724E-7\n",
      "- Simpson compuesto: 0.20000000000000834\n",
      "\t- Error: 8.32667268468867E-15\n",
      "------------------------------\n",
      "Para f(x) = x^5:\n",
      "- Valor exacto: 1/6\n",
      "- Trapecio compuesto: 0.16666708333325\n",
      "\t- Error: 4.16666583347158E-7\n",
      "- Simpson compuesto: 0.16666666666668747\n",
      "\t- Error: 2.08166817117217E-14\n",
      "------------------------------\n"
     ]
    }
   ],
   "source": [
    "comparativa_Trapecio_Simpson(0,1,1000, k=6)"
   ]
  },
  {
   "cell_type": "markdown",
   "id": "3ede42c5",
   "metadata": {},
   "source": [
    "Como vemos, en ese caso podríamos pensar que la fórmula de Simpson no es exacta en $\\mathbb{P}_3$, pero esto es debido a los errores de redondeo."
   ]
  },
  {
   "cell_type": "markdown",
   "id": "9a3340c9",
   "metadata": {},
   "source": [
    "## Ejercicio 9"
   ]
  },
  {
   "cell_type": "markdown",
   "id": "d6a4c6e1",
   "metadata": {},
   "source": [
    ">**Ejercicio 9:** Programar las técnicas de integración de Romberg y adaptativa, para después aplicarlas a la aproximación de la siguiente integral $$\\int_a^b p(x)\\, dx$$\n",
    ">siendo  $\\;a=\\displaystyle\\min_{0\\leq i\\leq 7}{d_i}$, $\\;b=\\displaystyle\\max_{0\\leq i\\leq 7}{d_i}$ y\n",
    ">$$p(x)=d_0 + d_1 x + d_2 x^2 + d_3 x^3+ d_4 x^4 + d_5 x^5 + d_6 x^6 + d_7 x^7 $$\n",
    ">(siendo $d_0, d_1, \\ldots, d_7$ los dígitos de su DNI, pasaporte o tarjeta de residente)."
   ]
  },
  {
   "cell_type": "markdown",
   "id": "bcd2b544",
   "metadata": {},
   "source": [
    "Comenzamos con la codificación de la función de Romberg, haciendo uso de que ya tenemos la función de los trapecios compuesta. Para ello, haremos uso de la programación dinámica para evitar cálculos innecesarios. Esta programación dinámica la llevaremos a cabo mediante dos matrices:\n",
    "- `R`: matriz que contendrá los valores de la aproximación de la integral.\n",
    "- `Calculado`: matriz que que indicará si el valor de la aproximación de la integral ya ha sido calculado.\n",
    "\n",
    "De esta forma, la matriz `R` contendrá:\n",
    "$$\n",
    "R(j,0) = T_{2^j}, \\qquad R(j,k) = \\dfrac{4^k R(j,k-1)-R(j-1,k-1)}{4^k-1}, j=0,\\dots,N,\\ \\ k = 1,\\dots,j.\n",
    "$$\n",
    "\n",
    "La matriz `Calculado` contendrá en la posición $(j,k)$ el valor `True` si el valor de $R(j,k)$ ya ha sido calculado, y `False` en caso contrario."
   ]
  },
  {
   "cell_type": "code",
   "execution_count": 38,
   "id": "68982451",
   "metadata": {},
   "outputs": [],
   "source": [
    "def calcula_R_Romberg(R, calculado, j, k, f, a, b):\n",
    "    \"\"\"\n",
    "    Función que calcula R(j, k) para una función f en un intervalo [a, b]\n",
    "    Args:\n",
    "        R (matriz): Matriz donde se almacenan los valores de R(j, k).\n",
    "        calculado (matriz): Matriz de booleanos que indica si R(j, k) ya ha sido calculado.\n",
    "        j (int): Índice de la fila de la matriz R.\n",
    "        k (int): Índice de la columna de la matriz R.\n",
    "        f (function): Función cuya integral se va a aproximar.\n",
    "        a (float): Límite inferior del intervalo.\n",
    "        b (float): Límite superior del intervalo.\n",
    "    Returns:\n",
    "        mat: Matriz R actualizada con el valor de R(j, k).\n",
    "        mat: Matriz de booleanos actualizada.\n",
    "    \"\"\"\n",
    "\n",
    "    if calculado[j][k]:\n",
    "        return R, calculado\n",
    "    \n",
    "    # Si no está calculado, lo calculamos recursivamente\n",
    "    if k == 0:\n",
    "        R[j][k] = formula_trapecio_compuesta(f, a, b, 2**j)\n",
    "    else:\n",
    "        R, calculado = calcula_R_Romberg(R, calculado, j, k-1, f, a, b)\n",
    "        R, calculado = calcula_R_Romberg(R, calculado, j-1, k-1, f, a, b)\n",
    "        R[j][k] = (4**k * R[j][k-1] - R[j-1][k-1]) / (4**k - 1)\n",
    "\n",
    "    calculado[j][k] = True\n",
    "    return R, calculado\n"
   ]
  },
  {
   "cell_type": "markdown",
   "id": "cdbbf1f4",
   "metadata": {},
   "source": [
    "Una vez tenemos esta función calculadada, podemos emplearla para codificar la función de integración de Romberg."
   ]
  },
  {
   "cell_type": "code",
   "execution_count": 39,
   "id": "9a93da4b",
   "metadata": {},
   "outputs": [],
   "source": [
    "def Romberg(f, a, b, tol=1e-6):\n",
    "    \"\"\"\n",
    "    Función que calcula la integral numérica de una función en un intervalo dado utilizando el método de Romberg.\n",
    "\n",
    "    Args:\n",
    "        f (function): Función cuya integral se va a aproximar.\n",
    "        a (float): Límite inferior del intervalo.\n",
    "        b (float): Límite superior del intervalo.\n",
    "        tol (float): Tolerancia para el error. Por defecto es 1e-6.\n",
    "\n",
    "    Returns:\n",
    "        float: Valor aproximado de la integral en el intervalo [a, b].\n",
    "        matriz: Matriz R con los valores de R(j, k).\n",
    "        matriz: Matriz de booleanos que indica si R(j, k) ya ha sido calculado.\n",
    "    \"\"\"\n",
    "\n",
    "    n = 0\n",
    "    R = [[0]]\n",
    "    calculado = [[False]]\n",
    "    R, calculado = calcula_R_Romberg(R, calculado, 0, 0, f, a, b)\n",
    "    x_n = R[0][0]\n",
    "\n",
    "    \n",
    "    n += 1\n",
    "    x_ant = x_n\n",
    "    R.append([0] * (n + 1))\n",
    "    calculado.append([False] * (n + 1))\n",
    "    R, calculado = calcula_R_Romberg(R, calculado, n, n, f, a, b)\n",
    "    x_n = R[n][n]\n",
    "\n",
    "    while (abs(x_n - x_ant) > tol):\n",
    "        n += 1\n",
    "        x_ant = x_n\n",
    "        R.append([0] * (n + 1))\n",
    "        calculado.append([False] * (n + 1))\n",
    "        R, calculado = calcula_R_Romberg(R, calculado, n, n, f, a, b)\n",
    "        x_n = R[n][n]\n",
    "\n",
    "    \n",
    "    return x_n,R,calculado\n"
   ]
  },
  {
   "cell_type": "markdown",
   "id": "9640ff29",
   "metadata": {},
   "source": [
    "Veamos que efectivamente funciona con el siguiente ejemplo."
   ]
  },
  {
   "cell_type": "code",
   "execution_count": 40,
   "id": "2a7e65ed",
   "metadata": {},
   "outputs": [
    {
     "name": "stdout",
     "output_type": "stream",
     "text": [
      "- Valor exacto: 2*atan(5) = 2.746801533890032\n",
      "- Aproximación: 2.7468015343460155\n",
      "\n",
      "Matriz R de integración de Romberg:\n",
      "0.384615   \n",
      "5.192308   6.794872   \n",
      "3.285809   2.650309   2.374005   \n",
      "2.784489   2.617383   2.615188   2.619016   \n",
      "2.746112   2.733319   2.741048   2.743046   2.743532   \n",
      "2.746561   2.746711   2.747603   2.747708   2.747726   2.747730   \n",
      "2.746741   2.746801   2.746808   2.746795   2.746791   2.746790   2.746790   \n",
      "2.746786   2.746802   2.746802   2.746801   2.746801   2.746801   2.746801   2.746801   \n",
      "2.746798   2.746802   2.746802   2.746802   2.746802   2.746802   2.746802   2.746802   2.746802   \n"
     ]
    }
   ],
   "source": [
    "f = lambda x: 1/(1 + x**2)\n",
    "\n",
    "valor_exacto = sp.integrate(f(x), (x, -5, 5))\n",
    "valor_aproximado, R, calculado = Romberg(f, -5, 5)\n",
    "print(f\"- Valor exacto: {valor_exacto} = {float(valor_exacto)}\")\n",
    "print(f\"- Aproximación: {valor_aproximado}\")\n",
    "\n",
    "# Imprimir la matriz R\n",
    "print(\"\\nMatriz R de integración de Romberg:\")\n",
    "for i in range(len(R)):\n",
    "    for j in range(len(R[i])):\n",
    "        if calculado[i][j]:\n",
    "            print(f\"{R[i][j]:<10.6f}\", end=' ')\n",
    "        else:\n",
    "            print(\"X         \", end=' ')\n",
    "    print()"
   ]
  },
  {
   "cell_type": "markdown",
   "id": "e1210b5a",
   "metadata": {},
   "source": [
    "Codificamos ahora la función de integración adaptativa, que tiene un claro carácter recursivo."
   ]
  },
  {
   "cell_type": "code",
   "execution_count": 41,
   "id": "c7f1cdac",
   "metadata": {},
   "outputs": [],
   "source": [
    "def IntegracionAdaptativa(f, a, b, tol=1e-6):\n",
    "    \"\"\"\n",
    "    Función que calcula la integral numérica de una función en un intervalo dado utilizando el método de integración adaptativa.\n",
    "\n",
    "    Args:\n",
    "        f (function): Función cuya integral se va a aproximar.\n",
    "        a (float): Límite inferior del intervalo.\n",
    "        b (float): Límite superior del intervalo.\n",
    "        tol (float): Tolerancia para el error. Por defecto es 1e-6.\n",
    "\n",
    "    Returns:\n",
    "        float: Valor aproximado de la integral en el intervalo [a, b].\n",
    "    \"\"\"\n",
    "\n",
    "    m = (a + b) / 2  # Punto medio del intervalo\n",
    "    S_a_b = formula_simpson_compuesta(f, a, b, 1)\n",
    "    S_a_m = formula_simpson_compuesta(f, a, m, 1)\n",
    "    S_m_b = formula_simpson_compuesta(f, m, b, 1)\n",
    "\n",
    "    if (abs(S_a_b - (S_a_m + S_m_b)) < tol):\n",
    "        return S_a_b\n",
    "    else:\n",
    "        return IntegracionAdaptativa(f, a, m, tol/2) + IntegracionAdaptativa(f, m, b, tol/2)\n"
   ]
  },
  {
   "cell_type": "code",
   "execution_count": 42,
   "id": "4ddb85b8",
   "metadata": {},
   "outputs": [
    {
     "name": "stdout",
     "output_type": "stream",
     "text": [
      "- Valor exacto: 2*atan(5) = 2.746801533890032\n",
      "- Aproximación: 2.746801737292458\n"
     ]
    }
   ],
   "source": [
    "valor_exacto = sp.integrate(f(x), (x, -5, 5))\n",
    "valor_aproximado = IntegracionAdaptativa(f, -5, 5)\n",
    "print(f\"- Valor exacto: {valor_exacto} = {float(valor_exacto)}\")\n",
    "print(f\"- Aproximación: {valor_aproximado}\")"
   ]
  },
  {
   "cell_type": "markdown",
   "id": "d0fe5e2e",
   "metadata": {},
   "source": [
    "Comprobamos ahora el funcionamiento de la función con el ejemplo propuesto. Al igual que hicimos con la primera práctica, empleamos el método de Newton-Horner para evaluar el polinomio."
   ]
  },
  {
   "cell_type": "code",
   "execution_count": 43,
   "id": "aeb924e7",
   "metadata": {},
   "outputs": [],
   "source": [
    "def NewtonHorner (coeficientes, x):\n",
    "    \"\"\"\n",
    "    Método de Horner para evaluar un polinomio.\n",
    "\n",
    "    Args:\n",
    "        coeficientes (list): Coeficientes del polinomio.\n",
    "        x (float): Valor en el que se evalúa el polinomio.\n",
    "\n",
    "    Returns:\n",
    "        float: Valor del polinomio evaluado en x.\n",
    "    \"\"\"\n",
    "    resultado_f = coeficientes[0]\n",
    "    for i in range(1, len(coeficientes)):\n",
    "        resultado_f = resultado_f * x + coeficientes[i]\n",
    "    return resultado_f"
   ]
  },
  {
   "cell_type": "code",
   "execution_count": null,
   "id": "d131088d",
   "metadata": {},
   "outputs": [],
   "source": [
    "DNI = [0,1,2,3,4,5,6,7]\n",
    "def f(x):\n",
    "    \"\"\"\n",
    "    Función para calcular numéricamente el polinomio formado por los dígitos del DNI\n",
    "    \"\"\"\n",
    "    return NewtonHorner(DNI[::-1],x)"
   ]
  },
  {
   "cell_type": "markdown",
   "id": "d47f8d59",
   "metadata": {},
   "source": [
    "Comprobamos ahora por tanto el funcionamiento de ambos métodos de integración con el ejemplo propuesto. Como vemos, ambos métodos convergen a un valor muy cercano al valor real de la integral, aunque el método adaptativo es más preciso."
   ]
  },
  {
   "cell_type": "code",
   "execution_count": 49,
   "id": "fd2ea05f",
   "metadata": {},
   "outputs": [
    {
     "name": "stdout",
     "output_type": "stream",
     "text": [
      "- Valor exacto: 1341509113/120 = 11179242.608333332\n",
      "\t - Error: 1.86264514923096E-9\n",
      "- Aproximación de Romberg: 11179242.608333334\n",
      "\t - Error: 3.74391674995422E-7\n",
      "- Aproximación de Integración Adaptativa: 11179242.608333707\n",
      "\t - Error: 3.74391674995422E-7\n"
     ]
    }
   ],
   "source": [
    "a = min(DNI)\n",
    "b = max(DNI)\n",
    "romberg, _, _ = Romberg(f, a,b)\n",
    "adaptativa = IntegracionAdaptativa(f, a,b)\n",
    "valor_exacto = sp.integrate(f(x), (x, a, b))\n",
    "\n",
    "print(f\"- Valor exacto: {valor_exacto} = {float(valor_exacto)}\")\n",
    "print(f\"\\t - Error: {abs(valor_exacto - romberg)}\")\n",
    "print(f\"- Aproximación de Romberg: {romberg}\")\n",
    "print(f\"\\t - Error: {abs(valor_exacto - adaptativa)}\")\n",
    "print(f\"- Aproximación de Integración Adaptativa: {adaptativa}\")\n",
    "print(f\"\\t - Error: {abs(valor_exacto - adaptativa)}\")\n"
   ]
  },
  {
   "cell_type": "markdown",
   "metadata": {},
   "source": [
    "## Ejercicio 10"
   ]
  },
  {
   "cell_type": "markdown",
   "id": "5d0b925b",
   "metadata": {},
   "source": [
    "> **Ejercicio 10:** Calcule la misma integral del ejercicio 9 pero utilizando la orden `quad` y compare los resultados de la integración Romberg y adaptativa manuales con los de la orden `quad`."
   ]
  },
  {
   "cell_type": "code",
   "execution_count": 54,
   "id": "bc248a21",
   "metadata": {},
   "outputs": [
    {
     "name": "stdout",
     "output_type": "stream",
     "text": [
      "- Aproximación Numérica de Scipy: 11179242.608333707\n",
      "\t- Error:                              1.86264514923096E-9\n",
      "\t- Cota del Error:                     1.2411452541642254e-07\n",
      "\t- Dif. con Romberg:                   3.725290298461914e-09\n",
      "\t- Dif. con Integración Adaptativa:    3.762543201446533e-07\n"
     ]
    }
   ],
   "source": [
    "from scipy.integrate import quad, dblquad, tplquad\n",
    "\n",
    "val, abserr = quad(f, a, b)\n",
    "print(f\"- Aproximación Numérica de Scipy: {adaptativa}\")\n",
    "print(f\"\\t- Error:                              {abs(valor_exacto - val)}\")\n",
    "print(f\"\\t- Cota del Error:                     {abserr}\")\n",
    "print(f\"\\t- Dif. con Romberg:                   {abs(romberg - val)}\")\n",
    "print(f\"\\t- Dif. con Integración Adaptativa:    {abs(adaptativa - val)}\")"
   ]
  },
  {
   "cell_type": "markdown",
   "id": "7dbd2939",
   "metadata": {},
   "source": [
    "Vemos que las tres opciones son muy precisas, aunque la Integración Adaptativa difiere ligeramente de las otras dos."
   ]
  }
 ],
 "metadata": {
  "kernelspec": {
   "display_name": "venv",
   "language": "python",
   "name": "python3"
  },
  "language_info": {
   "codemirror_mode": {
    "name": "ipython",
    "version": 3
   },
   "file_extension": ".py",
   "mimetype": "text/x-python",
   "name": "python",
   "nbconvert_exporter": "python",
   "pygments_lexer": "ipython3",
   "version": "3.12.3"
  }
 },
 "nbformat": 4,
 "nbformat_minor": 5
}
